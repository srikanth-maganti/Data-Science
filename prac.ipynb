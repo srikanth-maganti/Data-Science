{
 "cells": [
  {
   "cell_type": "markdown",
   "id": "1d19aea1",
   "metadata": {},
   "source": [
    "# NUMPY"
   ]
  },
  {
   "cell_type": "code",
   "execution_count": 1,
   "id": "053b64e4",
   "metadata": {},
   "outputs": [],
   "source": [
    "from array import *\n",
    "ar=array('i',[1,2,3,4])\n"
   ]
  },
  {
   "cell_type": "code",
   "execution_count": 2,
   "id": "b99de5a7",
   "metadata": {},
   "outputs": [
    {
     "data": {
      "text/plain": [
       "array('i', [1, 2, 3, 4])"
      ]
     },
     "execution_count": 2,
     "metadata": {},
     "output_type": "execute_result"
    }
   ],
   "source": [
    "ar\n"
   ]
  },
  {
   "cell_type": "code",
   "execution_count": 3,
   "id": "7dac0519",
   "metadata": {},
   "outputs": [
    {
     "name": "stdout",
     "output_type": "stream",
     "text": [
      "1\n",
      "2\n",
      "3\n",
      "4\n"
     ]
    }
   ],
   "source": [
    "for i in ar:print(i)"
   ]
  },
  {
   "cell_type": "code",
   "execution_count": 4,
   "id": "12c0327e",
   "metadata": {},
   "outputs": [
    {
     "data": {
      "text/plain": [
       "96"
      ]
     },
     "execution_count": 4,
     "metadata": {},
     "output_type": "execute_result"
    }
   ],
   "source": [
    "import sys\n",
    "sys.getsizeof(ar)"
   ]
  },
  {
   "cell_type": "code",
   "execution_count": 5,
   "id": "cfb01762",
   "metadata": {},
   "outputs": [],
   "source": [
    "import numpy as np"
   ]
  },
  {
   "cell_type": "code",
   "execution_count": 6,
   "id": "28fe4887",
   "metadata": {},
   "outputs": [],
   "source": [
    "arr=np.array([1,2,3,4],dtype=int)"
   ]
  },
  {
   "cell_type": "code",
   "execution_count": 7,
   "id": "d5009371",
   "metadata": {},
   "outputs": [
    {
     "data": {
      "text/plain": [
       "array([1, 2, 3, 4])"
      ]
     },
     "execution_count": 7,
     "metadata": {},
     "output_type": "execute_result"
    }
   ],
   "source": [
    "arr"
   ]
  },
  {
   "cell_type": "code",
   "execution_count": 8,
   "id": "e5ca7aa0",
   "metadata": {},
   "outputs": [
    {
     "data": {
      "text/plain": [
       "4"
      ]
     },
     "execution_count": 8,
     "metadata": {},
     "output_type": "execute_result"
    }
   ],
   "source": [
    "arr.size\n"
   ]
  },
  {
   "cell_type": "code",
   "execution_count": 9,
   "id": "a6a6fd86",
   "metadata": {},
   "outputs": [
    {
     "data": {
      "text/plain": [
       "16"
      ]
     },
     "execution_count": 9,
     "metadata": {},
     "output_type": "execute_result"
    }
   ],
   "source": [
    "arr.nbytes\n"
   ]
  },
  {
   "cell_type": "code",
   "execution_count": 10,
   "id": "e0dee822",
   "metadata": {},
   "outputs": [
    {
     "data": {
      "text/plain": [
       "numpy.ndarray"
      ]
     },
     "execution_count": 10,
     "metadata": {},
     "output_type": "execute_result"
    }
   ],
   "source": [
    "type(arr)"
   ]
  },
  {
   "cell_type": "code",
   "execution_count": 11,
   "id": "590baaf7",
   "metadata": {},
   "outputs": [
    {
     "data": {
      "text/plain": [
       "4"
      ]
     },
     "execution_count": 11,
     "metadata": {},
     "output_type": "execute_result"
    }
   ],
   "source": [
    "len(arr)"
   ]
  },
  {
   "cell_type": "code",
   "execution_count": 12,
   "id": "86bd71b3",
   "metadata": {},
   "outputs": [
    {
     "data": {
      "text/plain": [
       "1"
      ]
     },
     "execution_count": 12,
     "metadata": {},
     "output_type": "execute_result"
    }
   ],
   "source": [
    "arr.ndim"
   ]
  },
  {
   "cell_type": "code",
   "execution_count": 13,
   "id": "b31457b2",
   "metadata": {},
   "outputs": [
    {
     "data": {
      "text/plain": [
       "(4,)"
      ]
     },
     "execution_count": 13,
     "metadata": {},
     "output_type": "execute_result"
    }
   ],
   "source": [
    "arr.shape"
   ]
  },
  {
   "cell_type": "code",
   "execution_count": 14,
   "id": "7d0d9f39",
   "metadata": {},
   "outputs": [
    {
     "data": {
      "text/plain": [
       "array([[1, 2],\n",
       "       [3, 4]])"
      ]
     },
     "execution_count": 14,
     "metadata": {},
     "output_type": "execute_result"
    }
   ],
   "source": [
    "arr.reshape(2,2)"
   ]
  },
  {
   "cell_type": "code",
   "execution_count": 15,
   "id": "c0539989",
   "metadata": {},
   "outputs": [
    {
     "data": {
      "text/plain": [
       "array([[1],\n",
       "       [2],\n",
       "       [3],\n",
       "       [4]])"
      ]
     },
     "execution_count": 15,
     "metadata": {},
     "output_type": "execute_result"
    }
   ],
   "source": [
    "arr.reshape(4,1)"
   ]
  },
  {
   "cell_type": "code",
   "execution_count": 16,
   "id": "d6fa6d1d",
   "metadata": {},
   "outputs": [
    {
     "data": {
      "text/plain": [
       "array([[1, 2],\n",
       "       [3, 4]])"
      ]
     },
     "execution_count": 16,
     "metadata": {},
     "output_type": "execute_result"
    }
   ],
   "source": [
    "arr.reshape(2,-1)"
   ]
  },
  {
   "cell_type": "code",
   "execution_count": 17,
   "id": "0c0af381",
   "metadata": {},
   "outputs": [],
   "source": [
    "arr.shape=(2,2)"
   ]
  },
  {
   "cell_type": "code",
   "execution_count": 18,
   "id": "43759293",
   "metadata": {},
   "outputs": [
    {
     "data": {
      "text/plain": [
       "array([[1, 2],\n",
       "       [3, 4]])"
      ]
     },
     "execution_count": 18,
     "metadata": {},
     "output_type": "execute_result"
    }
   ],
   "source": [
    "arr"
   ]
  },
  {
   "cell_type": "code",
   "execution_count": 19,
   "id": "210c5e8c",
   "metadata": {},
   "outputs": [],
   "source": [
    "x=[1,2,3]\n",
    "y=[3,4,5]\n",
    "z=[5,6,7]\n",
    "ashaya=np.array([x,y,z])"
   ]
  },
  {
   "cell_type": "code",
   "execution_count": 20,
   "id": "c5b3ba9e",
   "metadata": {},
   "outputs": [
    {
     "data": {
      "text/plain": [
       "array([[1, 2, 3],\n",
       "       [3, 4, 5],\n",
       "       [5, 6, 7]])"
      ]
     },
     "execution_count": 20,
     "metadata": {},
     "output_type": "execute_result"
    }
   ],
   "source": [
    "ashaya\n"
   ]
  },
  {
   "cell_type": "code",
   "execution_count": 21,
   "id": "0aa540ce",
   "metadata": {},
   "outputs": [],
   "source": [
    "r=range(1,10,2)"
   ]
  },
  {
   "cell_type": "code",
   "execution_count": 22,
   "id": "6f1593d1",
   "metadata": {},
   "outputs": [
    {
     "data": {
      "text/plain": [
       "range(1, 10, 2)"
      ]
     },
     "execution_count": 22,
     "metadata": {},
     "output_type": "execute_result"
    }
   ],
   "source": [
    "r"
   ]
  },
  {
   "cell_type": "code",
   "execution_count": 23,
   "id": "aae65f8a",
   "metadata": {},
   "outputs": [
    {
     "name": "stdout",
     "output_type": "stream",
     "text": [
      "1\n",
      "3\n",
      "5\n",
      "7\n",
      "9\n"
     ]
    }
   ],
   "source": [
    "for i in r:print(i)"
   ]
  },
  {
   "cell_type": "code",
   "execution_count": 24,
   "id": "08e0ff6c",
   "metadata": {},
   "outputs": [
    {
     "data": {
      "text/plain": [
       "9"
      ]
     },
     "execution_count": 24,
     "metadata": {},
     "output_type": "execute_result"
    }
   ],
   "source": [
    "r[4]"
   ]
  },
  {
   "cell_type": "code",
   "execution_count": 25,
   "id": "6ceb3d04",
   "metadata": {},
   "outputs": [
    {
     "data": {
      "text/plain": [
       "14"
      ]
     },
     "execution_count": 25,
     "metadata": {},
     "output_type": "execute_result"
    }
   ],
   "source": [
    "r[3]*2\n"
   ]
  },
  {
   "cell_type": "code",
   "execution_count": 26,
   "id": "bb2dc39f",
   "metadata": {},
   "outputs": [
    {
     "name": "stdout",
     "output_type": "stream",
     "text": [
      "1\n",
      "3\n",
      "5\n",
      "7\n",
      "9\n"
     ]
    }
   ],
   "source": [
    "for i in r:print(i)"
   ]
  },
  {
   "cell_type": "code",
   "execution_count": 27,
   "id": "7877fc5b",
   "metadata": {},
   "outputs": [
    {
     "data": {
      "text/plain": [
       "48"
      ]
     },
     "execution_count": 27,
     "metadata": {},
     "output_type": "execute_result"
    }
   ],
   "source": [
    "sys.getsizeof(r)"
   ]
  },
  {
   "cell_type": "code",
   "execution_count": 28,
   "id": "ad35b045",
   "metadata": {},
   "outputs": [],
   "source": [
    "rr=np.arange(1,10,2)"
   ]
  },
  {
   "cell_type": "code",
   "execution_count": 29,
   "id": "dde9070e",
   "metadata": {},
   "outputs": [
    {
     "data": {
      "text/plain": [
       "20"
      ]
     },
     "execution_count": 29,
     "metadata": {},
     "output_type": "execute_result"
    }
   ],
   "source": [
    "rr.nbytes"
   ]
  },
  {
   "cell_type": "code",
   "execution_count": 30,
   "id": "94f2d251",
   "metadata": {},
   "outputs": [],
   "source": [
    "rrr=np.arange(24)"
   ]
  },
  {
   "cell_type": "code",
   "execution_count": 31,
   "id": "95f91036",
   "metadata": {},
   "outputs": [
    {
     "data": {
      "text/plain": [
       "array([[[ 0],\n",
       "        [ 1],\n",
       "        [ 2],\n",
       "        [ 3]],\n",
       "\n",
       "       [[ 4],\n",
       "        [ 5],\n",
       "        [ 6],\n",
       "        [ 7]],\n",
       "\n",
       "       [[ 8],\n",
       "        [ 9],\n",
       "        [10],\n",
       "        [11]],\n",
       "\n",
       "       [[12],\n",
       "        [13],\n",
       "        [14],\n",
       "        [15]],\n",
       "\n",
       "       [[16],\n",
       "        [17],\n",
       "        [18],\n",
       "        [19]],\n",
       "\n",
       "       [[20],\n",
       "        [21],\n",
       "        [22],\n",
       "        [23]]])"
      ]
     },
     "execution_count": 31,
     "metadata": {},
     "output_type": "execute_result"
    }
   ],
   "source": [
    "rrr.reshape(6,4,1)"
   ]
  },
  {
   "cell_type": "code",
   "execution_count": 32,
   "id": "734800bc",
   "metadata": {},
   "outputs": [
    {
     "data": {
      "text/plain": [
       "array([3, 9, 9])"
      ]
     },
     "execution_count": 32,
     "metadata": {},
     "output_type": "execute_result"
    }
   ],
   "source": [
    "a=np.array([1,4,3])\n",
    "b=np.array([2,5,6])\n",
    "np.add(a,b)"
   ]
  },
  {
   "cell_type": "code",
   "execution_count": 33,
   "id": "8b841d61",
   "metadata": {},
   "outputs": [
    {
     "data": {
      "text/plain": [
       "array([ 2, 20, 18])"
      ]
     },
     "execution_count": 33,
     "metadata": {},
     "output_type": "execute_result"
    }
   ],
   "source": [
    "np.multiply(a,b)"
   ]
  },
  {
   "cell_type": "code",
   "execution_count": 34,
   "id": "dc425f01",
   "metadata": {},
   "outputs": [],
   "source": [
    "s=np.array([[1,2],[3,4]])"
   ]
  },
  {
   "cell_type": "code",
   "execution_count": 35,
   "id": "29d8d663",
   "metadata": {},
   "outputs": [
    {
     "data": {
      "text/plain": [
       "array([[1, 2],\n",
       "       [3, 4]])"
      ]
     },
     "execution_count": 35,
     "metadata": {},
     "output_type": "execute_result"
    }
   ],
   "source": [
    "s"
   ]
  },
  {
   "cell_type": "code",
   "execution_count": 36,
   "id": "c2733ea2",
   "metadata": {},
   "outputs": [
    {
     "data": {
      "text/plain": [
       "10"
      ]
     },
     "execution_count": 36,
     "metadata": {},
     "output_type": "execute_result"
    }
   ],
   "source": [
    "np.sum(s)"
   ]
  },
  {
   "cell_type": "code",
   "execution_count": 37,
   "id": "d7b45ac9",
   "metadata": {},
   "outputs": [
    {
     "data": {
      "text/plain": [
       "array([4, 6])"
      ]
     },
     "execution_count": 37,
     "metadata": {},
     "output_type": "execute_result"
    }
   ],
   "source": [
    "np.sum(s,axis=0)"
   ]
  },
  {
   "cell_type": "markdown",
   "id": "586e71ac",
   "metadata": {},
   "source": [
    "# PANDAS"
   ]
  },
  {
   "cell_type": "code",
   "execution_count": 38,
   "id": "e6b0e405",
   "metadata": {},
   "outputs": [],
   "source": [
    "import pandas as pd"
   ]
  },
  {
   "cell_type": "code",
   "execution_count": 39,
   "id": "1a8f225c",
   "metadata": {},
   "outputs": [],
   "source": [
    "import os"
   ]
  },
  {
   "cell_type": "code",
   "execution_count": 41,
   "id": "d848d090",
   "metadata": {},
   "outputs": [],
   "source": [
    "data_csv=pd.read_csv(\"D:\\Data Science\\Toyota.csv\",index_col=0,na_values=[\"??\"])"
   ]
  },
  {
   "cell_type": "code",
   "execution_count": 42,
   "id": "a793e51b",
   "metadata": {},
   "outputs": [
    {
     "data": {
      "text/html": [
       "<div>\n",
       "<style scoped>\n",
       "    .dataframe tbody tr th:only-of-type {\n",
       "        vertical-align: middle;\n",
       "    }\n",
       "\n",
       "    .dataframe tbody tr th {\n",
       "        vertical-align: top;\n",
       "    }\n",
       "\n",
       "    .dataframe thead th {\n",
       "        text-align: right;\n",
       "    }\n",
       "</style>\n",
       "<table border=\"1\" class=\"dataframe\">\n",
       "  <thead>\n",
       "    <tr style=\"text-align: right;\">\n",
       "      <th></th>\n",
       "      <th>Price</th>\n",
       "      <th>Age</th>\n",
       "      <th>KM</th>\n",
       "      <th>FuelType</th>\n",
       "      <th>HP</th>\n",
       "      <th>MetColor</th>\n",
       "      <th>Automatic</th>\n",
       "      <th>CC</th>\n",
       "      <th>Doors</th>\n",
       "      <th>Weight</th>\n",
       "    </tr>\n",
       "  </thead>\n",
       "  <tbody>\n",
       "    <tr>\n",
       "      <th>0</th>\n",
       "      <td>13500</td>\n",
       "      <td>23.0</td>\n",
       "      <td>46986.0</td>\n",
       "      <td>Diesel</td>\n",
       "      <td>90</td>\n",
       "      <td>1.0</td>\n",
       "      <td>0</td>\n",
       "      <td>2000</td>\n",
       "      <td>three</td>\n",
       "      <td>1165</td>\n",
       "    </tr>\n",
       "    <tr>\n",
       "      <th>1</th>\n",
       "      <td>13750</td>\n",
       "      <td>23.0</td>\n",
       "      <td>72937.0</td>\n",
       "      <td>Diesel</td>\n",
       "      <td>90</td>\n",
       "      <td>1.0</td>\n",
       "      <td>0</td>\n",
       "      <td>2000</td>\n",
       "      <td>3</td>\n",
       "      <td>1165</td>\n",
       "    </tr>\n",
       "    <tr>\n",
       "      <th>2</th>\n",
       "      <td>13950</td>\n",
       "      <td>24.0</td>\n",
       "      <td>41711.0</td>\n",
       "      <td>Diesel</td>\n",
       "      <td>90</td>\n",
       "      <td>NaN</td>\n",
       "      <td>0</td>\n",
       "      <td>2000</td>\n",
       "      <td>3</td>\n",
       "      <td>1165</td>\n",
       "    </tr>\n",
       "    <tr>\n",
       "      <th>3</th>\n",
       "      <td>14950</td>\n",
       "      <td>26.0</td>\n",
       "      <td>48000.0</td>\n",
       "      <td>Diesel</td>\n",
       "      <td>90</td>\n",
       "      <td>0.0</td>\n",
       "      <td>0</td>\n",
       "      <td>2000</td>\n",
       "      <td>3</td>\n",
       "      <td>1165</td>\n",
       "    </tr>\n",
       "    <tr>\n",
       "      <th>4</th>\n",
       "      <td>13750</td>\n",
       "      <td>30.0</td>\n",
       "      <td>38500.0</td>\n",
       "      <td>Diesel</td>\n",
       "      <td>90</td>\n",
       "      <td>0.0</td>\n",
       "      <td>0</td>\n",
       "      <td>2000</td>\n",
       "      <td>3</td>\n",
       "      <td>1170</td>\n",
       "    </tr>\n",
       "    <tr>\n",
       "      <th>...</th>\n",
       "      <td>...</td>\n",
       "      <td>...</td>\n",
       "      <td>...</td>\n",
       "      <td>...</td>\n",
       "      <td>...</td>\n",
       "      <td>...</td>\n",
       "      <td>...</td>\n",
       "      <td>...</td>\n",
       "      <td>...</td>\n",
       "      <td>...</td>\n",
       "    </tr>\n",
       "    <tr>\n",
       "      <th>1431</th>\n",
       "      <td>7500</td>\n",
       "      <td>NaN</td>\n",
       "      <td>20544.0</td>\n",
       "      <td>Petrol</td>\n",
       "      <td>86</td>\n",
       "      <td>1.0</td>\n",
       "      <td>0</td>\n",
       "      <td>1300</td>\n",
       "      <td>3</td>\n",
       "      <td>1025</td>\n",
       "    </tr>\n",
       "    <tr>\n",
       "      <th>1432</th>\n",
       "      <td>10845</td>\n",
       "      <td>72.0</td>\n",
       "      <td>NaN</td>\n",
       "      <td>Petrol</td>\n",
       "      <td>86</td>\n",
       "      <td>0.0</td>\n",
       "      <td>0</td>\n",
       "      <td>1300</td>\n",
       "      <td>3</td>\n",
       "      <td>1015</td>\n",
       "    </tr>\n",
       "    <tr>\n",
       "      <th>1433</th>\n",
       "      <td>8500</td>\n",
       "      <td>NaN</td>\n",
       "      <td>17016.0</td>\n",
       "      <td>Petrol</td>\n",
       "      <td>86</td>\n",
       "      <td>0.0</td>\n",
       "      <td>0</td>\n",
       "      <td>1300</td>\n",
       "      <td>3</td>\n",
       "      <td>1015</td>\n",
       "    </tr>\n",
       "    <tr>\n",
       "      <th>1434</th>\n",
       "      <td>7250</td>\n",
       "      <td>70.0</td>\n",
       "      <td>NaN</td>\n",
       "      <td>NaN</td>\n",
       "      <td>86</td>\n",
       "      <td>1.0</td>\n",
       "      <td>0</td>\n",
       "      <td>1300</td>\n",
       "      <td>3</td>\n",
       "      <td>1015</td>\n",
       "    </tr>\n",
       "    <tr>\n",
       "      <th>1435</th>\n",
       "      <td>6950</td>\n",
       "      <td>76.0</td>\n",
       "      <td>1.0</td>\n",
       "      <td>Petrol</td>\n",
       "      <td>110</td>\n",
       "      <td>0.0</td>\n",
       "      <td>0</td>\n",
       "      <td>1600</td>\n",
       "      <td>5</td>\n",
       "      <td>1114</td>\n",
       "    </tr>\n",
       "  </tbody>\n",
       "</table>\n",
       "<p>1436 rows × 10 columns</p>\n",
       "</div>"
      ],
      "text/plain": [
       "      Price   Age       KM FuelType   HP  MetColor  Automatic    CC  Doors  \\\n",
       "0     13500  23.0  46986.0   Diesel   90       1.0          0  2000  three   \n",
       "1     13750  23.0  72937.0   Diesel   90       1.0          0  2000      3   \n",
       "2     13950  24.0  41711.0   Diesel   90       NaN          0  2000      3   \n",
       "3     14950  26.0  48000.0   Diesel   90       0.0          0  2000      3   \n",
       "4     13750  30.0  38500.0   Diesel   90       0.0          0  2000      3   \n",
       "...     ...   ...      ...      ...  ...       ...        ...   ...    ...   \n",
       "1431   7500   NaN  20544.0   Petrol   86       1.0          0  1300      3   \n",
       "1432  10845  72.0      NaN   Petrol   86       0.0          0  1300      3   \n",
       "1433   8500   NaN  17016.0   Petrol   86       0.0          0  1300      3   \n",
       "1434   7250  70.0      NaN      NaN   86       1.0          0  1300      3   \n",
       "1435   6950  76.0      1.0   Petrol  110       0.0          0  1600      5   \n",
       "\n",
       "      Weight  \n",
       "0       1165  \n",
       "1       1165  \n",
       "2       1165  \n",
       "3       1165  \n",
       "4       1170  \n",
       "...      ...  \n",
       "1431    1025  \n",
       "1432    1015  \n",
       "1433    1015  \n",
       "1434    1015  \n",
       "1435    1114  \n",
       "\n",
       "[1436 rows x 10 columns]"
      ]
     },
     "execution_count": 42,
     "metadata": {},
     "output_type": "execute_result"
    }
   ],
   "source": [
    "data_csv"
   ]
  },
  {
   "cell_type": "code",
   "execution_count": 43,
   "id": "288c4634",
   "metadata": {},
   "outputs": [],
   "source": [
    "data2=data_csv.copy(deep=False);"
   ]
  },
  {
   "cell_type": "code",
   "execution_count": 44,
   "id": "cc80c5f7",
   "metadata": {},
   "outputs": [
    {
     "data": {
      "text/plain": [
       "Index([   0,    1,    2,    3,    4,    5,    6,    7,    8,    9,\n",
       "       ...\n",
       "       1426, 1427, 1428, 1429, 1430, 1431, 1432, 1433, 1434, 1435],\n",
       "      dtype='int64', length=1436)"
      ]
     },
     "execution_count": 44,
     "metadata": {},
     "output_type": "execute_result"
    }
   ],
   "source": [
    "data2.index"
   ]
  },
  {
   "cell_type": "code",
   "execution_count": 45,
   "id": "f0985005",
   "metadata": {},
   "outputs": [
    {
     "data": {
      "text/plain": [
       "Index(['Price', 'Age', 'KM', 'FuelType', 'HP', 'MetColor', 'Automatic', 'CC',\n",
       "       'Doors', 'Weight'],\n",
       "      dtype='object')"
      ]
     },
     "execution_count": 45,
     "metadata": {},
     "output_type": "execute_result"
    }
   ],
   "source": [
    "data2.columns"
   ]
  },
  {
   "cell_type": "code",
   "execution_count": 46,
   "id": "b050892c",
   "metadata": {},
   "outputs": [
    {
     "data": {
      "text/plain": [
       "14360"
      ]
     },
     "execution_count": 46,
     "metadata": {},
     "output_type": "execute_result"
    }
   ],
   "source": [
    "data2.size"
   ]
  },
  {
   "cell_type": "code",
   "execution_count": 47,
   "id": "50ff4e71",
   "metadata": {},
   "outputs": [
    {
     "data": {
      "text/plain": [
       "(1436, 10)"
      ]
     },
     "execution_count": 47,
     "metadata": {},
     "output_type": "execute_result"
    }
   ],
   "source": [
    "data2.shape"
   ]
  },
  {
   "cell_type": "code",
   "execution_count": 48,
   "id": "ab75f93e",
   "metadata": {},
   "outputs": [
    {
     "data": {
      "text/plain": [
       "Index        11488\n",
       "Price        11488\n",
       "Age          11488\n",
       "KM           11488\n",
       "FuelType     11488\n",
       "HP           11488\n",
       "MetColor     11488\n",
       "Automatic    11488\n",
       "CC           11488\n",
       "Doors        11488\n",
       "Weight       11488\n",
       "dtype: int64"
      ]
     },
     "execution_count": 48,
     "metadata": {},
     "output_type": "execute_result"
    }
   ],
   "source": [
    "data2.memory_usage()"
   ]
  },
  {
   "cell_type": "code",
   "execution_count": 49,
   "id": "4601f6f4",
   "metadata": {},
   "outputs": [
    {
     "data": {
      "text/html": [
       "<div>\n",
       "<style scoped>\n",
       "    .dataframe tbody tr th:only-of-type {\n",
       "        vertical-align: middle;\n",
       "    }\n",
       "\n",
       "    .dataframe tbody tr th {\n",
       "        vertical-align: top;\n",
       "    }\n",
       "\n",
       "    .dataframe thead th {\n",
       "        text-align: right;\n",
       "    }\n",
       "</style>\n",
       "<table border=\"1\" class=\"dataframe\">\n",
       "  <thead>\n",
       "    <tr style=\"text-align: right;\">\n",
       "      <th></th>\n",
       "      <th>Price</th>\n",
       "      <th>Age</th>\n",
       "      <th>KM</th>\n",
       "      <th>FuelType</th>\n",
       "      <th>HP</th>\n",
       "      <th>MetColor</th>\n",
       "      <th>Automatic</th>\n",
       "      <th>CC</th>\n",
       "      <th>Doors</th>\n",
       "      <th>Weight</th>\n",
       "    </tr>\n",
       "  </thead>\n",
       "  <tbody>\n",
       "    <tr>\n",
       "      <th>0</th>\n",
       "      <td>13500</td>\n",
       "      <td>23.0</td>\n",
       "      <td>46986.0</td>\n",
       "      <td>Diesel</td>\n",
       "      <td>90</td>\n",
       "      <td>1.0</td>\n",
       "      <td>0</td>\n",
       "      <td>2000</td>\n",
       "      <td>three</td>\n",
       "      <td>1165</td>\n",
       "    </tr>\n",
       "    <tr>\n",
       "      <th>1</th>\n",
       "      <td>13750</td>\n",
       "      <td>23.0</td>\n",
       "      <td>72937.0</td>\n",
       "      <td>Diesel</td>\n",
       "      <td>90</td>\n",
       "      <td>1.0</td>\n",
       "      <td>0</td>\n",
       "      <td>2000</td>\n",
       "      <td>3</td>\n",
       "      <td>1165</td>\n",
       "    </tr>\n",
       "    <tr>\n",
       "      <th>2</th>\n",
       "      <td>13950</td>\n",
       "      <td>24.0</td>\n",
       "      <td>41711.0</td>\n",
       "      <td>Diesel</td>\n",
       "      <td>90</td>\n",
       "      <td>NaN</td>\n",
       "      <td>0</td>\n",
       "      <td>2000</td>\n",
       "      <td>3</td>\n",
       "      <td>1165</td>\n",
       "    </tr>\n",
       "    <tr>\n",
       "      <th>3</th>\n",
       "      <td>14950</td>\n",
       "      <td>26.0</td>\n",
       "      <td>48000.0</td>\n",
       "      <td>Diesel</td>\n",
       "      <td>90</td>\n",
       "      <td>0.0</td>\n",
       "      <td>0</td>\n",
       "      <td>2000</td>\n",
       "      <td>3</td>\n",
       "      <td>1165</td>\n",
       "    </tr>\n",
       "    <tr>\n",
       "      <th>4</th>\n",
       "      <td>13750</td>\n",
       "      <td>30.0</td>\n",
       "      <td>38500.0</td>\n",
       "      <td>Diesel</td>\n",
       "      <td>90</td>\n",
       "      <td>0.0</td>\n",
       "      <td>0</td>\n",
       "      <td>2000</td>\n",
       "      <td>3</td>\n",
       "      <td>1170</td>\n",
       "    </tr>\n",
       "    <tr>\n",
       "      <th>5</th>\n",
       "      <td>12950</td>\n",
       "      <td>32.0</td>\n",
       "      <td>61000.0</td>\n",
       "      <td>Diesel</td>\n",
       "      <td>90</td>\n",
       "      <td>0.0</td>\n",
       "      <td>0</td>\n",
       "      <td>2000</td>\n",
       "      <td>3</td>\n",
       "      <td>1170</td>\n",
       "    </tr>\n",
       "    <tr>\n",
       "      <th>6</th>\n",
       "      <td>16900</td>\n",
       "      <td>27.0</td>\n",
       "      <td>NaN</td>\n",
       "      <td>Diesel</td>\n",
       "      <td>????</td>\n",
       "      <td>NaN</td>\n",
       "      <td>0</td>\n",
       "      <td>2000</td>\n",
       "      <td>3</td>\n",
       "      <td>1245</td>\n",
       "    </tr>\n",
       "    <tr>\n",
       "      <th>7</th>\n",
       "      <td>18600</td>\n",
       "      <td>30.0</td>\n",
       "      <td>75889.0</td>\n",
       "      <td>NaN</td>\n",
       "      <td>90</td>\n",
       "      <td>1.0</td>\n",
       "      <td>0</td>\n",
       "      <td>2000</td>\n",
       "      <td>3</td>\n",
       "      <td>1245</td>\n",
       "    </tr>\n",
       "    <tr>\n",
       "      <th>8</th>\n",
       "      <td>21500</td>\n",
       "      <td>27.0</td>\n",
       "      <td>19700.0</td>\n",
       "      <td>Petrol</td>\n",
       "      <td>192</td>\n",
       "      <td>0.0</td>\n",
       "      <td>0</td>\n",
       "      <td>1800</td>\n",
       "      <td>3</td>\n",
       "      <td>1185</td>\n",
       "    </tr>\n",
       "    <tr>\n",
       "      <th>9</th>\n",
       "      <td>12950</td>\n",
       "      <td>23.0</td>\n",
       "      <td>71138.0</td>\n",
       "      <td>Diesel</td>\n",
       "      <td>????</td>\n",
       "      <td>NaN</td>\n",
       "      <td>0</td>\n",
       "      <td>1900</td>\n",
       "      <td>3</td>\n",
       "      <td>1105</td>\n",
       "    </tr>\n",
       "  </tbody>\n",
       "</table>\n",
       "</div>"
      ],
      "text/plain": [
       "   Price   Age       KM FuelType    HP  MetColor  Automatic    CC  Doors  \\\n",
       "0  13500  23.0  46986.0   Diesel    90       1.0          0  2000  three   \n",
       "1  13750  23.0  72937.0   Diesel    90       1.0          0  2000      3   \n",
       "2  13950  24.0  41711.0   Diesel    90       NaN          0  2000      3   \n",
       "3  14950  26.0  48000.0   Diesel    90       0.0          0  2000      3   \n",
       "4  13750  30.0  38500.0   Diesel    90       0.0          0  2000      3   \n",
       "5  12950  32.0  61000.0   Diesel    90       0.0          0  2000      3   \n",
       "6  16900  27.0      NaN   Diesel  ????       NaN          0  2000      3   \n",
       "7  18600  30.0  75889.0      NaN    90       1.0          0  2000      3   \n",
       "8  21500  27.0  19700.0   Petrol   192       0.0          0  1800      3   \n",
       "9  12950  23.0  71138.0   Diesel  ????       NaN          0  1900      3   \n",
       "\n",
       "   Weight  \n",
       "0    1165  \n",
       "1    1165  \n",
       "2    1165  \n",
       "3    1165  \n",
       "4    1170  \n",
       "5    1170  \n",
       "6    1245  \n",
       "7    1245  \n",
       "8    1185  \n",
       "9    1105  "
      ]
     },
     "execution_count": 49,
     "metadata": {},
     "output_type": "execute_result"
    }
   ],
   "source": [
    "data2.head(10)"
   ]
  },
  {
   "cell_type": "code",
   "execution_count": 50,
   "id": "a6f6b900",
   "metadata": {},
   "outputs": [
    {
     "data": {
      "text/html": [
       "<div>\n",
       "<style scoped>\n",
       "    .dataframe tbody tr th:only-of-type {\n",
       "        vertical-align: middle;\n",
       "    }\n",
       "\n",
       "    .dataframe tbody tr th {\n",
       "        vertical-align: top;\n",
       "    }\n",
       "\n",
       "    .dataframe thead th {\n",
       "        text-align: right;\n",
       "    }\n",
       "</style>\n",
       "<table border=\"1\" class=\"dataframe\">\n",
       "  <thead>\n",
       "    <tr style=\"text-align: right;\">\n",
       "      <th></th>\n",
       "      <th>Price</th>\n",
       "      <th>Age</th>\n",
       "      <th>KM</th>\n",
       "      <th>FuelType</th>\n",
       "      <th>HP</th>\n",
       "      <th>MetColor</th>\n",
       "      <th>Automatic</th>\n",
       "      <th>CC</th>\n",
       "      <th>Doors</th>\n",
       "      <th>Weight</th>\n",
       "    </tr>\n",
       "  </thead>\n",
       "  <tbody>\n",
       "    <tr>\n",
       "      <th>1431</th>\n",
       "      <td>7500</td>\n",
       "      <td>NaN</td>\n",
       "      <td>20544.0</td>\n",
       "      <td>Petrol</td>\n",
       "      <td>86</td>\n",
       "      <td>1.0</td>\n",
       "      <td>0</td>\n",
       "      <td>1300</td>\n",
       "      <td>3</td>\n",
       "      <td>1025</td>\n",
       "    </tr>\n",
       "    <tr>\n",
       "      <th>1432</th>\n",
       "      <td>10845</td>\n",
       "      <td>72.0</td>\n",
       "      <td>NaN</td>\n",
       "      <td>Petrol</td>\n",
       "      <td>86</td>\n",
       "      <td>0.0</td>\n",
       "      <td>0</td>\n",
       "      <td>1300</td>\n",
       "      <td>3</td>\n",
       "      <td>1015</td>\n",
       "    </tr>\n",
       "    <tr>\n",
       "      <th>1433</th>\n",
       "      <td>8500</td>\n",
       "      <td>NaN</td>\n",
       "      <td>17016.0</td>\n",
       "      <td>Petrol</td>\n",
       "      <td>86</td>\n",
       "      <td>0.0</td>\n",
       "      <td>0</td>\n",
       "      <td>1300</td>\n",
       "      <td>3</td>\n",
       "      <td>1015</td>\n",
       "    </tr>\n",
       "    <tr>\n",
       "      <th>1434</th>\n",
       "      <td>7250</td>\n",
       "      <td>70.0</td>\n",
       "      <td>NaN</td>\n",
       "      <td>NaN</td>\n",
       "      <td>86</td>\n",
       "      <td>1.0</td>\n",
       "      <td>0</td>\n",
       "      <td>1300</td>\n",
       "      <td>3</td>\n",
       "      <td>1015</td>\n",
       "    </tr>\n",
       "    <tr>\n",
       "      <th>1435</th>\n",
       "      <td>6950</td>\n",
       "      <td>76.0</td>\n",
       "      <td>1.0</td>\n",
       "      <td>Petrol</td>\n",
       "      <td>110</td>\n",
       "      <td>0.0</td>\n",
       "      <td>0</td>\n",
       "      <td>1600</td>\n",
       "      <td>5</td>\n",
       "      <td>1114</td>\n",
       "    </tr>\n",
       "  </tbody>\n",
       "</table>\n",
       "</div>"
      ],
      "text/plain": [
       "      Price   Age       KM FuelType   HP  MetColor  Automatic    CC Doors  \\\n",
       "1431   7500   NaN  20544.0   Petrol   86       1.0          0  1300     3   \n",
       "1432  10845  72.0      NaN   Petrol   86       0.0          0  1300     3   \n",
       "1433   8500   NaN  17016.0   Petrol   86       0.0          0  1300     3   \n",
       "1434   7250  70.0      NaN      NaN   86       1.0          0  1300     3   \n",
       "1435   6950  76.0      1.0   Petrol  110       0.0          0  1600     5   \n",
       "\n",
       "      Weight  \n",
       "1431    1025  \n",
       "1432    1015  \n",
       "1433    1015  \n",
       "1434    1015  \n",
       "1435    1114  "
      ]
     },
     "execution_count": 50,
     "metadata": {},
     "output_type": "execute_result"
    }
   ],
   "source": [
    "data2.tail()"
   ]
  },
  {
   "cell_type": "code",
   "execution_count": 51,
   "id": "ccb91a99",
   "metadata": {},
   "outputs": [
    {
     "data": {
      "text/plain": [
       "'Diesel'"
      ]
     },
     "execution_count": 51,
     "metadata": {},
     "output_type": "execute_result"
    }
   ],
   "source": [
    "data2.at[4,\"FuelType\"]"
   ]
  },
  {
   "cell_type": "code",
   "execution_count": 52,
   "id": "060222b8",
   "metadata": {},
   "outputs": [
    {
     "data": {
      "text/plain": [
       "'Diesel'"
      ]
     },
     "execution_count": 52,
     "metadata": {},
     "output_type": "execute_result"
    }
   ],
   "source": [
    "data2.iat[4,3]"
   ]
  },
  {
   "cell_type": "code",
   "execution_count": 53,
   "id": "1f368314",
   "metadata": {},
   "outputs": [
    {
     "data": {
      "text/html": [
       "<div>\n",
       "<style scoped>\n",
       "    .dataframe tbody tr th:only-of-type {\n",
       "        vertical-align: middle;\n",
       "    }\n",
       "\n",
       "    .dataframe tbody tr th {\n",
       "        vertical-align: top;\n",
       "    }\n",
       "\n",
       "    .dataframe thead th {\n",
       "        text-align: right;\n",
       "    }\n",
       "</style>\n",
       "<table border=\"1\" class=\"dataframe\">\n",
       "  <thead>\n",
       "    <tr style=\"text-align: right;\">\n",
       "      <th></th>\n",
       "      <th>Price</th>\n",
       "      <th>Age</th>\n",
       "      <th>KM</th>\n",
       "      <th>FuelType</th>\n",
       "      <th>HP</th>\n",
       "      <th>MetColor</th>\n",
       "      <th>Automatic</th>\n",
       "      <th>CC</th>\n",
       "      <th>Doors</th>\n",
       "      <th>Weight</th>\n",
       "    </tr>\n",
       "  </thead>\n",
       "  <tbody>\n",
       "    <tr>\n",
       "      <th>0</th>\n",
       "      <td>13500</td>\n",
       "      <td>23.0</td>\n",
       "      <td>46986.0</td>\n",
       "      <td>Diesel</td>\n",
       "      <td>90</td>\n",
       "      <td>1.0</td>\n",
       "      <td>0</td>\n",
       "      <td>2000</td>\n",
       "      <td>three</td>\n",
       "      <td>1165</td>\n",
       "    </tr>\n",
       "    <tr>\n",
       "      <th>1</th>\n",
       "      <td>13750</td>\n",
       "      <td>23.0</td>\n",
       "      <td>72937.0</td>\n",
       "      <td>Diesel</td>\n",
       "      <td>90</td>\n",
       "      <td>1.0</td>\n",
       "      <td>0</td>\n",
       "      <td>2000</td>\n",
       "      <td>3</td>\n",
       "      <td>1165</td>\n",
       "    </tr>\n",
       "    <tr>\n",
       "      <th>2</th>\n",
       "      <td>13950</td>\n",
       "      <td>24.0</td>\n",
       "      <td>41711.0</td>\n",
       "      <td>Diesel</td>\n",
       "      <td>90</td>\n",
       "      <td>NaN</td>\n",
       "      <td>0</td>\n",
       "      <td>2000</td>\n",
       "      <td>3</td>\n",
       "      <td>1165</td>\n",
       "    </tr>\n",
       "    <tr>\n",
       "      <th>3</th>\n",
       "      <td>14950</td>\n",
       "      <td>26.0</td>\n",
       "      <td>48000.0</td>\n",
       "      <td>Diesel</td>\n",
       "      <td>90</td>\n",
       "      <td>0.0</td>\n",
       "      <td>0</td>\n",
       "      <td>2000</td>\n",
       "      <td>3</td>\n",
       "      <td>1165</td>\n",
       "    </tr>\n",
       "    <tr>\n",
       "      <th>4</th>\n",
       "      <td>13750</td>\n",
       "      <td>30.0</td>\n",
       "      <td>38500.0</td>\n",
       "      <td>Diesel</td>\n",
       "      <td>90</td>\n",
       "      <td>0.0</td>\n",
       "      <td>0</td>\n",
       "      <td>2000</td>\n",
       "      <td>3</td>\n",
       "      <td>1170</td>\n",
       "    </tr>\n",
       "  </tbody>\n",
       "</table>\n",
       "</div>"
      ],
      "text/plain": [
       "   Price   Age       KM FuelType  HP  MetColor  Automatic    CC  Doors  Weight\n",
       "0  13500  23.0  46986.0   Diesel  90       1.0          0  2000  three    1165\n",
       "1  13750  23.0  72937.0   Diesel  90       1.0          0  2000      3    1165\n",
       "2  13950  24.0  41711.0   Diesel  90       NaN          0  2000      3    1165\n",
       "3  14950  26.0  48000.0   Diesel  90       0.0          0  2000      3    1165\n",
       "4  13750  30.0  38500.0   Diesel  90       0.0          0  2000      3    1170"
      ]
     },
     "execution_count": 53,
     "metadata": {},
     "output_type": "execute_result"
    }
   ],
   "source": [
    "data2.head()\n"
   ]
  },
  {
   "cell_type": "code",
   "execution_count": 54,
   "id": "ec2e2b45",
   "metadata": {},
   "outputs": [],
   "source": [
    "data2.iat[0,1]=1340"
   ]
  },
  {
   "cell_type": "code",
   "execution_count": 55,
   "id": "5fa6645a",
   "metadata": {},
   "outputs": [
    {
     "data": {
      "text/html": [
       "<div>\n",
       "<style scoped>\n",
       "    .dataframe tbody tr th:only-of-type {\n",
       "        vertical-align: middle;\n",
       "    }\n",
       "\n",
       "    .dataframe tbody tr th {\n",
       "        vertical-align: top;\n",
       "    }\n",
       "\n",
       "    .dataframe thead th {\n",
       "        text-align: right;\n",
       "    }\n",
       "</style>\n",
       "<table border=\"1\" class=\"dataframe\">\n",
       "  <thead>\n",
       "    <tr style=\"text-align: right;\">\n",
       "      <th></th>\n",
       "      <th>Price</th>\n",
       "      <th>Age</th>\n",
       "      <th>KM</th>\n",
       "      <th>FuelType</th>\n",
       "      <th>HP</th>\n",
       "      <th>MetColor</th>\n",
       "      <th>Automatic</th>\n",
       "      <th>CC</th>\n",
       "      <th>Doors</th>\n",
       "      <th>Weight</th>\n",
       "    </tr>\n",
       "  </thead>\n",
       "  <tbody>\n",
       "    <tr>\n",
       "      <th>0</th>\n",
       "      <td>13500</td>\n",
       "      <td>1340.0</td>\n",
       "      <td>46986.0</td>\n",
       "      <td>Diesel</td>\n",
       "      <td>90</td>\n",
       "      <td>1.0</td>\n",
       "      <td>0</td>\n",
       "      <td>2000</td>\n",
       "      <td>three</td>\n",
       "      <td>1165</td>\n",
       "    </tr>\n",
       "    <tr>\n",
       "      <th>1</th>\n",
       "      <td>13750</td>\n",
       "      <td>23.0</td>\n",
       "      <td>72937.0</td>\n",
       "      <td>Diesel</td>\n",
       "      <td>90</td>\n",
       "      <td>1.0</td>\n",
       "      <td>0</td>\n",
       "      <td>2000</td>\n",
       "      <td>3</td>\n",
       "      <td>1165</td>\n",
       "    </tr>\n",
       "    <tr>\n",
       "      <th>2</th>\n",
       "      <td>13950</td>\n",
       "      <td>24.0</td>\n",
       "      <td>41711.0</td>\n",
       "      <td>Diesel</td>\n",
       "      <td>90</td>\n",
       "      <td>NaN</td>\n",
       "      <td>0</td>\n",
       "      <td>2000</td>\n",
       "      <td>3</td>\n",
       "      <td>1165</td>\n",
       "    </tr>\n",
       "    <tr>\n",
       "      <th>3</th>\n",
       "      <td>14950</td>\n",
       "      <td>26.0</td>\n",
       "      <td>48000.0</td>\n",
       "      <td>Diesel</td>\n",
       "      <td>90</td>\n",
       "      <td>0.0</td>\n",
       "      <td>0</td>\n",
       "      <td>2000</td>\n",
       "      <td>3</td>\n",
       "      <td>1165</td>\n",
       "    </tr>\n",
       "    <tr>\n",
       "      <th>4</th>\n",
       "      <td>13750</td>\n",
       "      <td>30.0</td>\n",
       "      <td>38500.0</td>\n",
       "      <td>Diesel</td>\n",
       "      <td>90</td>\n",
       "      <td>0.0</td>\n",
       "      <td>0</td>\n",
       "      <td>2000</td>\n",
       "      <td>3</td>\n",
       "      <td>1170</td>\n",
       "    </tr>\n",
       "  </tbody>\n",
       "</table>\n",
       "</div>"
      ],
      "text/plain": [
       "   Price     Age       KM FuelType  HP  MetColor  Automatic    CC  Doors  \\\n",
       "0  13500  1340.0  46986.0   Diesel  90       1.0          0  2000  three   \n",
       "1  13750    23.0  72937.0   Diesel  90       1.0          0  2000      3   \n",
       "2  13950    24.0  41711.0   Diesel  90       NaN          0  2000      3   \n",
       "3  14950    26.0  48000.0   Diesel  90       0.0          0  2000      3   \n",
       "4  13750    30.0  38500.0   Diesel  90       0.0          0  2000      3   \n",
       "\n",
       "   Weight  \n",
       "0    1165  \n",
       "1    1165  \n",
       "2    1165  \n",
       "3    1165  \n",
       "4    1170  "
      ]
     },
     "execution_count": 55,
     "metadata": {},
     "output_type": "execute_result"
    }
   ],
   "source": [
    "data2.head()"
   ]
  },
  {
   "cell_type": "code",
   "execution_count": 56,
   "id": "669b07d4",
   "metadata": {},
   "outputs": [
    {
     "data": {
      "text/html": [
       "<div>\n",
       "<style scoped>\n",
       "    .dataframe tbody tr th:only-of-type {\n",
       "        vertical-align: middle;\n",
       "    }\n",
       "\n",
       "    .dataframe tbody tr th {\n",
       "        vertical-align: top;\n",
       "    }\n",
       "\n",
       "    .dataframe thead th {\n",
       "        text-align: right;\n",
       "    }\n",
       "</style>\n",
       "<table border=\"1\" class=\"dataframe\">\n",
       "  <thead>\n",
       "    <tr style=\"text-align: right;\">\n",
       "      <th></th>\n",
       "      <th>Price</th>\n",
       "      <th>Age</th>\n",
       "      <th>KM</th>\n",
       "      <th>FuelType</th>\n",
       "      <th>HP</th>\n",
       "      <th>MetColor</th>\n",
       "      <th>Automatic</th>\n",
       "      <th>CC</th>\n",
       "      <th>Doors</th>\n",
       "      <th>Weight</th>\n",
       "    </tr>\n",
       "  </thead>\n",
       "  <tbody>\n",
       "    <tr>\n",
       "      <th>0</th>\n",
       "      <td>13500</td>\n",
       "      <td>1340.0</td>\n",
       "      <td>46986.0</td>\n",
       "      <td>Diesel</td>\n",
       "      <td>90</td>\n",
       "      <td>1.0</td>\n",
       "      <td>0</td>\n",
       "      <td>2000</td>\n",
       "      <td>three</td>\n",
       "      <td>1165</td>\n",
       "    </tr>\n",
       "    <tr>\n",
       "      <th>1</th>\n",
       "      <td>13750</td>\n",
       "      <td>23.0</td>\n",
       "      <td>72937.0</td>\n",
       "      <td>Diesel</td>\n",
       "      <td>90</td>\n",
       "      <td>1.0</td>\n",
       "      <td>0</td>\n",
       "      <td>2000</td>\n",
       "      <td>3</td>\n",
       "      <td>1165</td>\n",
       "    </tr>\n",
       "    <tr>\n",
       "      <th>2</th>\n",
       "      <td>13950</td>\n",
       "      <td>24.0</td>\n",
       "      <td>41711.0</td>\n",
       "      <td>Diesel</td>\n",
       "      <td>90</td>\n",
       "      <td>NaN</td>\n",
       "      <td>0</td>\n",
       "      <td>2000</td>\n",
       "      <td>3</td>\n",
       "      <td>1165</td>\n",
       "    </tr>\n",
       "    <tr>\n",
       "      <th>3</th>\n",
       "      <td>14950</td>\n",
       "      <td>26.0</td>\n",
       "      <td>48000.0</td>\n",
       "      <td>Diesel</td>\n",
       "      <td>90</td>\n",
       "      <td>0.0</td>\n",
       "      <td>0</td>\n",
       "      <td>2000</td>\n",
       "      <td>3</td>\n",
       "      <td>1165</td>\n",
       "    </tr>\n",
       "    <tr>\n",
       "      <th>4</th>\n",
       "      <td>13750</td>\n",
       "      <td>30.0</td>\n",
       "      <td>38500.0</td>\n",
       "      <td>Diesel</td>\n",
       "      <td>90</td>\n",
       "      <td>0.0</td>\n",
       "      <td>0</td>\n",
       "      <td>2000</td>\n",
       "      <td>3</td>\n",
       "      <td>1170</td>\n",
       "    </tr>\n",
       "    <tr>\n",
       "      <th>...</th>\n",
       "      <td>...</td>\n",
       "      <td>...</td>\n",
       "      <td>...</td>\n",
       "      <td>...</td>\n",
       "      <td>...</td>\n",
       "      <td>...</td>\n",
       "      <td>...</td>\n",
       "      <td>...</td>\n",
       "      <td>...</td>\n",
       "      <td>...</td>\n",
       "    </tr>\n",
       "    <tr>\n",
       "      <th>1431</th>\n",
       "      <td>7500</td>\n",
       "      <td>NaN</td>\n",
       "      <td>20544.0</td>\n",
       "      <td>Petrol</td>\n",
       "      <td>86</td>\n",
       "      <td>1.0</td>\n",
       "      <td>0</td>\n",
       "      <td>1300</td>\n",
       "      <td>3</td>\n",
       "      <td>1025</td>\n",
       "    </tr>\n",
       "    <tr>\n",
       "      <th>1432</th>\n",
       "      <td>10845</td>\n",
       "      <td>72.0</td>\n",
       "      <td>NaN</td>\n",
       "      <td>Petrol</td>\n",
       "      <td>86</td>\n",
       "      <td>0.0</td>\n",
       "      <td>0</td>\n",
       "      <td>1300</td>\n",
       "      <td>3</td>\n",
       "      <td>1015</td>\n",
       "    </tr>\n",
       "    <tr>\n",
       "      <th>1433</th>\n",
       "      <td>8500</td>\n",
       "      <td>NaN</td>\n",
       "      <td>17016.0</td>\n",
       "      <td>Petrol</td>\n",
       "      <td>86</td>\n",
       "      <td>0.0</td>\n",
       "      <td>0</td>\n",
       "      <td>1300</td>\n",
       "      <td>3</td>\n",
       "      <td>1015</td>\n",
       "    </tr>\n",
       "    <tr>\n",
       "      <th>1434</th>\n",
       "      <td>7250</td>\n",
       "      <td>70.0</td>\n",
       "      <td>NaN</td>\n",
       "      <td>NaN</td>\n",
       "      <td>86</td>\n",
       "      <td>1.0</td>\n",
       "      <td>0</td>\n",
       "      <td>1300</td>\n",
       "      <td>3</td>\n",
       "      <td>1015</td>\n",
       "    </tr>\n",
       "    <tr>\n",
       "      <th>1435</th>\n",
       "      <td>6950</td>\n",
       "      <td>76.0</td>\n",
       "      <td>1.0</td>\n",
       "      <td>Petrol</td>\n",
       "      <td>110</td>\n",
       "      <td>0.0</td>\n",
       "      <td>0</td>\n",
       "      <td>1600</td>\n",
       "      <td>5</td>\n",
       "      <td>1114</td>\n",
       "    </tr>\n",
       "  </tbody>\n",
       "</table>\n",
       "<p>1436 rows × 10 columns</p>\n",
       "</div>"
      ],
      "text/plain": [
       "      Price     Age       KM FuelType   HP  MetColor  Automatic    CC  Doors  \\\n",
       "0     13500  1340.0  46986.0   Diesel   90       1.0          0  2000  three   \n",
       "1     13750    23.0  72937.0   Diesel   90       1.0          0  2000      3   \n",
       "2     13950    24.0  41711.0   Diesel   90       NaN          0  2000      3   \n",
       "3     14950    26.0  48000.0   Diesel   90       0.0          0  2000      3   \n",
       "4     13750    30.0  38500.0   Diesel   90       0.0          0  2000      3   \n",
       "...     ...     ...      ...      ...  ...       ...        ...   ...    ...   \n",
       "1431   7500     NaN  20544.0   Petrol   86       1.0          0  1300      3   \n",
       "1432  10845    72.0      NaN   Petrol   86       0.0          0  1300      3   \n",
       "1433   8500     NaN  17016.0   Petrol   86       0.0          0  1300      3   \n",
       "1434   7250    70.0      NaN      NaN   86       1.0          0  1300      3   \n",
       "1435   6950    76.0      1.0   Petrol  110       0.0          0  1600      5   \n",
       "\n",
       "      Weight  \n",
       "0       1165  \n",
       "1       1165  \n",
       "2       1165  \n",
       "3       1165  \n",
       "4       1170  \n",
       "...      ...  \n",
       "1431    1025  \n",
       "1432    1015  \n",
       "1433    1015  \n",
       "1434    1015  \n",
       "1435    1114  \n",
       "\n",
       "[1436 rows x 10 columns]"
      ]
     },
     "execution_count": 56,
     "metadata": {},
     "output_type": "execute_result"
    }
   ],
   "source": [
    "data_csv"
   ]
  },
  {
   "cell_type": "code",
   "execution_count": 57,
   "id": "13763517",
   "metadata": {},
   "outputs": [],
   "source": [
    "data3=data_csv.copy(deep=True)"
   ]
  },
  {
   "cell_type": "code",
   "execution_count": 58,
   "id": "7fefe414",
   "metadata": {},
   "outputs": [],
   "source": [
    "data3.iat[0,1]=450"
   ]
  },
  {
   "cell_type": "code",
   "execution_count": 59,
   "id": "c41f770a",
   "metadata": {},
   "outputs": [
    {
     "data": {
      "text/html": [
       "<div>\n",
       "<style scoped>\n",
       "    .dataframe tbody tr th:only-of-type {\n",
       "        vertical-align: middle;\n",
       "    }\n",
       "\n",
       "    .dataframe tbody tr th {\n",
       "        vertical-align: top;\n",
       "    }\n",
       "\n",
       "    .dataframe thead th {\n",
       "        text-align: right;\n",
       "    }\n",
       "</style>\n",
       "<table border=\"1\" class=\"dataframe\">\n",
       "  <thead>\n",
       "    <tr style=\"text-align: right;\">\n",
       "      <th></th>\n",
       "      <th>Price</th>\n",
       "      <th>Age</th>\n",
       "      <th>KM</th>\n",
       "      <th>FuelType</th>\n",
       "      <th>HP</th>\n",
       "      <th>MetColor</th>\n",
       "      <th>Automatic</th>\n",
       "      <th>CC</th>\n",
       "      <th>Doors</th>\n",
       "      <th>Weight</th>\n",
       "    </tr>\n",
       "  </thead>\n",
       "  <tbody>\n",
       "    <tr>\n",
       "      <th>0</th>\n",
       "      <td>13500</td>\n",
       "      <td>450.0</td>\n",
       "      <td>46986.0</td>\n",
       "      <td>Diesel</td>\n",
       "      <td>90</td>\n",
       "      <td>1.0</td>\n",
       "      <td>0</td>\n",
       "      <td>2000</td>\n",
       "      <td>three</td>\n",
       "      <td>1165</td>\n",
       "    </tr>\n",
       "    <tr>\n",
       "      <th>1</th>\n",
       "      <td>13750</td>\n",
       "      <td>23.0</td>\n",
       "      <td>72937.0</td>\n",
       "      <td>Diesel</td>\n",
       "      <td>90</td>\n",
       "      <td>1.0</td>\n",
       "      <td>0</td>\n",
       "      <td>2000</td>\n",
       "      <td>3</td>\n",
       "      <td>1165</td>\n",
       "    </tr>\n",
       "    <tr>\n",
       "      <th>2</th>\n",
       "      <td>13950</td>\n",
       "      <td>24.0</td>\n",
       "      <td>41711.0</td>\n",
       "      <td>Diesel</td>\n",
       "      <td>90</td>\n",
       "      <td>NaN</td>\n",
       "      <td>0</td>\n",
       "      <td>2000</td>\n",
       "      <td>3</td>\n",
       "      <td>1165</td>\n",
       "    </tr>\n",
       "    <tr>\n",
       "      <th>3</th>\n",
       "      <td>14950</td>\n",
       "      <td>26.0</td>\n",
       "      <td>48000.0</td>\n",
       "      <td>Diesel</td>\n",
       "      <td>90</td>\n",
       "      <td>0.0</td>\n",
       "      <td>0</td>\n",
       "      <td>2000</td>\n",
       "      <td>3</td>\n",
       "      <td>1165</td>\n",
       "    </tr>\n",
       "    <tr>\n",
       "      <th>4</th>\n",
       "      <td>13750</td>\n",
       "      <td>30.0</td>\n",
       "      <td>38500.0</td>\n",
       "      <td>Diesel</td>\n",
       "      <td>90</td>\n",
       "      <td>0.0</td>\n",
       "      <td>0</td>\n",
       "      <td>2000</td>\n",
       "      <td>3</td>\n",
       "      <td>1170</td>\n",
       "    </tr>\n",
       "    <tr>\n",
       "      <th>...</th>\n",
       "      <td>...</td>\n",
       "      <td>...</td>\n",
       "      <td>...</td>\n",
       "      <td>...</td>\n",
       "      <td>...</td>\n",
       "      <td>...</td>\n",
       "      <td>...</td>\n",
       "      <td>...</td>\n",
       "      <td>...</td>\n",
       "      <td>...</td>\n",
       "    </tr>\n",
       "    <tr>\n",
       "      <th>1431</th>\n",
       "      <td>7500</td>\n",
       "      <td>NaN</td>\n",
       "      <td>20544.0</td>\n",
       "      <td>Petrol</td>\n",
       "      <td>86</td>\n",
       "      <td>1.0</td>\n",
       "      <td>0</td>\n",
       "      <td>1300</td>\n",
       "      <td>3</td>\n",
       "      <td>1025</td>\n",
       "    </tr>\n",
       "    <tr>\n",
       "      <th>1432</th>\n",
       "      <td>10845</td>\n",
       "      <td>72.0</td>\n",
       "      <td>NaN</td>\n",
       "      <td>Petrol</td>\n",
       "      <td>86</td>\n",
       "      <td>0.0</td>\n",
       "      <td>0</td>\n",
       "      <td>1300</td>\n",
       "      <td>3</td>\n",
       "      <td>1015</td>\n",
       "    </tr>\n",
       "    <tr>\n",
       "      <th>1433</th>\n",
       "      <td>8500</td>\n",
       "      <td>NaN</td>\n",
       "      <td>17016.0</td>\n",
       "      <td>Petrol</td>\n",
       "      <td>86</td>\n",
       "      <td>0.0</td>\n",
       "      <td>0</td>\n",
       "      <td>1300</td>\n",
       "      <td>3</td>\n",
       "      <td>1015</td>\n",
       "    </tr>\n",
       "    <tr>\n",
       "      <th>1434</th>\n",
       "      <td>7250</td>\n",
       "      <td>70.0</td>\n",
       "      <td>NaN</td>\n",
       "      <td>NaN</td>\n",
       "      <td>86</td>\n",
       "      <td>1.0</td>\n",
       "      <td>0</td>\n",
       "      <td>1300</td>\n",
       "      <td>3</td>\n",
       "      <td>1015</td>\n",
       "    </tr>\n",
       "    <tr>\n",
       "      <th>1435</th>\n",
       "      <td>6950</td>\n",
       "      <td>76.0</td>\n",
       "      <td>1.0</td>\n",
       "      <td>Petrol</td>\n",
       "      <td>110</td>\n",
       "      <td>0.0</td>\n",
       "      <td>0</td>\n",
       "      <td>1600</td>\n",
       "      <td>5</td>\n",
       "      <td>1114</td>\n",
       "    </tr>\n",
       "  </tbody>\n",
       "</table>\n",
       "<p>1436 rows × 10 columns</p>\n",
       "</div>"
      ],
      "text/plain": [
       "      Price    Age       KM FuelType   HP  MetColor  Automatic    CC  Doors  \\\n",
       "0     13500  450.0  46986.0   Diesel   90       1.0          0  2000  three   \n",
       "1     13750   23.0  72937.0   Diesel   90       1.0          0  2000      3   \n",
       "2     13950   24.0  41711.0   Diesel   90       NaN          0  2000      3   \n",
       "3     14950   26.0  48000.0   Diesel   90       0.0          0  2000      3   \n",
       "4     13750   30.0  38500.0   Diesel   90       0.0          0  2000      3   \n",
       "...     ...    ...      ...      ...  ...       ...        ...   ...    ...   \n",
       "1431   7500    NaN  20544.0   Petrol   86       1.0          0  1300      3   \n",
       "1432  10845   72.0      NaN   Petrol   86       0.0          0  1300      3   \n",
       "1433   8500    NaN  17016.0   Petrol   86       0.0          0  1300      3   \n",
       "1434   7250   70.0      NaN      NaN   86       1.0          0  1300      3   \n",
       "1435   6950   76.0      1.0   Petrol  110       0.0          0  1600      5   \n",
       "\n",
       "      Weight  \n",
       "0       1165  \n",
       "1       1165  \n",
       "2       1165  \n",
       "3       1165  \n",
       "4       1170  \n",
       "...      ...  \n",
       "1431    1025  \n",
       "1432    1015  \n",
       "1433    1015  \n",
       "1434    1015  \n",
       "1435    1114  \n",
       "\n",
       "[1436 rows x 10 columns]"
      ]
     },
     "execution_count": 59,
     "metadata": {},
     "output_type": "execute_result"
    }
   ],
   "source": [
    "data3"
   ]
  },
  {
   "cell_type": "code",
   "execution_count": 60,
   "id": "6c9d15b3",
   "metadata": {},
   "outputs": [
    {
     "data": {
      "text/html": [
       "<div>\n",
       "<style scoped>\n",
       "    .dataframe tbody tr th:only-of-type {\n",
       "        vertical-align: middle;\n",
       "    }\n",
       "\n",
       "    .dataframe tbody tr th {\n",
       "        vertical-align: top;\n",
       "    }\n",
       "\n",
       "    .dataframe thead th {\n",
       "        text-align: right;\n",
       "    }\n",
       "</style>\n",
       "<table border=\"1\" class=\"dataframe\">\n",
       "  <thead>\n",
       "    <tr style=\"text-align: right;\">\n",
       "      <th></th>\n",
       "      <th>Price</th>\n",
       "      <th>Age</th>\n",
       "      <th>KM</th>\n",
       "      <th>FuelType</th>\n",
       "      <th>HP</th>\n",
       "      <th>MetColor</th>\n",
       "      <th>Automatic</th>\n",
       "      <th>CC</th>\n",
       "      <th>Doors</th>\n",
       "      <th>Weight</th>\n",
       "    </tr>\n",
       "  </thead>\n",
       "  <tbody>\n",
       "    <tr>\n",
       "      <th>0</th>\n",
       "      <td>13500</td>\n",
       "      <td>1340.0</td>\n",
       "      <td>46986.0</td>\n",
       "      <td>Diesel</td>\n",
       "      <td>90</td>\n",
       "      <td>1.0</td>\n",
       "      <td>0</td>\n",
       "      <td>2000</td>\n",
       "      <td>three</td>\n",
       "      <td>1165</td>\n",
       "    </tr>\n",
       "    <tr>\n",
       "      <th>1</th>\n",
       "      <td>13750</td>\n",
       "      <td>23.0</td>\n",
       "      <td>72937.0</td>\n",
       "      <td>Diesel</td>\n",
       "      <td>90</td>\n",
       "      <td>1.0</td>\n",
       "      <td>0</td>\n",
       "      <td>2000</td>\n",
       "      <td>3</td>\n",
       "      <td>1165</td>\n",
       "    </tr>\n",
       "    <tr>\n",
       "      <th>2</th>\n",
       "      <td>13950</td>\n",
       "      <td>24.0</td>\n",
       "      <td>41711.0</td>\n",
       "      <td>Diesel</td>\n",
       "      <td>90</td>\n",
       "      <td>NaN</td>\n",
       "      <td>0</td>\n",
       "      <td>2000</td>\n",
       "      <td>3</td>\n",
       "      <td>1165</td>\n",
       "    </tr>\n",
       "    <tr>\n",
       "      <th>3</th>\n",
       "      <td>14950</td>\n",
       "      <td>26.0</td>\n",
       "      <td>48000.0</td>\n",
       "      <td>Diesel</td>\n",
       "      <td>90</td>\n",
       "      <td>0.0</td>\n",
       "      <td>0</td>\n",
       "      <td>2000</td>\n",
       "      <td>3</td>\n",
       "      <td>1165</td>\n",
       "    </tr>\n",
       "    <tr>\n",
       "      <th>4</th>\n",
       "      <td>13750</td>\n",
       "      <td>30.0</td>\n",
       "      <td>38500.0</td>\n",
       "      <td>Diesel</td>\n",
       "      <td>90</td>\n",
       "      <td>0.0</td>\n",
       "      <td>0</td>\n",
       "      <td>2000</td>\n",
       "      <td>3</td>\n",
       "      <td>1170</td>\n",
       "    </tr>\n",
       "    <tr>\n",
       "      <th>...</th>\n",
       "      <td>...</td>\n",
       "      <td>...</td>\n",
       "      <td>...</td>\n",
       "      <td>...</td>\n",
       "      <td>...</td>\n",
       "      <td>...</td>\n",
       "      <td>...</td>\n",
       "      <td>...</td>\n",
       "      <td>...</td>\n",
       "      <td>...</td>\n",
       "    </tr>\n",
       "    <tr>\n",
       "      <th>1431</th>\n",
       "      <td>7500</td>\n",
       "      <td>NaN</td>\n",
       "      <td>20544.0</td>\n",
       "      <td>Petrol</td>\n",
       "      <td>86</td>\n",
       "      <td>1.0</td>\n",
       "      <td>0</td>\n",
       "      <td>1300</td>\n",
       "      <td>3</td>\n",
       "      <td>1025</td>\n",
       "    </tr>\n",
       "    <tr>\n",
       "      <th>1432</th>\n",
       "      <td>10845</td>\n",
       "      <td>72.0</td>\n",
       "      <td>NaN</td>\n",
       "      <td>Petrol</td>\n",
       "      <td>86</td>\n",
       "      <td>0.0</td>\n",
       "      <td>0</td>\n",
       "      <td>1300</td>\n",
       "      <td>3</td>\n",
       "      <td>1015</td>\n",
       "    </tr>\n",
       "    <tr>\n",
       "      <th>1433</th>\n",
       "      <td>8500</td>\n",
       "      <td>NaN</td>\n",
       "      <td>17016.0</td>\n",
       "      <td>Petrol</td>\n",
       "      <td>86</td>\n",
       "      <td>0.0</td>\n",
       "      <td>0</td>\n",
       "      <td>1300</td>\n",
       "      <td>3</td>\n",
       "      <td>1015</td>\n",
       "    </tr>\n",
       "    <tr>\n",
       "      <th>1434</th>\n",
       "      <td>7250</td>\n",
       "      <td>70.0</td>\n",
       "      <td>NaN</td>\n",
       "      <td>NaN</td>\n",
       "      <td>86</td>\n",
       "      <td>1.0</td>\n",
       "      <td>0</td>\n",
       "      <td>1300</td>\n",
       "      <td>3</td>\n",
       "      <td>1015</td>\n",
       "    </tr>\n",
       "    <tr>\n",
       "      <th>1435</th>\n",
       "      <td>6950</td>\n",
       "      <td>76.0</td>\n",
       "      <td>1.0</td>\n",
       "      <td>Petrol</td>\n",
       "      <td>110</td>\n",
       "      <td>0.0</td>\n",
       "      <td>0</td>\n",
       "      <td>1600</td>\n",
       "      <td>5</td>\n",
       "      <td>1114</td>\n",
       "    </tr>\n",
       "  </tbody>\n",
       "</table>\n",
       "<p>1436 rows × 10 columns</p>\n",
       "</div>"
      ],
      "text/plain": [
       "      Price     Age       KM FuelType   HP  MetColor  Automatic    CC  Doors  \\\n",
       "0     13500  1340.0  46986.0   Diesel   90       1.0          0  2000  three   \n",
       "1     13750    23.0  72937.0   Diesel   90       1.0          0  2000      3   \n",
       "2     13950    24.0  41711.0   Diesel   90       NaN          0  2000      3   \n",
       "3     14950    26.0  48000.0   Diesel   90       0.0          0  2000      3   \n",
       "4     13750    30.0  38500.0   Diesel   90       0.0          0  2000      3   \n",
       "...     ...     ...      ...      ...  ...       ...        ...   ...    ...   \n",
       "1431   7500     NaN  20544.0   Petrol   86       1.0          0  1300      3   \n",
       "1432  10845    72.0      NaN   Petrol   86       0.0          0  1300      3   \n",
       "1433   8500     NaN  17016.0   Petrol   86       0.0          0  1300      3   \n",
       "1434   7250    70.0      NaN      NaN   86       1.0          0  1300      3   \n",
       "1435   6950    76.0      1.0   Petrol  110       0.0          0  1600      5   \n",
       "\n",
       "      Weight  \n",
       "0       1165  \n",
       "1       1165  \n",
       "2       1165  \n",
       "3       1165  \n",
       "4       1170  \n",
       "...      ...  \n",
       "1431    1025  \n",
       "1432    1015  \n",
       "1433    1015  \n",
       "1434    1015  \n",
       "1435    1114  \n",
       "\n",
       "[1436 rows x 10 columns]"
      ]
     },
     "execution_count": 60,
     "metadata": {},
     "output_type": "execute_result"
    }
   ],
   "source": [
    "data_csv"
   ]
  },
  {
   "cell_type": "code",
   "execution_count": 61,
   "id": "a2ea0808",
   "metadata": {},
   "outputs": [],
   "source": [
    "import pandas as pd\n",
    "import os"
   ]
  },
  {
   "cell_type": "code",
   "execution_count": 62,
   "id": "d28a6078-edcc-4ced-a984-f65397ce0238",
   "metadata": {},
   "outputs": [],
   "source": [
    "data_csv=pd.read_csv(\"Toyota.csv\",index_col=0,na_values=['??'])"
   ]
  },
  {
   "cell_type": "code",
   "execution_count": 63,
   "id": "8798385f-d01b-4cca-b81a-978b586349ae",
   "metadata": {},
   "outputs": [
    {
     "data": {
      "text/html": [
       "<div>\n",
       "<style scoped>\n",
       "    .dataframe tbody tr th:only-of-type {\n",
       "        vertical-align: middle;\n",
       "    }\n",
       "\n",
       "    .dataframe tbody tr th {\n",
       "        vertical-align: top;\n",
       "    }\n",
       "\n",
       "    .dataframe thead th {\n",
       "        text-align: right;\n",
       "    }\n",
       "</style>\n",
       "<table border=\"1\" class=\"dataframe\">\n",
       "  <thead>\n",
       "    <tr style=\"text-align: right;\">\n",
       "      <th></th>\n",
       "      <th>Price</th>\n",
       "      <th>Age</th>\n",
       "      <th>KM</th>\n",
       "      <th>FuelType</th>\n",
       "      <th>HP</th>\n",
       "      <th>MetColor</th>\n",
       "      <th>Automatic</th>\n",
       "      <th>CC</th>\n",
       "      <th>Doors</th>\n",
       "      <th>Weight</th>\n",
       "    </tr>\n",
       "  </thead>\n",
       "  <tbody>\n",
       "    <tr>\n",
       "      <th>0</th>\n",
       "      <td>13500</td>\n",
       "      <td>23.0</td>\n",
       "      <td>46986.0</td>\n",
       "      <td>Diesel</td>\n",
       "      <td>90</td>\n",
       "      <td>1.0</td>\n",
       "      <td>0</td>\n",
       "      <td>2000</td>\n",
       "      <td>three</td>\n",
       "      <td>1165</td>\n",
       "    </tr>\n",
       "    <tr>\n",
       "      <th>1</th>\n",
       "      <td>13750</td>\n",
       "      <td>23.0</td>\n",
       "      <td>72937.0</td>\n",
       "      <td>Diesel</td>\n",
       "      <td>90</td>\n",
       "      <td>1.0</td>\n",
       "      <td>0</td>\n",
       "      <td>2000</td>\n",
       "      <td>3</td>\n",
       "      <td>1165</td>\n",
       "    </tr>\n",
       "    <tr>\n",
       "      <th>2</th>\n",
       "      <td>13950</td>\n",
       "      <td>24.0</td>\n",
       "      <td>41711.0</td>\n",
       "      <td>Diesel</td>\n",
       "      <td>90</td>\n",
       "      <td>NaN</td>\n",
       "      <td>0</td>\n",
       "      <td>2000</td>\n",
       "      <td>3</td>\n",
       "      <td>1165</td>\n",
       "    </tr>\n",
       "    <tr>\n",
       "      <th>3</th>\n",
       "      <td>14950</td>\n",
       "      <td>26.0</td>\n",
       "      <td>48000.0</td>\n",
       "      <td>Diesel</td>\n",
       "      <td>90</td>\n",
       "      <td>0.0</td>\n",
       "      <td>0</td>\n",
       "      <td>2000</td>\n",
       "      <td>3</td>\n",
       "      <td>1165</td>\n",
       "    </tr>\n",
       "    <tr>\n",
       "      <th>4</th>\n",
       "      <td>13750</td>\n",
       "      <td>30.0</td>\n",
       "      <td>38500.0</td>\n",
       "      <td>Diesel</td>\n",
       "      <td>90</td>\n",
       "      <td>0.0</td>\n",
       "      <td>0</td>\n",
       "      <td>2000</td>\n",
       "      <td>3</td>\n",
       "      <td>1170</td>\n",
       "    </tr>\n",
       "    <tr>\n",
       "      <th>...</th>\n",
       "      <td>...</td>\n",
       "      <td>...</td>\n",
       "      <td>...</td>\n",
       "      <td>...</td>\n",
       "      <td>...</td>\n",
       "      <td>...</td>\n",
       "      <td>...</td>\n",
       "      <td>...</td>\n",
       "      <td>...</td>\n",
       "      <td>...</td>\n",
       "    </tr>\n",
       "    <tr>\n",
       "      <th>1431</th>\n",
       "      <td>7500</td>\n",
       "      <td>NaN</td>\n",
       "      <td>20544.0</td>\n",
       "      <td>Petrol</td>\n",
       "      <td>86</td>\n",
       "      <td>1.0</td>\n",
       "      <td>0</td>\n",
       "      <td>1300</td>\n",
       "      <td>3</td>\n",
       "      <td>1025</td>\n",
       "    </tr>\n",
       "    <tr>\n",
       "      <th>1432</th>\n",
       "      <td>10845</td>\n",
       "      <td>72.0</td>\n",
       "      <td>NaN</td>\n",
       "      <td>Petrol</td>\n",
       "      <td>86</td>\n",
       "      <td>0.0</td>\n",
       "      <td>0</td>\n",
       "      <td>1300</td>\n",
       "      <td>3</td>\n",
       "      <td>1015</td>\n",
       "    </tr>\n",
       "    <tr>\n",
       "      <th>1433</th>\n",
       "      <td>8500</td>\n",
       "      <td>NaN</td>\n",
       "      <td>17016.0</td>\n",
       "      <td>Petrol</td>\n",
       "      <td>86</td>\n",
       "      <td>0.0</td>\n",
       "      <td>0</td>\n",
       "      <td>1300</td>\n",
       "      <td>3</td>\n",
       "      <td>1015</td>\n",
       "    </tr>\n",
       "    <tr>\n",
       "      <th>1434</th>\n",
       "      <td>7250</td>\n",
       "      <td>70.0</td>\n",
       "      <td>NaN</td>\n",
       "      <td>NaN</td>\n",
       "      <td>86</td>\n",
       "      <td>1.0</td>\n",
       "      <td>0</td>\n",
       "      <td>1300</td>\n",
       "      <td>3</td>\n",
       "      <td>1015</td>\n",
       "    </tr>\n",
       "    <tr>\n",
       "      <th>1435</th>\n",
       "      <td>6950</td>\n",
       "      <td>76.0</td>\n",
       "      <td>1.0</td>\n",
       "      <td>Petrol</td>\n",
       "      <td>110</td>\n",
       "      <td>0.0</td>\n",
       "      <td>0</td>\n",
       "      <td>1600</td>\n",
       "      <td>5</td>\n",
       "      <td>1114</td>\n",
       "    </tr>\n",
       "  </tbody>\n",
       "</table>\n",
       "<p>1436 rows × 10 columns</p>\n",
       "</div>"
      ],
      "text/plain": [
       "      Price   Age       KM FuelType   HP  MetColor  Automatic    CC  Doors  \\\n",
       "0     13500  23.0  46986.0   Diesel   90       1.0          0  2000  three   \n",
       "1     13750  23.0  72937.0   Diesel   90       1.0          0  2000      3   \n",
       "2     13950  24.0  41711.0   Diesel   90       NaN          0  2000      3   \n",
       "3     14950  26.0  48000.0   Diesel   90       0.0          0  2000      3   \n",
       "4     13750  30.0  38500.0   Diesel   90       0.0          0  2000      3   \n",
       "...     ...   ...      ...      ...  ...       ...        ...   ...    ...   \n",
       "1431   7500   NaN  20544.0   Petrol   86       1.0          0  1300      3   \n",
       "1432  10845  72.0      NaN   Petrol   86       0.0          0  1300      3   \n",
       "1433   8500   NaN  17016.0   Petrol   86       0.0          0  1300      3   \n",
       "1434   7250  70.0      NaN      NaN   86       1.0          0  1300      3   \n",
       "1435   6950  76.0      1.0   Petrol  110       0.0          0  1600      5   \n",
       "\n",
       "      Weight  \n",
       "0       1165  \n",
       "1       1165  \n",
       "2       1165  \n",
       "3       1165  \n",
       "4       1170  \n",
       "...      ...  \n",
       "1431    1025  \n",
       "1432    1015  \n",
       "1433    1015  \n",
       "1434    1015  \n",
       "1435    1114  \n",
       "\n",
       "[1436 rows x 10 columns]"
      ]
     },
     "execution_count": 63,
     "metadata": {},
     "output_type": "execute_result"
    }
   ],
   "source": [
    "data_csv"
   ]
  },
  {
   "cell_type": "code",
   "execution_count": 64,
   "id": "6dd2619d-e8ef-433e-8dc4-845ca1e00a3c",
   "metadata": {},
   "outputs": [
    {
     "data": {
      "text/plain": [
       "Index([   0,    1,    2,    3,    4,    5,    6,    7,    8,    9,\n",
       "       ...\n",
       "       1426, 1427, 1428, 1429, 1430, 1431, 1432, 1433, 1434, 1435],\n",
       "      dtype='int64', length=1436)"
      ]
     },
     "execution_count": 64,
     "metadata": {},
     "output_type": "execute_result"
    }
   ],
   "source": [
    "data_csv.index"
   ]
  },
  {
   "cell_type": "code",
   "execution_count": 65,
   "id": "d42dd09b-bc01-4a87-a79d-4893c7d93fed",
   "metadata": {},
   "outputs": [
    {
     "data": {
      "text/plain": [
       "Index(['Price', 'Age', 'KM', 'FuelType', 'HP', 'MetColor', 'Automatic', 'CC',\n",
       "       'Doors', 'Weight'],\n",
       "      dtype='object')"
      ]
     },
     "execution_count": 65,
     "metadata": {},
     "output_type": "execute_result"
    }
   ],
   "source": [
    "data_csv.columns"
   ]
  },
  {
   "cell_type": "code",
   "execution_count": 68,
   "id": "90dccbbd-a405-4b78-92a1-477207d2db86",
   "metadata": {},
   "outputs": [
    {
     "data": {
      "text/plain": [
       "14360"
      ]
     },
     "execution_count": 68,
     "metadata": {},
     "output_type": "execute_result"
    }
   ],
   "source": [
    "data_csv.size"
   ]
  },
  {
   "cell_type": "code",
   "execution_count": 69,
   "id": "8e7e6ff2-1b68-490a-899c-4ca3d2e6bbe5",
   "metadata": {},
   "outputs": [
    {
     "data": {
      "text/plain": [
       "(1436, 10)"
      ]
     },
     "execution_count": 69,
     "metadata": {},
     "output_type": "execute_result"
    }
   ],
   "source": [
    "data_csv.shape"
   ]
  },
  {
   "cell_type": "code",
   "execution_count": 70,
   "id": "6db8fcd7-16e6-43b0-a8d1-302b5f1f9e3d",
   "metadata": {},
   "outputs": [
    {
     "data": {
      "text/plain": [
       "Index        11488\n",
       "Price        11488\n",
       "Age          11488\n",
       "KM           11488\n",
       "FuelType     11488\n",
       "HP           11488\n",
       "MetColor     11488\n",
       "Automatic    11488\n",
       "CC           11488\n",
       "Doors        11488\n",
       "Weight       11488\n",
       "dtype: int64"
      ]
     },
     "execution_count": 70,
     "metadata": {},
     "output_type": "execute_result"
    }
   ],
   "source": [
    "data_csv.memory_usage()"
   ]
  },
  {
   "cell_type": "code",
   "execution_count": 71,
   "id": "7c11621c-9000-4b16-bfa2-a7a2a083f747",
   "metadata": {},
   "outputs": [
    {
     "data": {
      "text/plain": [
       "2"
      ]
     },
     "execution_count": 71,
     "metadata": {},
     "output_type": "execute_result"
    }
   ],
   "source": [
    "data_csv.ndim"
   ]
  },
  {
   "cell_type": "code",
   "execution_count": 72,
   "id": "2f56359c-5dd6-4f2d-a127-2825603cbbe4",
   "metadata": {},
   "outputs": [
    {
     "data": {
      "text/plain": [
       "0       three\n",
       "1           3\n",
       "2           3\n",
       "3           3\n",
       "4           3\n",
       "        ...  \n",
       "1431        3\n",
       "1432        3\n",
       "1433        3\n",
       "1434        3\n",
       "1435        5\n",
       "Name: Doors, Length: 1436, dtype: object"
      ]
     },
     "execution_count": 72,
     "metadata": {},
     "output_type": "execute_result"
    }
   ],
   "source": [
    "data_csv['Doors']"
   ]
  },
  {
   "cell_type": "code",
   "execution_count": 73,
   "id": "5276e632-a3b1-4d92-8b1a-c5644fdbb3d2",
   "metadata": {},
   "outputs": [
    {
     "data": {
      "text/html": [
       "<div>\n",
       "<style scoped>\n",
       "    .dataframe tbody tr th:only-of-type {\n",
       "        vertical-align: middle;\n",
       "    }\n",
       "\n",
       "    .dataframe tbody tr th {\n",
       "        vertical-align: top;\n",
       "    }\n",
       "\n",
       "    .dataframe thead th {\n",
       "        text-align: right;\n",
       "    }\n",
       "</style>\n",
       "<table border=\"1\" class=\"dataframe\">\n",
       "  <thead>\n",
       "    <tr style=\"text-align: right;\">\n",
       "      <th></th>\n",
       "      <th>Price</th>\n",
       "      <th>Age</th>\n",
       "      <th>KM</th>\n",
       "      <th>FuelType</th>\n",
       "      <th>HP</th>\n",
       "      <th>MetColor</th>\n",
       "      <th>Automatic</th>\n",
       "      <th>CC</th>\n",
       "      <th>Doors</th>\n",
       "      <th>Weight</th>\n",
       "    </tr>\n",
       "  </thead>\n",
       "  <tbody>\n",
       "    <tr>\n",
       "      <th>0</th>\n",
       "      <td>13500</td>\n",
       "      <td>23.0</td>\n",
       "      <td>46986.0</td>\n",
       "      <td>Diesel</td>\n",
       "      <td>90</td>\n",
       "      <td>1.0</td>\n",
       "      <td>0</td>\n",
       "      <td>2000</td>\n",
       "      <td>three</td>\n",
       "      <td>1165</td>\n",
       "    </tr>\n",
       "    <tr>\n",
       "      <th>1</th>\n",
       "      <td>13750</td>\n",
       "      <td>23.0</td>\n",
       "      <td>72937.0</td>\n",
       "      <td>Diesel</td>\n",
       "      <td>90</td>\n",
       "      <td>1.0</td>\n",
       "      <td>0</td>\n",
       "      <td>2000</td>\n",
       "      <td>3</td>\n",
       "      <td>1165</td>\n",
       "    </tr>\n",
       "    <tr>\n",
       "      <th>2</th>\n",
       "      <td>13950</td>\n",
       "      <td>24.0</td>\n",
       "      <td>41711.0</td>\n",
       "      <td>Diesel</td>\n",
       "      <td>90</td>\n",
       "      <td>NaN</td>\n",
       "      <td>0</td>\n",
       "      <td>2000</td>\n",
       "      <td>3</td>\n",
       "      <td>1165</td>\n",
       "    </tr>\n",
       "    <tr>\n",
       "      <th>3</th>\n",
       "      <td>14950</td>\n",
       "      <td>26.0</td>\n",
       "      <td>48000.0</td>\n",
       "      <td>Diesel</td>\n",
       "      <td>90</td>\n",
       "      <td>0.0</td>\n",
       "      <td>0</td>\n",
       "      <td>2000</td>\n",
       "      <td>3</td>\n",
       "      <td>1165</td>\n",
       "    </tr>\n",
       "    <tr>\n",
       "      <th>4</th>\n",
       "      <td>13750</td>\n",
       "      <td>30.0</td>\n",
       "      <td>38500.0</td>\n",
       "      <td>Diesel</td>\n",
       "      <td>90</td>\n",
       "      <td>0.0</td>\n",
       "      <td>0</td>\n",
       "      <td>2000</td>\n",
       "      <td>3</td>\n",
       "      <td>1170</td>\n",
       "    </tr>\n",
       "    <tr>\n",
       "      <th>5</th>\n",
       "      <td>12950</td>\n",
       "      <td>32.0</td>\n",
       "      <td>61000.0</td>\n",
       "      <td>Diesel</td>\n",
       "      <td>90</td>\n",
       "      <td>0.0</td>\n",
       "      <td>0</td>\n",
       "      <td>2000</td>\n",
       "      <td>3</td>\n",
       "      <td>1170</td>\n",
       "    </tr>\n",
       "    <tr>\n",
       "      <th>6</th>\n",
       "      <td>16900</td>\n",
       "      <td>27.0</td>\n",
       "      <td>NaN</td>\n",
       "      <td>Diesel</td>\n",
       "      <td>????</td>\n",
       "      <td>NaN</td>\n",
       "      <td>0</td>\n",
       "      <td>2000</td>\n",
       "      <td>3</td>\n",
       "      <td>1245</td>\n",
       "    </tr>\n",
       "    <tr>\n",
       "      <th>7</th>\n",
       "      <td>18600</td>\n",
       "      <td>30.0</td>\n",
       "      <td>75889.0</td>\n",
       "      <td>NaN</td>\n",
       "      <td>90</td>\n",
       "      <td>1.0</td>\n",
       "      <td>0</td>\n",
       "      <td>2000</td>\n",
       "      <td>3</td>\n",
       "      <td>1245</td>\n",
       "    </tr>\n",
       "    <tr>\n",
       "      <th>8</th>\n",
       "      <td>21500</td>\n",
       "      <td>27.0</td>\n",
       "      <td>19700.0</td>\n",
       "      <td>Petrol</td>\n",
       "      <td>192</td>\n",
       "      <td>0.0</td>\n",
       "      <td>0</td>\n",
       "      <td>1800</td>\n",
       "      <td>3</td>\n",
       "      <td>1185</td>\n",
       "    </tr>\n",
       "    <tr>\n",
       "      <th>9</th>\n",
       "      <td>12950</td>\n",
       "      <td>23.0</td>\n",
       "      <td>71138.0</td>\n",
       "      <td>Diesel</td>\n",
       "      <td>????</td>\n",
       "      <td>NaN</td>\n",
       "      <td>0</td>\n",
       "      <td>1900</td>\n",
       "      <td>3</td>\n",
       "      <td>1105</td>\n",
       "    </tr>\n",
       "  </tbody>\n",
       "</table>\n",
       "</div>"
      ],
      "text/plain": [
       "   Price   Age       KM FuelType    HP  MetColor  Automatic    CC  Doors  \\\n",
       "0  13500  23.0  46986.0   Diesel    90       1.0          0  2000  three   \n",
       "1  13750  23.0  72937.0   Diesel    90       1.0          0  2000      3   \n",
       "2  13950  24.0  41711.0   Diesel    90       NaN          0  2000      3   \n",
       "3  14950  26.0  48000.0   Diesel    90       0.0          0  2000      3   \n",
       "4  13750  30.0  38500.0   Diesel    90       0.0          0  2000      3   \n",
       "5  12950  32.0  61000.0   Diesel    90       0.0          0  2000      3   \n",
       "6  16900  27.0      NaN   Diesel  ????       NaN          0  2000      3   \n",
       "7  18600  30.0  75889.0      NaN    90       1.0          0  2000      3   \n",
       "8  21500  27.0  19700.0   Petrol   192       0.0          0  1800      3   \n",
       "9  12950  23.0  71138.0   Diesel  ????       NaN          0  1900      3   \n",
       "\n",
       "   Weight  \n",
       "0    1165  \n",
       "1    1165  \n",
       "2    1165  \n",
       "3    1165  \n",
       "4    1170  \n",
       "5    1170  \n",
       "6    1245  \n",
       "7    1245  \n",
       "8    1185  \n",
       "9    1105  "
      ]
     },
     "execution_count": 73,
     "metadata": {},
     "output_type": "execute_result"
    }
   ],
   "source": [
    "data_csv.head(10)"
   ]
  },
  {
   "cell_type": "code",
   "execution_count": 74,
   "id": "60b07fc7-6451-4041-8ba1-3644e798fe66",
   "metadata": {},
   "outputs": [
    {
     "data": {
      "text/html": [
       "<div>\n",
       "<style scoped>\n",
       "    .dataframe tbody tr th:only-of-type {\n",
       "        vertical-align: middle;\n",
       "    }\n",
       "\n",
       "    .dataframe tbody tr th {\n",
       "        vertical-align: top;\n",
       "    }\n",
       "\n",
       "    .dataframe thead th {\n",
       "        text-align: right;\n",
       "    }\n",
       "</style>\n",
       "<table border=\"1\" class=\"dataframe\">\n",
       "  <thead>\n",
       "    <tr style=\"text-align: right;\">\n",
       "      <th></th>\n",
       "      <th>Price</th>\n",
       "      <th>Age</th>\n",
       "      <th>KM</th>\n",
       "      <th>FuelType</th>\n",
       "      <th>HP</th>\n",
       "      <th>MetColor</th>\n",
       "      <th>Automatic</th>\n",
       "      <th>CC</th>\n",
       "      <th>Doors</th>\n",
       "      <th>Weight</th>\n",
       "    </tr>\n",
       "  </thead>\n",
       "  <tbody>\n",
       "    <tr>\n",
       "      <th>1431</th>\n",
       "      <td>7500</td>\n",
       "      <td>NaN</td>\n",
       "      <td>20544.0</td>\n",
       "      <td>Petrol</td>\n",
       "      <td>86</td>\n",
       "      <td>1.0</td>\n",
       "      <td>0</td>\n",
       "      <td>1300</td>\n",
       "      <td>3</td>\n",
       "      <td>1025</td>\n",
       "    </tr>\n",
       "    <tr>\n",
       "      <th>1432</th>\n",
       "      <td>10845</td>\n",
       "      <td>72.0</td>\n",
       "      <td>NaN</td>\n",
       "      <td>Petrol</td>\n",
       "      <td>86</td>\n",
       "      <td>0.0</td>\n",
       "      <td>0</td>\n",
       "      <td>1300</td>\n",
       "      <td>3</td>\n",
       "      <td>1015</td>\n",
       "    </tr>\n",
       "    <tr>\n",
       "      <th>1433</th>\n",
       "      <td>8500</td>\n",
       "      <td>NaN</td>\n",
       "      <td>17016.0</td>\n",
       "      <td>Petrol</td>\n",
       "      <td>86</td>\n",
       "      <td>0.0</td>\n",
       "      <td>0</td>\n",
       "      <td>1300</td>\n",
       "      <td>3</td>\n",
       "      <td>1015</td>\n",
       "    </tr>\n",
       "    <tr>\n",
       "      <th>1434</th>\n",
       "      <td>7250</td>\n",
       "      <td>70.0</td>\n",
       "      <td>NaN</td>\n",
       "      <td>NaN</td>\n",
       "      <td>86</td>\n",
       "      <td>1.0</td>\n",
       "      <td>0</td>\n",
       "      <td>1300</td>\n",
       "      <td>3</td>\n",
       "      <td>1015</td>\n",
       "    </tr>\n",
       "    <tr>\n",
       "      <th>1435</th>\n",
       "      <td>6950</td>\n",
       "      <td>76.0</td>\n",
       "      <td>1.0</td>\n",
       "      <td>Petrol</td>\n",
       "      <td>110</td>\n",
       "      <td>0.0</td>\n",
       "      <td>0</td>\n",
       "      <td>1600</td>\n",
       "      <td>5</td>\n",
       "      <td>1114</td>\n",
       "    </tr>\n",
       "  </tbody>\n",
       "</table>\n",
       "</div>"
      ],
      "text/plain": [
       "      Price   Age       KM FuelType   HP  MetColor  Automatic    CC Doors  \\\n",
       "1431   7500   NaN  20544.0   Petrol   86       1.0          0  1300     3   \n",
       "1432  10845  72.0      NaN   Petrol   86       0.0          0  1300     3   \n",
       "1433   8500   NaN  17016.0   Petrol   86       0.0          0  1300     3   \n",
       "1434   7250  70.0      NaN      NaN   86       1.0          0  1300     3   \n",
       "1435   6950  76.0      1.0   Petrol  110       0.0          0  1600     5   \n",
       "\n",
       "      Weight  \n",
       "1431    1025  \n",
       "1432    1015  \n",
       "1433    1015  \n",
       "1434    1015  \n",
       "1435    1114  "
      ]
     },
     "execution_count": 74,
     "metadata": {},
     "output_type": "execute_result"
    }
   ],
   "source": [
    "data_csv.tail()"
   ]
  },
  {
   "cell_type": "code",
   "execution_count": 75,
   "id": "b8aa1c92-0169-4d03-8978-20ca708e9b75",
   "metadata": {},
   "outputs": [
    {
     "data": {
      "text/plain": [
       "'Diesel'"
      ]
     },
     "execution_count": 75,
     "metadata": {},
     "output_type": "execute_result"
    }
   ],
   "source": [
    "data_csv.at[4,'FuelType']"
   ]
  },
  {
   "cell_type": "code",
   "execution_count": 76,
   "id": "86c6ad40-3e25-456e-8d55-444a124dd671",
   "metadata": {},
   "outputs": [
    {
     "data": {
      "text/plain": [
       "'Diesel'"
      ]
     },
     "execution_count": 76,
     "metadata": {},
     "output_type": "execute_result"
    }
   ],
   "source": [
    "data_csv.iat[4,3]"
   ]
  },
  {
   "cell_type": "code",
   "execution_count": 77,
   "id": "d7425c6d-3960-4c58-b2ef-009d8bf5bcd9",
   "metadata": {},
   "outputs": [
    {
     "data": {
      "text/html": [
       "<div>\n",
       "<style scoped>\n",
       "    .dataframe tbody tr th:only-of-type {\n",
       "        vertical-align: middle;\n",
       "    }\n",
       "\n",
       "    .dataframe tbody tr th {\n",
       "        vertical-align: top;\n",
       "    }\n",
       "\n",
       "    .dataframe thead th {\n",
       "        text-align: right;\n",
       "    }\n",
       "</style>\n",
       "<table border=\"1\" class=\"dataframe\">\n",
       "  <thead>\n",
       "    <tr style=\"text-align: right;\">\n",
       "      <th></th>\n",
       "      <th>KM</th>\n",
       "      <th>FuelType</th>\n",
       "      <th>HP</th>\n",
       "      <th>MetColor</th>\n",
       "    </tr>\n",
       "  </thead>\n",
       "  <tbody>\n",
       "    <tr>\n",
       "      <th>1</th>\n",
       "      <td>72937.0</td>\n",
       "      <td>Diesel</td>\n",
       "      <td>90</td>\n",
       "      <td>1.0</td>\n",
       "    </tr>\n",
       "    <tr>\n",
       "      <th>2</th>\n",
       "      <td>41711.0</td>\n",
       "      <td>Diesel</td>\n",
       "      <td>90</td>\n",
       "      <td>NaN</td>\n",
       "    </tr>\n",
       "    <tr>\n",
       "      <th>3</th>\n",
       "      <td>48000.0</td>\n",
       "      <td>Diesel</td>\n",
       "      <td>90</td>\n",
       "      <td>0.0</td>\n",
       "    </tr>\n",
       "    <tr>\n",
       "      <th>4</th>\n",
       "      <td>38500.0</td>\n",
       "      <td>Diesel</td>\n",
       "      <td>90</td>\n",
       "      <td>0.0</td>\n",
       "    </tr>\n",
       "  </tbody>\n",
       "</table>\n",
       "</div>"
      ],
      "text/plain": [
       "        KM FuelType  HP  MetColor\n",
       "1  72937.0   Diesel  90       1.0\n",
       "2  41711.0   Diesel  90       NaN\n",
       "3  48000.0   Diesel  90       0.0\n",
       "4  38500.0   Diesel  90       0.0"
      ]
     },
     "execution_count": 77,
     "metadata": {},
     "output_type": "execute_result"
    }
   ],
   "source": [
    "data_csv.loc[1:4,'KM':'MetColor']"
   ]
  },
  {
   "cell_type": "code",
   "execution_count": 78,
   "id": "866b7a51-5ee3-47f3-bf66-c00b44563ed6",
   "metadata": {},
   "outputs": [
    {
     "data": {
      "text/plain": [
       "Price          int64\n",
       "Age          float64\n",
       "KM           float64\n",
       "FuelType      object\n",
       "HP            object\n",
       "MetColor     float64\n",
       "Automatic      int64\n",
       "CC             int64\n",
       "Doors         object\n",
       "Weight         int64\n",
       "dtype: object"
      ]
     },
     "execution_count": 78,
     "metadata": {},
     "output_type": "execute_result"
    }
   ],
   "source": [
    "data_csv.dtypes"
   ]
  },
  {
   "cell_type": "code",
   "execution_count": 79,
   "id": "d0b33762-3104-41c5-a03b-e792829cdc5b",
   "metadata": {},
   "outputs": [
    {
     "data": {
      "text/html": [
       "<div>\n",
       "<style scoped>\n",
       "    .dataframe tbody tr th:only-of-type {\n",
       "        vertical-align: middle;\n",
       "    }\n",
       "\n",
       "    .dataframe tbody tr th {\n",
       "        vertical-align: top;\n",
       "    }\n",
       "\n",
       "    .dataframe thead th {\n",
       "        text-align: right;\n",
       "    }\n",
       "</style>\n",
       "<table border=\"1\" class=\"dataframe\">\n",
       "  <thead>\n",
       "    <tr style=\"text-align: right;\">\n",
       "      <th></th>\n",
       "      <th>Price</th>\n",
       "      <th>Automatic</th>\n",
       "      <th>CC</th>\n",
       "      <th>Weight</th>\n",
       "    </tr>\n",
       "  </thead>\n",
       "  <tbody>\n",
       "    <tr>\n",
       "      <th>0</th>\n",
       "      <td>13500</td>\n",
       "      <td>0</td>\n",
       "      <td>2000</td>\n",
       "      <td>1165</td>\n",
       "    </tr>\n",
       "    <tr>\n",
       "      <th>1</th>\n",
       "      <td>13750</td>\n",
       "      <td>0</td>\n",
       "      <td>2000</td>\n",
       "      <td>1165</td>\n",
       "    </tr>\n",
       "    <tr>\n",
       "      <th>2</th>\n",
       "      <td>13950</td>\n",
       "      <td>0</td>\n",
       "      <td>2000</td>\n",
       "      <td>1165</td>\n",
       "    </tr>\n",
       "    <tr>\n",
       "      <th>3</th>\n",
       "      <td>14950</td>\n",
       "      <td>0</td>\n",
       "      <td>2000</td>\n",
       "      <td>1165</td>\n",
       "    </tr>\n",
       "    <tr>\n",
       "      <th>4</th>\n",
       "      <td>13750</td>\n",
       "      <td>0</td>\n",
       "      <td>2000</td>\n",
       "      <td>1170</td>\n",
       "    </tr>\n",
       "    <tr>\n",
       "      <th>...</th>\n",
       "      <td>...</td>\n",
       "      <td>...</td>\n",
       "      <td>...</td>\n",
       "      <td>...</td>\n",
       "    </tr>\n",
       "    <tr>\n",
       "      <th>1431</th>\n",
       "      <td>7500</td>\n",
       "      <td>0</td>\n",
       "      <td>1300</td>\n",
       "      <td>1025</td>\n",
       "    </tr>\n",
       "    <tr>\n",
       "      <th>1432</th>\n",
       "      <td>10845</td>\n",
       "      <td>0</td>\n",
       "      <td>1300</td>\n",
       "      <td>1015</td>\n",
       "    </tr>\n",
       "    <tr>\n",
       "      <th>1433</th>\n",
       "      <td>8500</td>\n",
       "      <td>0</td>\n",
       "      <td>1300</td>\n",
       "      <td>1015</td>\n",
       "    </tr>\n",
       "    <tr>\n",
       "      <th>1434</th>\n",
       "      <td>7250</td>\n",
       "      <td>0</td>\n",
       "      <td>1300</td>\n",
       "      <td>1015</td>\n",
       "    </tr>\n",
       "    <tr>\n",
       "      <th>1435</th>\n",
       "      <td>6950</td>\n",
       "      <td>0</td>\n",
       "      <td>1600</td>\n",
       "      <td>1114</td>\n",
       "    </tr>\n",
       "  </tbody>\n",
       "</table>\n",
       "<p>1436 rows × 4 columns</p>\n",
       "</div>"
      ],
      "text/plain": [
       "      Price  Automatic    CC  Weight\n",
       "0     13500          0  2000    1165\n",
       "1     13750          0  2000    1165\n",
       "2     13950          0  2000    1165\n",
       "3     14950          0  2000    1165\n",
       "4     13750          0  2000    1170\n",
       "...     ...        ...   ...     ...\n",
       "1431   7500          0  1300    1025\n",
       "1432  10845          0  1300    1015\n",
       "1433   8500          0  1300    1015\n",
       "1434   7250          0  1300    1015\n",
       "1435   6950          0  1600    1114\n",
       "\n",
       "[1436 rows x 4 columns]"
      ]
     },
     "execution_count": 79,
     "metadata": {},
     "output_type": "execute_result"
    }
   ],
   "source": [
    "data_csv.select_dtypes(include=\"Int64\",exclude=['object'])"
   ]
  },
  {
   "cell_type": "code",
   "execution_count": 80,
   "id": "d4208b44-de78-4b5d-916c-3dd569ec73c1",
   "metadata": {},
   "outputs": [
    {
     "name": "stdout",
     "output_type": "stream",
     "text": [
      "<class 'pandas.core.frame.DataFrame'>\n",
      "Index: 1436 entries, 0 to 1435\n",
      "Data columns (total 10 columns):\n",
      " #   Column     Non-Null Count  Dtype  \n",
      "---  ------     --------------  -----  \n",
      " 0   Price      1436 non-null   int64  \n",
      " 1   Age        1336 non-null   float64\n",
      " 2   KM         1421 non-null   float64\n",
      " 3   FuelType   1336 non-null   object \n",
      " 4   HP         1436 non-null   object \n",
      " 5   MetColor   1286 non-null   float64\n",
      " 6   Automatic  1436 non-null   int64  \n",
      " 7   CC         1436 non-null   int64  \n",
      " 8   Doors      1436 non-null   object \n",
      " 9   Weight     1436 non-null   int64  \n",
      "dtypes: float64(3), int64(4), object(3)\n",
      "memory usage: 155.7+ KB\n"
     ]
    }
   ],
   "source": [
    "data_csv.info()"
   ]
  },
  {
   "cell_type": "code",
   "execution_count": 81,
   "id": "c9b5836c-b039-4a9f-af01-ccf04eebd406",
   "metadata": {},
   "outputs": [],
   "source": [
    "import numpy as np"
   ]
  },
  {
   "cell_type": "code",
   "execution_count": 82,
   "id": "a622c3c0-dafb-46fd-bbd6-afa7c3994fa5",
   "metadata": {},
   "outputs": [
    {
     "data": {
      "text/plain": [
       "array([1300, 1332, 1398, 1400, 1587, 1598, 1600, 1800, 1900, 1975, 1995,\n",
       "       2000], dtype=int64)"
      ]
     },
     "execution_count": 82,
     "metadata": {},
     "output_type": "execute_result"
    }
   ],
   "source": [
    "np.unique(data_csv['CC'])\n"
   ]
  },
  {
   "cell_type": "code",
   "execution_count": 83,
   "id": "c891edd1-3a4c-4da4-b300-7eda9e6da121",
   "metadata": {},
   "outputs": [
    {
     "data": {
      "text/plain": [
       "dtype('float64')"
      ]
     },
     "execution_count": 83,
     "metadata": {},
     "output_type": "execute_result"
    }
   ],
   "source": [
    "data_csv['MetColor'].dtype"
   ]
  },
  {
   "cell_type": "code",
   "execution_count": 84,
   "id": "bc755fd8-bc11-401b-8a7e-531a5ea8c7b6",
   "metadata": {},
   "outputs": [],
   "source": [
    "data_csv['Price']=data_csv['Price'].astype('Float64')"
   ]
  },
  {
   "cell_type": "code",
   "execution_count": 85,
   "id": "41e3226b-573d-4869-9d98-4496f0bfbee3",
   "metadata": {},
   "outputs": [
    {
     "data": {
      "text/plain": [
       "Float64Dtype()"
      ]
     },
     "execution_count": 85,
     "metadata": {},
     "output_type": "execute_result"
    }
   ],
   "source": [
    "data_csv[\"Price\"].dtype"
   ]
  },
  {
   "cell_type": "code",
   "execution_count": 86,
   "id": "9aca5616-d800-410e-8c43-7b2ccb26b3c3",
   "metadata": {},
   "outputs": [],
   "source": [
    "data_csv['FuelType']=data_csv['FuelType'].astype('category')"
   ]
  },
  {
   "cell_type": "code",
   "execution_count": 87,
   "id": "99ca2c8b-2b19-4ff4-be8a-884cbf9d07c2",
   "metadata": {},
   "outputs": [
    {
     "data": {
      "text/plain": [
       "11488"
      ]
     },
     "execution_count": 87,
     "metadata": {},
     "output_type": "execute_result"
    }
   ],
   "source": [
    "data_csv['Doors'].nbytes"
   ]
  },
  {
   "cell_type": "code",
   "execution_count": 88,
   "id": "ec8a758e-7340-484b-b80e-3de0ea224421",
   "metadata": {},
   "outputs": [
    {
     "data": {
      "text/plain": [
       "dtype('O')"
      ]
     },
     "execution_count": 88,
     "metadata": {},
     "output_type": "execute_result"
    }
   ],
   "source": [
    "data_csv['Doors'].dtype"
   ]
  },
  {
   "cell_type": "code",
   "execution_count": 89,
   "id": "c414081e-ff65-47f0-b2b8-939f8bca96d4",
   "metadata": {},
   "outputs": [],
   "source": [
    "data_csv['Doors']=data_csv['Doors'].astype(\"category\")\n"
   ]
  },
  {
   "cell_type": "code",
   "execution_count": 90,
   "id": "1071558f-4acf-4274-b163-d7b54a8b8f0f",
   "metadata": {},
   "outputs": [
    {
     "data": {
      "text/plain": [
       "CategoricalDtype(categories=['2', '3', '4', '5', 'five', 'four', 'three'], ordered=False, categories_dtype=object)"
      ]
     },
     "execution_count": 90,
     "metadata": {},
     "output_type": "execute_result"
    }
   ],
   "source": [
    "data_csv['Doors'].dtype"
   ]
  },
  {
   "cell_type": "code",
   "execution_count": 91,
   "id": "a193c7df-e058-4df9-954e-f05cb310d640",
   "metadata": {},
   "outputs": [
    {
     "data": {
      "text/plain": [
       "1492"
      ]
     },
     "execution_count": 91,
     "metadata": {},
     "output_type": "execute_result"
    }
   ],
   "source": [
    "data_csv['Doors'].nbytes"
   ]
  },
  {
   "cell_type": "code",
   "execution_count": 92,
   "id": "94bf285a-70b4-42d8-bf59-c5c9bd034c76",
   "metadata": {},
   "outputs": [],
   "source": [
    "data_csv['Doors'].replace(\"three\",3,inplace=True)\n",
    "data_csv['Doors'].replace(\"four\",4,inplace=True)\n",
    "data_csv['Doors'].replace(\"five\",5,inplace=True)\n"
   ]
  },
  {
   "cell_type": "code",
   "execution_count": 93,
   "id": "e17e0e9e-fa1f-4507-b81f-dfea1c58e3ab",
   "metadata": {},
   "outputs": [
    {
     "data": {
      "text/plain": [
       "CategoricalDtype(categories=['2', '3', '4', '5', 'five', 'four', 'three'], ordered=False, categories_dtype=object)"
      ]
     },
     "execution_count": 93,
     "metadata": {},
     "output_type": "execute_result"
    }
   ],
   "source": [
    "data_csv['Doors'].dtype"
   ]
  },
  {
   "cell_type": "code",
   "execution_count": 94,
   "id": "e73e38b7-d6fd-4c2e-9737-db8cf5b399b6",
   "metadata": {},
   "outputs": [
    {
     "data": {
      "text/plain": [
       "0       3\n",
       "1       3\n",
       "2       3\n",
       "3       3\n",
       "4       3\n",
       "       ..\n",
       "1431    3\n",
       "1432    3\n",
       "1433    3\n",
       "1434    3\n",
       "1435    5\n",
       "Name: Doors, Length: 1436, dtype: category\n",
       "Categories (7, object): ['2', '3', '4', '5', 5, 4, 3]"
      ]
     },
     "execution_count": 94,
     "metadata": {},
     "output_type": "execute_result"
    }
   ],
   "source": [
    "data_csv['Doors']"
   ]
  },
  {
   "cell_type": "code",
   "execution_count": 95,
   "id": "0950eb29-4e4c-4bfe-bb78-fc4450d647fd",
   "metadata": {},
   "outputs": [],
   "source": [
    "data_csv['Doors']=data_csv['Doors'].astype('int64')"
   ]
  },
  {
   "cell_type": "code",
   "execution_count": 96,
   "id": "eabce20d-1c73-4445-956f-d9d6464903fb",
   "metadata": {},
   "outputs": [
    {
     "data": {
      "text/plain": [
       "0       3\n",
       "1       3\n",
       "2       3\n",
       "3       3\n",
       "4       3\n",
       "       ..\n",
       "1431    3\n",
       "1432    3\n",
       "1433    3\n",
       "1434    3\n",
       "1435    5\n",
       "Name: Doors, Length: 1436, dtype: int64"
      ]
     },
     "execution_count": 96,
     "metadata": {},
     "output_type": "execute_result"
    }
   ],
   "source": [
    "data_csv['Doors']"
   ]
  },
  {
   "cell_type": "code",
   "execution_count": 97,
   "id": "c04f8908-a80a-4f99-9b2d-25a1be5fb330",
   "metadata": {},
   "outputs": [
    {
     "data": {
      "text/plain": [
       "dtype('int64')"
      ]
     },
     "execution_count": 97,
     "metadata": {},
     "output_type": "execute_result"
    }
   ],
   "source": [
    "data_csv['Doors'].dtypes"
   ]
  },
  {
   "cell_type": "code",
   "execution_count": 98,
   "id": "6692be31-d0da-45fd-a1e5-0af9e60d22f6",
   "metadata": {},
   "outputs": [
    {
     "data": {
      "text/plain": [
       "Price          0\n",
       "Age          100\n",
       "KM            15\n",
       "FuelType     100\n",
       "HP             0\n",
       "MetColor     150\n",
       "Automatic      0\n",
       "CC             0\n",
       "Doors          0\n",
       "Weight         0\n",
       "dtype: int64"
      ]
     },
     "execution_count": 98,
     "metadata": {},
     "output_type": "execute_result"
    }
   ],
   "source": [
    "data_csv.isnull().sum()"
   ]
  },
  {
   "cell_type": "code",
   "execution_count": 99,
   "id": "27b1f285-035d-43c1-8d14-116268414055",
   "metadata": {},
   "outputs": [
    {
     "data": {
      "text/html": [
       "<div>\n",
       "<style scoped>\n",
       "    .dataframe tbody tr th:only-of-type {\n",
       "        vertical-align: middle;\n",
       "    }\n",
       "\n",
       "    .dataframe tbody tr th {\n",
       "        vertical-align: top;\n",
       "    }\n",
       "\n",
       "    .dataframe thead th {\n",
       "        text-align: right;\n",
       "    }\n",
       "</style>\n",
       "<table border=\"1\" class=\"dataframe\">\n",
       "  <thead>\n",
       "    <tr style=\"text-align: right;\">\n",
       "      <th></th>\n",
       "      <th>Price</th>\n",
       "      <th>Age</th>\n",
       "      <th>KM</th>\n",
       "      <th>FuelType</th>\n",
       "      <th>HP</th>\n",
       "      <th>MetColor</th>\n",
       "      <th>Automatic</th>\n",
       "      <th>CC</th>\n",
       "      <th>Doors</th>\n",
       "      <th>Weight</th>\n",
       "    </tr>\n",
       "  </thead>\n",
       "  <tbody>\n",
       "    <tr>\n",
       "      <th>0</th>\n",
       "      <td>13500.0</td>\n",
       "      <td>23.0</td>\n",
       "      <td>46986.0</td>\n",
       "      <td>Diesel</td>\n",
       "      <td>90</td>\n",
       "      <td>1.0</td>\n",
       "      <td>0</td>\n",
       "      <td>2000</td>\n",
       "      <td>3</td>\n",
       "      <td>1165</td>\n",
       "    </tr>\n",
       "    <tr>\n",
       "      <th>1</th>\n",
       "      <td>13750.0</td>\n",
       "      <td>23.0</td>\n",
       "      <td>72937.0</td>\n",
       "      <td>Diesel</td>\n",
       "      <td>90</td>\n",
       "      <td>1.0</td>\n",
       "      <td>0</td>\n",
       "      <td>2000</td>\n",
       "      <td>3</td>\n",
       "      <td>1165</td>\n",
       "    </tr>\n",
       "    <tr>\n",
       "      <th>2</th>\n",
       "      <td>13950.0</td>\n",
       "      <td>24.0</td>\n",
       "      <td>41711.0</td>\n",
       "      <td>Diesel</td>\n",
       "      <td>90</td>\n",
       "      <td>NaN</td>\n",
       "      <td>0</td>\n",
       "      <td>2000</td>\n",
       "      <td>3</td>\n",
       "      <td>1165</td>\n",
       "    </tr>\n",
       "    <tr>\n",
       "      <th>3</th>\n",
       "      <td>14950.0</td>\n",
       "      <td>26.0</td>\n",
       "      <td>48000.0</td>\n",
       "      <td>Diesel</td>\n",
       "      <td>90</td>\n",
       "      <td>0.0</td>\n",
       "      <td>0</td>\n",
       "      <td>2000</td>\n",
       "      <td>3</td>\n",
       "      <td>1165</td>\n",
       "    </tr>\n",
       "    <tr>\n",
       "      <th>4</th>\n",
       "      <td>13750.0</td>\n",
       "      <td>30.0</td>\n",
       "      <td>38500.0</td>\n",
       "      <td>Diesel</td>\n",
       "      <td>90</td>\n",
       "      <td>0.0</td>\n",
       "      <td>0</td>\n",
       "      <td>2000</td>\n",
       "      <td>3</td>\n",
       "      <td>1170</td>\n",
       "    </tr>\n",
       "    <tr>\n",
       "      <th>...</th>\n",
       "      <td>...</td>\n",
       "      <td>...</td>\n",
       "      <td>...</td>\n",
       "      <td>...</td>\n",
       "      <td>...</td>\n",
       "      <td>...</td>\n",
       "      <td>...</td>\n",
       "      <td>...</td>\n",
       "      <td>...</td>\n",
       "      <td>...</td>\n",
       "    </tr>\n",
       "    <tr>\n",
       "      <th>1431</th>\n",
       "      <td>7500.0</td>\n",
       "      <td>NaN</td>\n",
       "      <td>20544.0</td>\n",
       "      <td>Petrol</td>\n",
       "      <td>86</td>\n",
       "      <td>1.0</td>\n",
       "      <td>0</td>\n",
       "      <td>1300</td>\n",
       "      <td>3</td>\n",
       "      <td>1025</td>\n",
       "    </tr>\n",
       "    <tr>\n",
       "      <th>1432</th>\n",
       "      <td>10845.0</td>\n",
       "      <td>72.0</td>\n",
       "      <td>NaN</td>\n",
       "      <td>Petrol</td>\n",
       "      <td>86</td>\n",
       "      <td>0.0</td>\n",
       "      <td>0</td>\n",
       "      <td>1300</td>\n",
       "      <td>3</td>\n",
       "      <td>1015</td>\n",
       "    </tr>\n",
       "    <tr>\n",
       "      <th>1433</th>\n",
       "      <td>8500.0</td>\n",
       "      <td>NaN</td>\n",
       "      <td>17016.0</td>\n",
       "      <td>Petrol</td>\n",
       "      <td>86</td>\n",
       "      <td>0.0</td>\n",
       "      <td>0</td>\n",
       "      <td>1300</td>\n",
       "      <td>3</td>\n",
       "      <td>1015</td>\n",
       "    </tr>\n",
       "    <tr>\n",
       "      <th>1434</th>\n",
       "      <td>7250.0</td>\n",
       "      <td>70.0</td>\n",
       "      <td>NaN</td>\n",
       "      <td>NaN</td>\n",
       "      <td>86</td>\n",
       "      <td>1.0</td>\n",
       "      <td>0</td>\n",
       "      <td>1300</td>\n",
       "      <td>3</td>\n",
       "      <td>1015</td>\n",
       "    </tr>\n",
       "    <tr>\n",
       "      <th>1435</th>\n",
       "      <td>6950.0</td>\n",
       "      <td>76.0</td>\n",
       "      <td>1.0</td>\n",
       "      <td>Petrol</td>\n",
       "      <td>110</td>\n",
       "      <td>0.0</td>\n",
       "      <td>0</td>\n",
       "      <td>1600</td>\n",
       "      <td>5</td>\n",
       "      <td>1114</td>\n",
       "    </tr>\n",
       "  </tbody>\n",
       "</table>\n",
       "<p>1436 rows × 10 columns</p>\n",
       "</div>"
      ],
      "text/plain": [
       "        Price   Age       KM FuelType   HP  MetColor  Automatic    CC  Doors  \\\n",
       "0     13500.0  23.0  46986.0   Diesel   90       1.0          0  2000      3   \n",
       "1     13750.0  23.0  72937.0   Diesel   90       1.0          0  2000      3   \n",
       "2     13950.0  24.0  41711.0   Diesel   90       NaN          0  2000      3   \n",
       "3     14950.0  26.0  48000.0   Diesel   90       0.0          0  2000      3   \n",
       "4     13750.0  30.0  38500.0   Diesel   90       0.0          0  2000      3   \n",
       "...       ...   ...      ...      ...  ...       ...        ...   ...    ...   \n",
       "1431   7500.0   NaN  20544.0   Petrol   86       1.0          0  1300      3   \n",
       "1432  10845.0  72.0      NaN   Petrol   86       0.0          0  1300      3   \n",
       "1433   8500.0   NaN  17016.0   Petrol   86       0.0          0  1300      3   \n",
       "1434   7250.0  70.0      NaN      NaN   86       1.0          0  1300      3   \n",
       "1435   6950.0  76.0      1.0   Petrol  110       0.0          0  1600      5   \n",
       "\n",
       "      Weight  \n",
       "0       1165  \n",
       "1       1165  \n",
       "2       1165  \n",
       "3       1165  \n",
       "4       1170  \n",
       "...      ...  \n",
       "1431    1025  \n",
       "1432    1015  \n",
       "1433    1015  \n",
       "1434    1015  \n",
       "1435    1114  \n",
       "\n",
       "[1436 rows x 10 columns]"
      ]
     },
     "execution_count": 99,
     "metadata": {},
     "output_type": "execute_result"
    }
   ],
   "source": [
    "data_csv"
   ]
  },
  {
   "cell_type": "code",
   "execution_count": 100,
   "id": "94e0911d-4c7d-43f9-a173-46f9614eca1e",
   "metadata": {},
   "outputs": [],
   "source": [
    "data_csv.insert(9,'kmranges',\"%\")"
   ]
  },
  {
   "cell_type": "code",
   "execution_count": 101,
   "id": "219c8aab-b7e4-499d-b9f1-4b8729543848",
   "metadata": {},
   "outputs": [
    {
     "data": {
      "text/html": [
       "<div>\n",
       "<style scoped>\n",
       "    .dataframe tbody tr th:only-of-type {\n",
       "        vertical-align: middle;\n",
       "    }\n",
       "\n",
       "    .dataframe tbody tr th {\n",
       "        vertical-align: top;\n",
       "    }\n",
       "\n",
       "    .dataframe thead th {\n",
       "        text-align: right;\n",
       "    }\n",
       "</style>\n",
       "<table border=\"1\" class=\"dataframe\">\n",
       "  <thead>\n",
       "    <tr style=\"text-align: right;\">\n",
       "      <th></th>\n",
       "      <th>Price</th>\n",
       "      <th>Age</th>\n",
       "      <th>KM</th>\n",
       "      <th>FuelType</th>\n",
       "      <th>HP</th>\n",
       "      <th>MetColor</th>\n",
       "      <th>Automatic</th>\n",
       "      <th>CC</th>\n",
       "      <th>Doors</th>\n",
       "      <th>kmranges</th>\n",
       "      <th>Weight</th>\n",
       "    </tr>\n",
       "  </thead>\n",
       "  <tbody>\n",
       "    <tr>\n",
       "      <th>0</th>\n",
       "      <td>13500.0</td>\n",
       "      <td>23.0</td>\n",
       "      <td>46986.0</td>\n",
       "      <td>Diesel</td>\n",
       "      <td>90</td>\n",
       "      <td>1.0</td>\n",
       "      <td>0</td>\n",
       "      <td>2000</td>\n",
       "      <td>3</td>\n",
       "      <td>%</td>\n",
       "      <td>1165</td>\n",
       "    </tr>\n",
       "    <tr>\n",
       "      <th>1</th>\n",
       "      <td>13750.0</td>\n",
       "      <td>23.0</td>\n",
       "      <td>72937.0</td>\n",
       "      <td>Diesel</td>\n",
       "      <td>90</td>\n",
       "      <td>1.0</td>\n",
       "      <td>0</td>\n",
       "      <td>2000</td>\n",
       "      <td>3</td>\n",
       "      <td>%</td>\n",
       "      <td>1165</td>\n",
       "    </tr>\n",
       "    <tr>\n",
       "      <th>2</th>\n",
       "      <td>13950.0</td>\n",
       "      <td>24.0</td>\n",
       "      <td>41711.0</td>\n",
       "      <td>Diesel</td>\n",
       "      <td>90</td>\n",
       "      <td>NaN</td>\n",
       "      <td>0</td>\n",
       "      <td>2000</td>\n",
       "      <td>3</td>\n",
       "      <td>%</td>\n",
       "      <td>1165</td>\n",
       "    </tr>\n",
       "    <tr>\n",
       "      <th>3</th>\n",
       "      <td>14950.0</td>\n",
       "      <td>26.0</td>\n",
       "      <td>48000.0</td>\n",
       "      <td>Diesel</td>\n",
       "      <td>90</td>\n",
       "      <td>0.0</td>\n",
       "      <td>0</td>\n",
       "      <td>2000</td>\n",
       "      <td>3</td>\n",
       "      <td>%</td>\n",
       "      <td>1165</td>\n",
       "    </tr>\n",
       "    <tr>\n",
       "      <th>4</th>\n",
       "      <td>13750.0</td>\n",
       "      <td>30.0</td>\n",
       "      <td>38500.0</td>\n",
       "      <td>Diesel</td>\n",
       "      <td>90</td>\n",
       "      <td>0.0</td>\n",
       "      <td>0</td>\n",
       "      <td>2000</td>\n",
       "      <td>3</td>\n",
       "      <td>%</td>\n",
       "      <td>1170</td>\n",
       "    </tr>\n",
       "    <tr>\n",
       "      <th>...</th>\n",
       "      <td>...</td>\n",
       "      <td>...</td>\n",
       "      <td>...</td>\n",
       "      <td>...</td>\n",
       "      <td>...</td>\n",
       "      <td>...</td>\n",
       "      <td>...</td>\n",
       "      <td>...</td>\n",
       "      <td>...</td>\n",
       "      <td>...</td>\n",
       "      <td>...</td>\n",
       "    </tr>\n",
       "    <tr>\n",
       "      <th>1431</th>\n",
       "      <td>7500.0</td>\n",
       "      <td>NaN</td>\n",
       "      <td>20544.0</td>\n",
       "      <td>Petrol</td>\n",
       "      <td>86</td>\n",
       "      <td>1.0</td>\n",
       "      <td>0</td>\n",
       "      <td>1300</td>\n",
       "      <td>3</td>\n",
       "      <td>%</td>\n",
       "      <td>1025</td>\n",
       "    </tr>\n",
       "    <tr>\n",
       "      <th>1432</th>\n",
       "      <td>10845.0</td>\n",
       "      <td>72.0</td>\n",
       "      <td>NaN</td>\n",
       "      <td>Petrol</td>\n",
       "      <td>86</td>\n",
       "      <td>0.0</td>\n",
       "      <td>0</td>\n",
       "      <td>1300</td>\n",
       "      <td>3</td>\n",
       "      <td>%</td>\n",
       "      <td>1015</td>\n",
       "    </tr>\n",
       "    <tr>\n",
       "      <th>1433</th>\n",
       "      <td>8500.0</td>\n",
       "      <td>NaN</td>\n",
       "      <td>17016.0</td>\n",
       "      <td>Petrol</td>\n",
       "      <td>86</td>\n",
       "      <td>0.0</td>\n",
       "      <td>0</td>\n",
       "      <td>1300</td>\n",
       "      <td>3</td>\n",
       "      <td>%</td>\n",
       "      <td>1015</td>\n",
       "    </tr>\n",
       "    <tr>\n",
       "      <th>1434</th>\n",
       "      <td>7250.0</td>\n",
       "      <td>70.0</td>\n",
       "      <td>NaN</td>\n",
       "      <td>NaN</td>\n",
       "      <td>86</td>\n",
       "      <td>1.0</td>\n",
       "      <td>0</td>\n",
       "      <td>1300</td>\n",
       "      <td>3</td>\n",
       "      <td>%</td>\n",
       "      <td>1015</td>\n",
       "    </tr>\n",
       "    <tr>\n",
       "      <th>1435</th>\n",
       "      <td>6950.0</td>\n",
       "      <td>76.0</td>\n",
       "      <td>1.0</td>\n",
       "      <td>Petrol</td>\n",
       "      <td>110</td>\n",
       "      <td>0.0</td>\n",
       "      <td>0</td>\n",
       "      <td>1600</td>\n",
       "      <td>5</td>\n",
       "      <td>%</td>\n",
       "      <td>1114</td>\n",
       "    </tr>\n",
       "  </tbody>\n",
       "</table>\n",
       "<p>1436 rows × 11 columns</p>\n",
       "</div>"
      ],
      "text/plain": [
       "        Price   Age       KM FuelType   HP  MetColor  Automatic    CC  Doors  \\\n",
       "0     13500.0  23.0  46986.0   Diesel   90       1.0          0  2000      3   \n",
       "1     13750.0  23.0  72937.0   Diesel   90       1.0          0  2000      3   \n",
       "2     13950.0  24.0  41711.0   Diesel   90       NaN          0  2000      3   \n",
       "3     14950.0  26.0  48000.0   Diesel   90       0.0          0  2000      3   \n",
       "4     13750.0  30.0  38500.0   Diesel   90       0.0          0  2000      3   \n",
       "...       ...   ...      ...      ...  ...       ...        ...   ...    ...   \n",
       "1431   7500.0   NaN  20544.0   Petrol   86       1.0          0  1300      3   \n",
       "1432  10845.0  72.0      NaN   Petrol   86       0.0          0  1300      3   \n",
       "1433   8500.0   NaN  17016.0   Petrol   86       0.0          0  1300      3   \n",
       "1434   7250.0  70.0      NaN      NaN   86       1.0          0  1300      3   \n",
       "1435   6950.0  76.0      1.0   Petrol  110       0.0          0  1600      5   \n",
       "\n",
       "     kmranges  Weight  \n",
       "0           %    1165  \n",
       "1           %    1165  \n",
       "2           %    1165  \n",
       "3           %    1165  \n",
       "4           %    1170  \n",
       "...       ...     ...  \n",
       "1431        %    1025  \n",
       "1432        %    1015  \n",
       "1433        %    1015  \n",
       "1434        %    1015  \n",
       "1435        %    1114  \n",
       "\n",
       "[1436 rows x 11 columns]"
      ]
     },
     "execution_count": 101,
     "metadata": {},
     "output_type": "execute_result"
    }
   ],
   "source": [
    "data_csv"
   ]
  },
  {
   "cell_type": "code",
   "execution_count": 102,
   "id": "3ce2f4ab-16eb-4438-9990-3056589d7d08",
   "metadata": {},
   "outputs": [],
   "source": [
    "for i in range(0,len(data_csv['KM'])):\n",
    "    if(data_csv.at[i,'KM']<40000):\n",
    "        data_csv.at[i,'knrange']=\"low\"\n",
    "    else:\n",
    "         data_csv.at[i,'knrange']=\"high\""
   ]
  },
  {
   "cell_type": "code",
   "execution_count": 103,
   "id": "f6e9aa37-d0fa-4c28-b665-43bfb1a64835",
   "metadata": {},
   "outputs": [
    {
     "data": {
      "text/html": [
       "<div>\n",
       "<style scoped>\n",
       "    .dataframe tbody tr th:only-of-type {\n",
       "        vertical-align: middle;\n",
       "    }\n",
       "\n",
       "    .dataframe tbody tr th {\n",
       "        vertical-align: top;\n",
       "    }\n",
       "\n",
       "    .dataframe thead th {\n",
       "        text-align: right;\n",
       "    }\n",
       "</style>\n",
       "<table border=\"1\" class=\"dataframe\">\n",
       "  <thead>\n",
       "    <tr style=\"text-align: right;\">\n",
       "      <th></th>\n",
       "      <th>Price</th>\n",
       "      <th>Age</th>\n",
       "      <th>KM</th>\n",
       "      <th>FuelType</th>\n",
       "      <th>HP</th>\n",
       "      <th>MetColor</th>\n",
       "      <th>Automatic</th>\n",
       "      <th>CC</th>\n",
       "      <th>Doors</th>\n",
       "      <th>kmranges</th>\n",
       "      <th>Weight</th>\n",
       "      <th>knrange</th>\n",
       "    </tr>\n",
       "  </thead>\n",
       "  <tbody>\n",
       "    <tr>\n",
       "      <th>0</th>\n",
       "      <td>13500.0</td>\n",
       "      <td>23.0</td>\n",
       "      <td>46986.0</td>\n",
       "      <td>Diesel</td>\n",
       "      <td>90</td>\n",
       "      <td>1.0</td>\n",
       "      <td>0</td>\n",
       "      <td>2000</td>\n",
       "      <td>3</td>\n",
       "      <td>%</td>\n",
       "      <td>1165</td>\n",
       "      <td>high</td>\n",
       "    </tr>\n",
       "    <tr>\n",
       "      <th>1</th>\n",
       "      <td>13750.0</td>\n",
       "      <td>23.0</td>\n",
       "      <td>72937.0</td>\n",
       "      <td>Diesel</td>\n",
       "      <td>90</td>\n",
       "      <td>1.0</td>\n",
       "      <td>0</td>\n",
       "      <td>2000</td>\n",
       "      <td>3</td>\n",
       "      <td>%</td>\n",
       "      <td>1165</td>\n",
       "      <td>high</td>\n",
       "    </tr>\n",
       "    <tr>\n",
       "      <th>2</th>\n",
       "      <td>13950.0</td>\n",
       "      <td>24.0</td>\n",
       "      <td>41711.0</td>\n",
       "      <td>Diesel</td>\n",
       "      <td>90</td>\n",
       "      <td>NaN</td>\n",
       "      <td>0</td>\n",
       "      <td>2000</td>\n",
       "      <td>3</td>\n",
       "      <td>%</td>\n",
       "      <td>1165</td>\n",
       "      <td>high</td>\n",
       "    </tr>\n",
       "    <tr>\n",
       "      <th>3</th>\n",
       "      <td>14950.0</td>\n",
       "      <td>26.0</td>\n",
       "      <td>48000.0</td>\n",
       "      <td>Diesel</td>\n",
       "      <td>90</td>\n",
       "      <td>0.0</td>\n",
       "      <td>0</td>\n",
       "      <td>2000</td>\n",
       "      <td>3</td>\n",
       "      <td>%</td>\n",
       "      <td>1165</td>\n",
       "      <td>high</td>\n",
       "    </tr>\n",
       "    <tr>\n",
       "      <th>4</th>\n",
       "      <td>13750.0</td>\n",
       "      <td>30.0</td>\n",
       "      <td>38500.0</td>\n",
       "      <td>Diesel</td>\n",
       "      <td>90</td>\n",
       "      <td>0.0</td>\n",
       "      <td>0</td>\n",
       "      <td>2000</td>\n",
       "      <td>3</td>\n",
       "      <td>%</td>\n",
       "      <td>1170</td>\n",
       "      <td>low</td>\n",
       "    </tr>\n",
       "    <tr>\n",
       "      <th>...</th>\n",
       "      <td>...</td>\n",
       "      <td>...</td>\n",
       "      <td>...</td>\n",
       "      <td>...</td>\n",
       "      <td>...</td>\n",
       "      <td>...</td>\n",
       "      <td>...</td>\n",
       "      <td>...</td>\n",
       "      <td>...</td>\n",
       "      <td>...</td>\n",
       "      <td>...</td>\n",
       "      <td>...</td>\n",
       "    </tr>\n",
       "    <tr>\n",
       "      <th>1431</th>\n",
       "      <td>7500.0</td>\n",
       "      <td>NaN</td>\n",
       "      <td>20544.0</td>\n",
       "      <td>Petrol</td>\n",
       "      <td>86</td>\n",
       "      <td>1.0</td>\n",
       "      <td>0</td>\n",
       "      <td>1300</td>\n",
       "      <td>3</td>\n",
       "      <td>%</td>\n",
       "      <td>1025</td>\n",
       "      <td>low</td>\n",
       "    </tr>\n",
       "    <tr>\n",
       "      <th>1432</th>\n",
       "      <td>10845.0</td>\n",
       "      <td>72.0</td>\n",
       "      <td>NaN</td>\n",
       "      <td>Petrol</td>\n",
       "      <td>86</td>\n",
       "      <td>0.0</td>\n",
       "      <td>0</td>\n",
       "      <td>1300</td>\n",
       "      <td>3</td>\n",
       "      <td>%</td>\n",
       "      <td>1015</td>\n",
       "      <td>high</td>\n",
       "    </tr>\n",
       "    <tr>\n",
       "      <th>1433</th>\n",
       "      <td>8500.0</td>\n",
       "      <td>NaN</td>\n",
       "      <td>17016.0</td>\n",
       "      <td>Petrol</td>\n",
       "      <td>86</td>\n",
       "      <td>0.0</td>\n",
       "      <td>0</td>\n",
       "      <td>1300</td>\n",
       "      <td>3</td>\n",
       "      <td>%</td>\n",
       "      <td>1015</td>\n",
       "      <td>low</td>\n",
       "    </tr>\n",
       "    <tr>\n",
       "      <th>1434</th>\n",
       "      <td>7250.0</td>\n",
       "      <td>70.0</td>\n",
       "      <td>NaN</td>\n",
       "      <td>NaN</td>\n",
       "      <td>86</td>\n",
       "      <td>1.0</td>\n",
       "      <td>0</td>\n",
       "      <td>1300</td>\n",
       "      <td>3</td>\n",
       "      <td>%</td>\n",
       "      <td>1015</td>\n",
       "      <td>high</td>\n",
       "    </tr>\n",
       "    <tr>\n",
       "      <th>1435</th>\n",
       "      <td>6950.0</td>\n",
       "      <td>76.0</td>\n",
       "      <td>1.0</td>\n",
       "      <td>Petrol</td>\n",
       "      <td>110</td>\n",
       "      <td>0.0</td>\n",
       "      <td>0</td>\n",
       "      <td>1600</td>\n",
       "      <td>5</td>\n",
       "      <td>%</td>\n",
       "      <td>1114</td>\n",
       "      <td>low</td>\n",
       "    </tr>\n",
       "  </tbody>\n",
       "</table>\n",
       "<p>1436 rows × 12 columns</p>\n",
       "</div>"
      ],
      "text/plain": [
       "        Price   Age       KM FuelType   HP  MetColor  Automatic    CC  Doors  \\\n",
       "0     13500.0  23.0  46986.0   Diesel   90       1.0          0  2000      3   \n",
       "1     13750.0  23.0  72937.0   Diesel   90       1.0          0  2000      3   \n",
       "2     13950.0  24.0  41711.0   Diesel   90       NaN          0  2000      3   \n",
       "3     14950.0  26.0  48000.0   Diesel   90       0.0          0  2000      3   \n",
       "4     13750.0  30.0  38500.0   Diesel   90       0.0          0  2000      3   \n",
       "...       ...   ...      ...      ...  ...       ...        ...   ...    ...   \n",
       "1431   7500.0   NaN  20544.0   Petrol   86       1.0          0  1300      3   \n",
       "1432  10845.0  72.0      NaN   Petrol   86       0.0          0  1300      3   \n",
       "1433   8500.0   NaN  17016.0   Petrol   86       0.0          0  1300      3   \n",
       "1434   7250.0  70.0      NaN      NaN   86       1.0          0  1300      3   \n",
       "1435   6950.0  76.0      1.0   Petrol  110       0.0          0  1600      5   \n",
       "\n",
       "     kmranges  Weight knrange  \n",
       "0           %    1165    high  \n",
       "1           %    1165    high  \n",
       "2           %    1165    high  \n",
       "3           %    1165    high  \n",
       "4           %    1170     low  \n",
       "...       ...     ...     ...  \n",
       "1431        %    1025     low  \n",
       "1432        %    1015    high  \n",
       "1433        %    1015     low  \n",
       "1434        %    1015    high  \n",
       "1435        %    1114     low  \n",
       "\n",
       "[1436 rows x 12 columns]"
      ]
     },
     "execution_count": 103,
     "metadata": {},
     "output_type": "execute_result"
    }
   ],
   "source": [
    "data_csv"
   ]
  },
  {
   "cell_type": "code",
   "execution_count": 104,
   "id": "b369d963-9058-4fdf-8d49-8a14e75f2fb0",
   "metadata": {},
   "outputs": [
    {
     "name": "stdout",
     "output_type": "stream",
     "text": [
      "knrange\n",
      "high    1120\n",
      "low      316\n",
      "Name: count, dtype: int64\n"
     ]
    },
    {
     "ename": "KeyError",
     "evalue": "\"['kmrange'] not found in axis\"",
     "output_type": "error",
     "traceback": [
      "\u001b[1;31m---------------------------------------------------------------------------\u001b[0m",
      "\u001b[1;31mKeyError\u001b[0m                                  Traceback (most recent call last)",
      "Cell \u001b[1;32mIn[104], line 2\u001b[0m\n\u001b[0;32m      1\u001b[0m \u001b[38;5;28mprint\u001b[39m(data_csv[\u001b[38;5;124m'\u001b[39m\u001b[38;5;124mknrange\u001b[39m\u001b[38;5;124m'\u001b[39m]\u001b[38;5;241m.\u001b[39mvalue_counts())\n\u001b[1;32m----> 2\u001b[0m data_csv\u001b[38;5;241m.\u001b[39mdrop([\u001b[38;5;124m'\u001b[39m\u001b[38;5;124mkmranges\u001b[39m\u001b[38;5;124m'\u001b[39m,\u001b[38;5;124m'\u001b[39m\u001b[38;5;124mkmrange\u001b[39m\u001b[38;5;124m'\u001b[39m],axis\u001b[38;5;241m=\u001b[39m\u001b[38;5;241m1\u001b[39m,inplace\u001b[38;5;241m=\u001b[39m\u001b[38;5;28;01mTrue\u001b[39;00m)\n",
      "File \u001b[1;32mC:\\ProgramData\\anaconda3\\Lib\\site-packages\\pandas\\core\\frame.py:5344\u001b[0m, in \u001b[0;36mDataFrame.drop\u001b[1;34m(self, labels, axis, index, columns, level, inplace, errors)\u001b[0m\n\u001b[0;32m   5196\u001b[0m \u001b[38;5;28;01mdef\u001b[39;00m \u001b[38;5;21mdrop\u001b[39m(\n\u001b[0;32m   5197\u001b[0m     \u001b[38;5;28mself\u001b[39m,\n\u001b[0;32m   5198\u001b[0m     labels: IndexLabel \u001b[38;5;241m|\u001b[39m \u001b[38;5;28;01mNone\u001b[39;00m \u001b[38;5;241m=\u001b[39m \u001b[38;5;28;01mNone\u001b[39;00m,\n\u001b[1;32m   (...)\u001b[0m\n\u001b[0;32m   5205\u001b[0m     errors: IgnoreRaise \u001b[38;5;241m=\u001b[39m \u001b[38;5;124m\"\u001b[39m\u001b[38;5;124mraise\u001b[39m\u001b[38;5;124m\"\u001b[39m,\n\u001b[0;32m   5206\u001b[0m ) \u001b[38;5;241m-\u001b[39m\u001b[38;5;241m>\u001b[39m DataFrame \u001b[38;5;241m|\u001b[39m \u001b[38;5;28;01mNone\u001b[39;00m:\n\u001b[0;32m   5207\u001b[0m \u001b[38;5;250m    \u001b[39m\u001b[38;5;124;03m\"\"\"\u001b[39;00m\n\u001b[0;32m   5208\u001b[0m \u001b[38;5;124;03m    Drop specified labels from rows or columns.\u001b[39;00m\n\u001b[0;32m   5209\u001b[0m \n\u001b[1;32m   (...)\u001b[0m\n\u001b[0;32m   5342\u001b[0m \u001b[38;5;124;03m            weight  1.0     0.8\u001b[39;00m\n\u001b[0;32m   5343\u001b[0m \u001b[38;5;124;03m    \"\"\"\u001b[39;00m\n\u001b[1;32m-> 5344\u001b[0m     \u001b[38;5;28;01mreturn\u001b[39;00m \u001b[38;5;28msuper\u001b[39m()\u001b[38;5;241m.\u001b[39mdrop(\n\u001b[0;32m   5345\u001b[0m         labels\u001b[38;5;241m=\u001b[39mlabels,\n\u001b[0;32m   5346\u001b[0m         axis\u001b[38;5;241m=\u001b[39maxis,\n\u001b[0;32m   5347\u001b[0m         index\u001b[38;5;241m=\u001b[39mindex,\n\u001b[0;32m   5348\u001b[0m         columns\u001b[38;5;241m=\u001b[39mcolumns,\n\u001b[0;32m   5349\u001b[0m         level\u001b[38;5;241m=\u001b[39mlevel,\n\u001b[0;32m   5350\u001b[0m         inplace\u001b[38;5;241m=\u001b[39minplace,\n\u001b[0;32m   5351\u001b[0m         errors\u001b[38;5;241m=\u001b[39merrors,\n\u001b[0;32m   5352\u001b[0m     )\n",
      "File \u001b[1;32mC:\\ProgramData\\anaconda3\\Lib\\site-packages\\pandas\\core\\generic.py:4711\u001b[0m, in \u001b[0;36mNDFrame.drop\u001b[1;34m(self, labels, axis, index, columns, level, inplace, errors)\u001b[0m\n\u001b[0;32m   4709\u001b[0m \u001b[38;5;28;01mfor\u001b[39;00m axis, labels \u001b[38;5;129;01min\u001b[39;00m axes\u001b[38;5;241m.\u001b[39mitems():\n\u001b[0;32m   4710\u001b[0m     \u001b[38;5;28;01mif\u001b[39;00m labels \u001b[38;5;129;01mis\u001b[39;00m \u001b[38;5;129;01mnot\u001b[39;00m \u001b[38;5;28;01mNone\u001b[39;00m:\n\u001b[1;32m-> 4711\u001b[0m         obj \u001b[38;5;241m=\u001b[39m obj\u001b[38;5;241m.\u001b[39m_drop_axis(labels, axis, level\u001b[38;5;241m=\u001b[39mlevel, errors\u001b[38;5;241m=\u001b[39merrors)\n\u001b[0;32m   4713\u001b[0m \u001b[38;5;28;01mif\u001b[39;00m inplace:\n\u001b[0;32m   4714\u001b[0m     \u001b[38;5;28mself\u001b[39m\u001b[38;5;241m.\u001b[39m_update_inplace(obj)\n",
      "File \u001b[1;32mC:\\ProgramData\\anaconda3\\Lib\\site-packages\\pandas\\core\\generic.py:4753\u001b[0m, in \u001b[0;36mNDFrame._drop_axis\u001b[1;34m(self, labels, axis, level, errors, only_slice)\u001b[0m\n\u001b[0;32m   4751\u001b[0m         new_axis \u001b[38;5;241m=\u001b[39m axis\u001b[38;5;241m.\u001b[39mdrop(labels, level\u001b[38;5;241m=\u001b[39mlevel, errors\u001b[38;5;241m=\u001b[39merrors)\n\u001b[0;32m   4752\u001b[0m     \u001b[38;5;28;01melse\u001b[39;00m:\n\u001b[1;32m-> 4753\u001b[0m         new_axis \u001b[38;5;241m=\u001b[39m axis\u001b[38;5;241m.\u001b[39mdrop(labels, errors\u001b[38;5;241m=\u001b[39merrors)\n\u001b[0;32m   4754\u001b[0m     indexer \u001b[38;5;241m=\u001b[39m axis\u001b[38;5;241m.\u001b[39mget_indexer(new_axis)\n\u001b[0;32m   4756\u001b[0m \u001b[38;5;66;03m# Case for non-unique axis\u001b[39;00m\n\u001b[0;32m   4757\u001b[0m \u001b[38;5;28;01melse\u001b[39;00m:\n",
      "File \u001b[1;32mC:\\ProgramData\\anaconda3\\Lib\\site-packages\\pandas\\core\\indexes\\base.py:7000\u001b[0m, in \u001b[0;36mIndex.drop\u001b[1;34m(self, labels, errors)\u001b[0m\n\u001b[0;32m   6998\u001b[0m \u001b[38;5;28;01mif\u001b[39;00m mask\u001b[38;5;241m.\u001b[39many():\n\u001b[0;32m   6999\u001b[0m     \u001b[38;5;28;01mif\u001b[39;00m errors \u001b[38;5;241m!=\u001b[39m \u001b[38;5;124m\"\u001b[39m\u001b[38;5;124mignore\u001b[39m\u001b[38;5;124m\"\u001b[39m:\n\u001b[1;32m-> 7000\u001b[0m         \u001b[38;5;28;01mraise\u001b[39;00m \u001b[38;5;167;01mKeyError\u001b[39;00m(\u001b[38;5;124mf\u001b[39m\u001b[38;5;124m\"\u001b[39m\u001b[38;5;132;01m{\u001b[39;00mlabels[mask]\u001b[38;5;241m.\u001b[39mtolist()\u001b[38;5;132;01m}\u001b[39;00m\u001b[38;5;124m not found in axis\u001b[39m\u001b[38;5;124m\"\u001b[39m)\n\u001b[0;32m   7001\u001b[0m     indexer \u001b[38;5;241m=\u001b[39m indexer[\u001b[38;5;241m~\u001b[39mmask]\n\u001b[0;32m   7002\u001b[0m \u001b[38;5;28;01mreturn\u001b[39;00m \u001b[38;5;28mself\u001b[39m\u001b[38;5;241m.\u001b[39mdelete(indexer)\n",
      "\u001b[1;31mKeyError\u001b[0m: \"['kmrange'] not found in axis\""
     ]
    }
   ],
   "source": [
    "print(data_csv['knrange'].value_counts())\n",
    "data_csv.drop(['kmranges','kmrange'],axis=1,inplace=True)"
   ]
  },
  {
   "cell_type": "code",
   "execution_count": null,
   "id": "c2229d85-61e9-416a-b152-c2e36a9a73af",
   "metadata": {},
   "outputs": [],
   "source": [
    "data_csv"
   ]
  },
  {
   "cell_type": "code",
   "execution_count": null,
   "id": "abb4fb64-98b6-4485-9ae5-190d610df62d",
   "metadata": {},
   "outputs": [],
   "source": [
    "data=data_csv.copy(deep=False)"
   ]
  },
  {
   "cell_type": "code",
   "execution_count": null,
   "id": "4e34947c-5ba8-481a-8103-21f5773c74a3",
   "metadata": {},
   "outputs": [],
   "source": [
    "data"
   ]
  },
  {
   "cell_type": "code",
   "execution_count": null,
   "id": "1abf5f3f-b140-49af-b3cd-749eea46257a",
   "metadata": {},
   "outputs": [],
   "source": [
    "data.insert(10,'age in years',0)"
   ]
  },
  {
   "cell_type": "code",
   "execution_count": null,
   "id": "2fb37ad3-7e42-4202-9d0d-e40253bffdbb",
   "metadata": {},
   "outputs": [],
   "source": [
    "data"
   ]
  },
  {
   "cell_type": "code",
   "execution_count": null,
   "id": "a6694df8-0b74-4692-87bb-317c76bfb641",
   "metadata": {},
   "outputs": [],
   "source": [
    "def age_converted(age):\n",
    "    age=age/12;\n",
    "    return age\n",
    "\n"
   ]
  },
  {
   "cell_type": "code",
   "execution_count": null,
   "id": "bd2ececd-5cfc-443a-b300-67b8ec620d40",
   "metadata": {},
   "outputs": [],
   "source": [
    "#exploratory data analysis\n"
   ]
  },
  {
   "cell_type": "code",
   "execution_count": null,
   "id": "9f6e42dc-f57b-4a0a-9b8a-fec22ab5b20e",
   "metadata": {},
   "outputs": [],
   "source": [
    "pd.crosstab(index=data['FuelType'],columns=\"frequency\",dropna=True)"
   ]
  },
  {
   "cell_type": "code",
   "execution_count": null,
   "id": "7e113eb6-4509-428f-8bd9-9edba12701e4",
   "metadata": {},
   "outputs": [],
   "source": [
    "pd.crosstab(index=data['Automatic'],columns=data['FuelType'],dropna=True)"
   ]
  },
  {
   "cell_type": "code",
   "execution_count": null,
   "id": "f4ce8d0a-8821-4165-9fbb-36c1ee5edb31",
   "metadata": {},
   "outputs": [],
   "source": [
    "pd.crosstab(index=data['Automatic'],columns=data['FuelType'],dropna=True,normalize=True)"
   ]
  },
  {
   "cell_type": "code",
   "execution_count": null,
   "id": "5b938294-af2d-49e3-a110-25cad9492eac",
   "metadata": {},
   "outputs": [],
   "source": [
    "pd.crosstab(index=data['Automatic'],columns=data['FuelType'],dropna=True,normalize=True,margins=True)"
   ]
  },
  {
   "cell_type": "code",
   "execution_count": null,
   "id": "98362747-7dc7-4298-9158-a5e5a1e2dc03",
   "metadata": {},
   "outputs": [],
   "source": [
    "pd.crosstab(index=data['Automatic'],columns=data['FuelType'],dropna=True,margins=True,normalize='index')"
   ]
  },
  {
   "cell_type": "code",
   "execution_count": null,
   "id": "8120e3c3-ada6-4c56-aaf5-8047c3a28e69",
   "metadata": {},
   "outputs": [],
   "source": [
    "numerical=data.select_dtypes(exclude=['object','category'])"
   ]
  },
  {
   "cell_type": "code",
   "execution_count": null,
   "id": "0986a1d7-880e-4cae-8a81-3b0a0dbb5bd0",
   "metadata": {},
   "outputs": [],
   "source": [
    "numerical"
   ]
  },
  {
   "cell_type": "code",
   "execution_count": null,
   "id": "212c5d61-2598-46e4-9b31-e3361a569773",
   "metadata": {},
   "outputs": [],
   "source": [
    "numerical.corr()"
   ]
  },
  {
   "cell_type": "code",
   "execution_count": null,
   "id": "7672908b-c704-4b3c-a700-84e622474482",
   "metadata": {},
   "outputs": [],
   "source": [
    "import matplotlib.pyplot as plt"
   ]
  },
  {
   "cell_type": "code",
   "execution_count": null,
   "id": "855c7b42-29f9-4f1a-b08b-c8237d4cbc35",
   "metadata": {},
   "outputs": [],
   "source": [
    "import seaborn "
   ]
  },
  {
   "cell_type": "code",
   "execution_count": null,
   "id": "bfba6de5-53c5-4562-8b00-53e6e71d806f",
   "metadata": {},
   "outputs": [],
   "source": [
    "data.dropna(axis=0,inplace=True)"
   ]
  },
  {
   "cell_type": "code",
   "execution_count": null,
   "id": "025879a0-a670-4c71-94fe-08f8ba1c80f0",
   "metadata": {},
   "outputs": [],
   "source": [
    "plt.scatter(data['Age'],data['Price'],c=\"pink\")\n",
    "plt.title(\"price and age graph\")\n",
    "plt.xlabel(\"Age\")\n",
    "plt.ylabel(\"price\")\n",
    "plt.show()"
   ]
  },
  {
   "cell_type": "code",
   "execution_count": null,
   "id": "f0e413c2-c440-4a77-9a1b-4abc6ac9ac51",
   "metadata": {},
   "outputs": [],
   "source": [
    "data.isnull().sum()"
   ]
  },
  {
   "cell_type": "code",
   "execution_count": null,
   "id": "3a4b01c2-437e-418a-85db-2ad56bc228b1",
   "metadata": {},
   "outputs": [],
   "source": [
    "d=pd.read_csv(\"Toyota.csv\",na_values=['??'],index_col=0)"
   ]
  },
  {
   "cell_type": "code",
   "execution_count": null,
   "id": "3dfb83e6-4151-4961-81f4-0346fb6abb03",
   "metadata": {},
   "outputs": [],
   "source": [
    "d"
   ]
  },
  {
   "cell_type": "code",
   "execution_count": null,
   "id": "0161605c-cf4c-4361-b73e-f7a9784aaddf",
   "metadata": {},
   "outputs": [],
   "source": [
    "d.isnull().sum()\n"
   ]
  },
  {
   "cell_type": "code",
   "execution_count": null,
   "id": "16c7f286-c1de-4799-8838-b12ad895a331",
   "metadata": {},
   "outputs": [],
   "source": [
    "missing=d[d.isnull().any(axis=1)]"
   ]
  },
  {
   "cell_type": "code",
   "execution_count": null,
   "id": "56b5aa1e-a567-41f3-a27b-ce2a44f47ad9",
   "metadata": {},
   "outputs": [],
   "source": [
    "missing"
   ]
  },
  {
   "cell_type": "code",
   "execution_count": null,
   "id": "c939728a-3dbc-4ade-a69a-5c46cc816981",
   "metadata": {},
   "outputs": [],
   "source": [
    "d.describe()"
   ]
  },
  {
   "cell_type": "code",
   "execution_count": null,
   "id": "9668b189-0c53-4f3c-ad7f-8ab8c1fb6cd8",
   "metadata": {},
   "outputs": [],
   "source": [
    "x=d['Age'].mean()\n"
   ]
  },
  {
   "cell_type": "code",
   "execution_count": null,
   "id": "c07733a1-04a0-46e8-b294-7e698866dcff",
   "metadata": {},
   "outputs": [],
   "source": [
    "x"
   ]
  },
  {
   "cell_type": "code",
   "execution_count": null,
   "id": "4d52cf14-a6ea-4460-aab8-b6f4c7bc5a0f",
   "metadata": {},
   "outputs": [],
   "source": [
    "d['Age']=d['Age'].fillna(x)"
   ]
  },
  {
   "cell_type": "code",
   "execution_count": null,
   "id": "4086e211-c7bd-4a85-ab85-a5dea16b5109",
   "metadata": {},
   "outputs": [],
   "source": [
    "d.isnull().sum()"
   ]
  },
  {
   "cell_type": "code",
   "execution_count": null,
   "id": "334b574e-73e0-4519-ae56-3433c5856f30",
   "metadata": {},
   "outputs": [],
   "source": [
    "d['KM'].fillna(d['KM'].median(),inplace=True)"
   ]
  },
  {
   "cell_type": "code",
   "execution_count": null,
   "id": "06590c62-f8a2-48be-99a6-f8f8018e922c",
   "metadata": {},
   "outputs": [],
   "source": [
    "d.isna().sum()"
   ]
  },
  {
   "cell_type": "code",
   "execution_count": null,
   "id": "c1f6f905-af22-4ddb-a707-594e31edbd9f",
   "metadata": {},
   "outputs": [],
   "source": [
    "y=d['FuelType'].value_counts().index[0]"
   ]
  },
  {
   "cell_type": "code",
   "execution_count": null,
   "id": "734f1328-9c61-479c-874d-9fe8d22e469b",
   "metadata": {},
   "outputs": [],
   "source": [
    "d['FuelType'].fillna(\"hello\",inplace=True)"
   ]
  },
  {
   "cell_type": "code",
   "execution_count": null,
   "id": "48ef6b77-f50c-40dd-bc64-109d397c16a3",
   "metadata": {},
   "outputs": [],
   "source": [
    "d.isnull().sum()"
   ]
  },
  {
   "cell_type": "code",
   "execution_count": null,
   "id": "eadec28c-4d99-410d-8f06-98c5fd3f52dc",
   "metadata": {},
   "outputs": [],
   "source": []
  },
  {
   "cell_type": "code",
   "execution_count": null,
   "id": "94d692cf-10f5-4a60-a39e-1209fa3e36cf",
   "metadata": {},
   "outputs": [],
   "source": [
    "#oops\n",
    "class student:\n",
    "\n",
    "    no_of_students=0\n",
    "    def __init__(self,name,id,no):\n",
    "        self.name=name\n",
    "        self.id=id\n",
    "        self.no=no\n",
    "        student.no_of_students+=1\n",
    "    def show_details(self):\n",
    "        print(self.name,self.id,self.no)\n",
    "s1=student(\"srikanth\",\"s201081\",9951720674)\n",
    "s2=student(\"sravan\",\"s201082\",900012434)\n",
    "\n",
    "s1.show_details()\n",
    "s2.show_details()\n",
    "\n",
    "print(student.no_of_students)\n",
    "    "
   ]
  },
  {
   "cell_type": "code",
   "execution_count": null,
   "id": "ab3376c2-f32e-467a-9eec-0e6eddd24b43",
   "metadata": {},
   "outputs": [],
   "source": []
  }
 ],
 "metadata": {
  "kernelspec": {
   "display_name": "Python 3 (ipykernel)",
   "language": "python",
   "name": "python3"
  },
  "language_info": {
   "codemirror_mode": {
    "name": "ipython",
    "version": 3
   },
   "file_extension": ".py",
   "mimetype": "text/x-python",
   "name": "python",
   "nbconvert_exporter": "python",
   "pygments_lexer": "ipython3",
   "version": "3.11.7"
  }
 },
 "nbformat": 4,
 "nbformat_minor": 5
}
