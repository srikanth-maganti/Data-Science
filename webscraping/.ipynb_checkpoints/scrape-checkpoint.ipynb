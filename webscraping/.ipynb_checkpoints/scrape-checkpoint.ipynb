{
 "cells": [
  {
   "cell_type": "code",
   "execution_count": 5,
   "id": "aab0ad00-8d1e-43d8-aeb2-8fb14ba504bd",
   "metadata": {},
   "outputs": [],
   "source": [
    "from bs4 import BeautifulSoup\n",
    "import requests"
   ]
  },
  {
   "cell_type": "code",
   "execution_count": 18,
   "id": "d69aa533-6e15-4e17-88b5-0226441650c6",
   "metadata": {},
   "outputs": [
    {
     "name": "stdout",
     "output_type": "stream",
     "text": [
      "<!DOCTYPE html>\n",
      "<html class=\"no-js\" lang=\"\">\n",
      "<head>\n",
      "<title>Test - A Sample Website</title>\n",
      "<meta charset=\"utf-8\"/>\n",
      "<link href=\"css/normalize.css\" rel=\"stylesheet\"/>\n",
      "<link href=\"css/main.css\" rel=\"stylesheet\"/>\n",
      "</head>\n",
      "<body>\n",
      "<h1 id=\"site_title\">Test Website</h1>\n",
      "<hr/>\n",
      "<div class=\"article\">\n",
      "<h2><a href=\"article_1.html\">Article 1 Headline</a></h2>\n",
      "<p>This is a summary of article 1</p>\n",
      "</div>\n",
      "<hr/>\n",
      "<div class=\"article\">\n",
      "<h2><a href=\"article_2.html\">Article 2 Headline</a></h2>\n",
      "<p>This is a summary of article 2</p>\n",
      "</div>\n",
      "<hr/>\n",
      "<div class=\"footer\">\n",
      "<p>Footer Information</p>\n",
      "</div>\n",
      "<script src=\"js/vendor/modernizr-3.5.0.min.js\"></script>\n",
      "<script src=\"js/plugins.js\"></script>\n",
      "<script src=\"js/main.js\"></script>\n",
      "</body>\n",
      "</html>\n",
      "\n"
     ]
    }
   ],
   "source": [
    "#introduction\n",
    "with open(\"simple.html\") as html_file:\n",
    "    soup=BeautifulSoup(html_file,'lxml')\n",
    "print(soup)"
   ]
  },
  {
   "cell_type": "code",
   "execution_count": 8,
   "id": "5c1492ab-64ae-4dbd-a63a-a5edcff45ee6",
   "metadata": {},
   "outputs": [
    {
     "name": "stdout",
     "output_type": "stream",
     "text": [
      "<!DOCTYPE html>\n",
      "<html class=\"no-js\" lang=\"\">\n",
      " <head>\n",
      "  <title>\n",
      "   Test - A Sample Website\n",
      "  </title>\n",
      "  <meta charset=\"utf-8\"/>\n",
      "  <link href=\"css/normalize.css\" rel=\"stylesheet\"/>\n",
      "  <link href=\"css/main.css\" rel=\"stylesheet\"/>\n",
      " </head>\n",
      " <body>\n",
      "  <h1 id=\"site_title\">\n",
      "   Test Website\n",
      "  </h1>\n",
      "  <hr/>\n",
      "  <div class=\"article\">\n",
      "   <h2>\n",
      "    <a href=\"article_1.html\">\n",
      "     Article 1 Headline\n",
      "    </a>\n",
      "   </h2>\n",
      "   <p>\n",
      "    This is a summary of article 1\n",
      "   </p>\n",
      "  </div>\n",
      "  <hr/>\n",
      "  <div class=\"article\">\n",
      "   <h2>\n",
      "    <a href=\"article_2.html\">\n",
      "     Article 2 Headline\n",
      "    </a>\n",
      "   </h2>\n",
      "   <p>\n",
      "    This is a summary of article 2\n",
      "   </p>\n",
      "  </div>\n",
      "  <hr/>\n",
      "  <div class=\"footer\">\n",
      "   <p>\n",
      "    Footer Information\n",
      "   </p>\n",
      "  </div>\n",
      "  <script src=\"js/vendor/modernizr-3.5.0.min.js\">\n",
      "  </script>\n",
      "  <script src=\"js/plugins.js\">\n",
      "  </script>\n",
      "  <script src=\"js/main.js\">\n",
      "  </script>\n",
      " </body>\n",
      "</html>\n",
      "\n"
     ]
    }
   ],
   "source": [
    "print(soup.prettify())"
   ]
  },
  {
   "cell_type": "code",
   "execution_count": 13,
   "id": "0589d84f-f507-4a79-a683-1562425d22d0",
   "metadata": {},
   "outputs": [
    {
     "name": "stdout",
     "output_type": "stream",
     "text": [
      "Test - A Sample Website\n"
     ]
    }
   ],
   "source": [
    "#parsing\n",
    "match=soup.title.text\n",
    "print(match)\n"
   ]
  },
  {
   "cell_type": "code",
   "execution_count": 15,
   "id": "fd6d481c-90ab-4bd9-be05-b9fc3d3f8864",
   "metadata": {},
   "outputs": [
    {
     "name": "stdout",
     "output_type": "stream",
     "text": [
      "<div class=\"article\">\n",
      "<h2><a href=\"article_1.html\">Article 1 Headline</a></h2>\n",
      "<p>This is a summary of article 1</p>\n",
      "</div>\n"
     ]
    }
   ],
   "source": [
    "match=soup.div  #only first div\n",
    "print(match)"
   ]
  },
  {
   "cell_type": "code",
   "execution_count": 17,
   "id": "516ccf26-e70a-46ee-b3da-8cb8023ee472",
   "metadata": {},
   "outputs": [
    {
     "name": "stdout",
     "output_type": "stream",
     "text": [
      "<div class=\"footer\">\n",
      "<p>Footer Information</p>\n",
      "</div>\n"
     ]
    }
   ],
   "source": [
    "#parsing by passing attributes\n",
    "match=soup.find('div',class_=\"footer\")\n",
    "print(match)"
   ]
  },
  {
   "cell_type": "code",
   "execution_count": 20,
   "id": "b98ab623-cea5-43bc-8682-1ea7413f6807",
   "metadata": {},
   "outputs": [
    {
     "name": "stdout",
     "output_type": "stream",
     "text": [
      "Article 1 Headline\n",
      "This is a summary of article 1\n",
      "\n",
      "Article 2 Headline\n",
      "This is a summary of article 2\n",
      "\n"
     ]
    }
   ],
   "source": [
    "#scraping headings and summary of each article\n",
    "with open(\"simple.html\") as f:\n",
    "    soup=BeautifulSoup(f,'lxml')\n",
    "for article in soup.find_all('div', class_=\"article\"):\n",
    "        print(article.h2.a.text)\n",
    "        print(article.p.text)\n",
    "        print()\n"
   ]
  },
  {
   "cell_type": "code",
   "execution_count": null,
   "id": "ade8e5f8-b99c-4ff3-8de3-113159f36f00",
   "metadata": {},
   "outputs": [],
   "source": [
    "\n"
   ]
  }
 ],
 "metadata": {
  "kernelspec": {
   "display_name": "Python 3 (ipykernel)",
   "language": "python",
   "name": "python3"
  },
  "language_info": {
   "codemirror_mode": {
    "name": "ipython",
    "version": 3
   },
   "file_extension": ".py",
   "mimetype": "text/x-python",
   "name": "python",
   "nbconvert_exporter": "python",
   "pygments_lexer": "ipython3",
   "version": "3.11.7"
  }
 },
 "nbformat": 4,
 "nbformat_minor": 5
}
