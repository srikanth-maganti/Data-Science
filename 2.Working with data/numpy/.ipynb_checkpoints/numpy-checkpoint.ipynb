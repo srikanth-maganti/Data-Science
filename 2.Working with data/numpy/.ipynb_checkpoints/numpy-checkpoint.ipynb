{
 "cells": [
  {
   "cell_type": "markdown",
   "id": "bdb15a55-a8e6-4638-9faf-1957f94b8f39",
   "metadata": {},
   "source": [
    "# NUMPY\n"
   ]
  },
  {
   "cell_type": "code",
   "execution_count": 2,
   "id": "e9115783-f9ee-4f04-877a-71fa45675c80",
   "metadata": {},
   "outputs": [],
   "source": [
    "import numpy as np"
   ]
  },
  {
   "cell_type": "code",
   "execution_count": 49,
   "id": "7558954d-ff87-4d30-ae54-02fabd9d5124",
   "metadata": {},
   "outputs": [
    {
     "name": "stdout",
     "output_type": "stream",
     "text": [
      "[1 2 3 4]\n"
     ]
    }
   ],
   "source": [
    "arr=np.array([1,2,3,4])\n",
    "print(arr)"
   ]
  },
  {
   "cell_type": "code",
   "execution_count": 50,
   "id": "424ba111-445a-4366-b153-db9514468a16",
   "metadata": {},
   "outputs": [
    {
     "data": {
      "text/plain": [
       "1"
      ]
     },
     "execution_count": 50,
     "metadata": {},
     "output_type": "execute_result"
    }
   ],
   "source": [
    "arr[0]"
   ]
  },
  {
   "cell_type": "code",
   "execution_count": 51,
   "id": "03962c83-c811-4329-854f-24a10a8a279d",
   "metadata": {},
   "outputs": [
    {
     "data": {
      "text/plain": [
       "2"
      ]
     },
     "execution_count": 51,
     "metadata": {},
     "output_type": "execute_result"
    }
   ],
   "source": [
    "arr[1]"
   ]
  },
  {
   "cell_type": "markdown",
   "id": "8d9e3346-6a52-4d45-acc5-c8bc52a2a90f",
   "metadata": {},
   "source": [
    "### numpy array vs normal array"
   ]
  },
  {
   "cell_type": "code",
   "execution_count": 52,
   "id": "d66b5833-eb46-41a8-8923-c6cf0fa9285e",
   "metadata": {},
   "outputs": [],
   "source": [
    "import sys\n",
    "from array import *\n",
    "ar=array(\"i\",[1,2,3,4])\n"
   ]
  },
  {
   "cell_type": "code",
   "execution_count": 53,
   "id": "6b387fed-14e2-416c-b51a-f066d3c5743e",
   "metadata": {},
   "outputs": [],
   "source": [
    "#size comparision"
   ]
  },
  {
   "cell_type": "code",
   "execution_count": 54,
   "id": "faaa7264-88ef-4e21-9200-435c4e15383f",
   "metadata": {},
   "outputs": [
    {
     "data": {
      "text/plain": [
       "96"
      ]
     },
     "execution_count": 54,
     "metadata": {},
     "output_type": "execute_result"
    }
   ],
   "source": [
    "sys.getsizeof(ar)"
   ]
  },
  {
   "cell_type": "code",
   "execution_count": 55,
   "id": "459a742f-c47f-4882-bdcc-6c3d552dc59a",
   "metadata": {},
   "outputs": [
    {
     "data": {
      "text/plain": [
       "16"
      ]
     },
     "execution_count": 55,
     "metadata": {},
     "output_type": "execute_result"
    }
   ],
   "source": [
    "arr.nbytes"
   ]
  },
  {
   "cell_type": "code",
   "execution_count": 56,
   "id": "3816c01c-4d6f-4b96-b71e-a1b2920adc36",
   "metadata": {},
   "outputs": [
    {
     "name": "stdout",
     "output_type": "stream",
     "text": [
      "28000\n",
      "4000\n"
     ]
    }
   ],
   "source": [
    "l=range(1000)\n",
    "ll=np.arange(1000)\n",
    "print(sys.getsizeof(1)*1000)\n",
    "print(ll.size*ll.itemsize)\n"
   ]
  },
  {
   "cell_type": "code",
   "execution_count": 78,
   "id": "02bd2275-9a8d-40fb-a4eb-5c6c4dc2e8af",
   "metadata": {},
   "outputs": [],
   "source": [
    "#speed  comparision\n",
    "\n",
    "import time\n",
    "l1=range(10000)\n",
    "l2=range(10000)\n",
    "a1=np.arange(10000)\n",
    "a2=np.arange(10000)\n",
    "\n"
   ]
  },
  {
   "cell_type": "code",
   "execution_count": 87,
   "id": "1aa73372-ce86-40de-9085-0d1b1fabbbcb",
   "metadata": {},
   "outputs": [
    {
     "name": "stdout",
     "output_type": "stream",
     "text": [
      "4.045009613037109\n"
     ]
    }
   ],
   "source": [
    "start=time.time()\n",
    "result=[(x+y)for x,y in zip(l1,l2)]\n",
    "print((time.time()-start)*1000)\n"
   ]
  },
  {
   "cell_type": "code",
   "execution_count": 88,
   "id": "56d7a6f1-b511-413f-a0f4-3d5655769497",
   "metadata": {},
   "outputs": [
    {
     "name": "stdout",
     "output_type": "stream",
     "text": [
      "1.5187263488769531\n"
     ]
    }
   ],
   "source": [
    "start=time.time()\n",
    "result=a1+a2\n",
    "\n",
    "print((time.time()-start)*1000)\n"
   ]
  },
  {
   "cell_type": "code",
   "execution_count": null,
   "id": "bba6ab27-68ba-4730-9159-ab2b0db0102a",
   "metadata": {},
   "outputs": [],
   "source": [
    "\n",
    "\n"
   ]
  },
  {
   "cell_type": "code",
   "execution_count": 90,
   "id": "f8879761-e8a1-428e-8499-9a61482c1c82",
   "metadata": {},
   "outputs": [
    {
     "data": {
      "text/plain": [
       "array([[2., 3.],\n",
       "       [4., 5.],\n",
       "       [6., 7.]])"
      ]
     },
     "execution_count": 90,
     "metadata": {},
     "output_type": "execute_result"
    }
   ],
   "source": [
    "a=np.array([[2,3],[4,5],[6,7]], dtype=np.float64)\n",
    "a\n"
   ]
  },
  {
   "cell_type": "code",
   "execution_count": 92,
   "id": "00fa9e42-cd55-45f2-98f7-7c6c23703575",
   "metadata": {},
   "outputs": [
    {
     "data": {
      "text/plain": [
       "array([[2, 3],\n",
       "       [4, 5],\n",
       "       [6, 7]], dtype=int64)"
      ]
     },
     "execution_count": 92,
     "metadata": {},
     "output_type": "execute_result"
    }
   ],
   "source": [
    "a=np.array([[2,3],[4,5],[6,7]], dtype=np.int64)\n",
    "a"
   ]
  },
  {
   "cell_type": "code",
   "execution_count": 93,
   "id": "fa096be7-6799-49c4-a3a0-a2d4baed2f9e",
   "metadata": {},
   "outputs": [
    {
     "data": {
      "text/plain": [
       "2"
      ]
     },
     "execution_count": 93,
     "metadata": {},
     "output_type": "execute_result"
    }
   ],
   "source": [
    "a.ndim"
   ]
  },
  {
   "cell_type": "code",
   "execution_count": 94,
   "id": "73d66863-379b-4a0c-9105-d9442add7877",
   "metadata": {},
   "outputs": [
    {
     "data": {
      "text/plain": [
       "6"
      ]
     },
     "execution_count": 94,
     "metadata": {},
     "output_type": "execute_result"
    }
   ],
   "source": [
    "a.size  #no of elements"
   ]
  },
  {
   "cell_type": "code",
   "execution_count": 96,
   "id": "a45306fe-e7d6-465a-bf25-0489a7577c8b",
   "metadata": {},
   "outputs": [
    {
     "data": {
      "text/plain": [
       "8"
      ]
     },
     "execution_count": 96,
     "metadata": {},
     "output_type": "execute_result"
    }
   ],
   "source": [
    "a.itemsize #size of one element"
   ]
  },
  {
   "cell_type": "code",
   "execution_count": 97,
   "id": "56633a98-7375-4223-b7b5-69dd51aba2d6",
   "metadata": {},
   "outputs": [
    {
     "data": {
      "text/plain": [
       "(3, 2)"
      ]
     },
     "execution_count": 97,
     "metadata": {},
     "output_type": "execute_result"
    }
   ],
   "source": [
    "a.shape"
   ]
  },
  {
   "cell_type": "code",
   "execution_count": 100,
   "id": "3594516f-da8c-4947-92a3-a1c2adbfbe11",
   "metadata": {},
   "outputs": [
    {
     "data": {
      "text/plain": [
       "array([[0., 0., 0., 0.],\n",
       "       [0., 0., 0., 0.],\n",
       "       [0., 0., 0., 0.]])"
      ]
     },
     "execution_count": 100,
     "metadata": {},
     "output_type": "execute_result"
    }
   ],
   "source": [
    "l=np.zeros((3,4))\n",
    "l"
   ]
  },
  {
   "cell_type": "code",
   "execution_count": 101,
   "id": "bf7e4c0e-2f51-405e-92d6-4c60df05262b",
   "metadata": {},
   "outputs": [
    {
     "data": {
      "text/plain": [
       "array([[1., 1., 1., 1.],\n",
       "       [1., 1., 1., 1.],\n",
       "       [1., 1., 1., 1.],\n",
       "       [1., 1., 1., 1.]])"
      ]
     },
     "execution_count": 101,
     "metadata": {},
     "output_type": "execute_result"
    }
   ],
   "source": [
    "l=np.ones((4,4))\n",
    "l"
   ]
  },
  {
   "cell_type": "code",
   "execution_count": 102,
   "id": "c292792d-01fc-489b-99bc-70ae16b6c00a",
   "metadata": {},
   "outputs": [
    {
     "data": {
      "text/plain": [
       "range(0, 10)"
      ]
     },
     "execution_count": 102,
     "metadata": {},
     "output_type": "execute_result"
    }
   ],
   "source": [
    "range(10)\n"
   ]
  },
  {
   "cell_type": "code",
   "execution_count": 103,
   "id": "fc328f67-327f-4593-b1ac-48e126331221",
   "metadata": {},
   "outputs": [
    {
     "data": {
      "text/plain": [
       "array([0, 1, 2, 3, 4, 5, 6, 7, 8, 9])"
      ]
     },
     "execution_count": 103,
     "metadata": {},
     "output_type": "execute_result"
    }
   ],
   "source": [
    "np.arange(10)"
   ]
  },
  {
   "cell_type": "code",
   "execution_count": 1,
   "id": "9b2dad51-98a3-4986-9456-6b258b17022f",
   "metadata": {},
   "outputs": [],
   "source": [
    "##string functions\n"
   ]
  },
  {
   "cell_type": "code",
   "execution_count": 3,
   "id": "50fe74be-ef88-4360-b9c6-db384c51226b",
   "metadata": {},
   "outputs": [
    {
     "name": "stdout",
     "output_type": "stream",
     "text": [
      "['hellosriaknth' 'hydsri']\n"
     ]
    }
   ],
   "source": [
    "print(np.char.add([\"hello\",\"hyd\"],[\"sriaknth\",\"sri\"]))"
   ]
  },
  {
   "cell_type": "code",
   "execution_count": 4,
   "id": "36207953-be3f-46eb-bab6-3a126b11fe2d",
   "metadata": {},
   "outputs": [
    {
     "data": {
      "text/plain": [
       "array('hellohellohellohellohello', dtype='<U25')"
      ]
     },
     "execution_count": 4,
     "metadata": {},
     "output_type": "execute_result"
    }
   ],
   "source": [
    "np.char.multiply(\"hello\",5)"
   ]
  },
  {
   "cell_type": "code",
   "execution_count": 6,
   "id": "404a0a68-d6e4-4a02-a7a3-4180d78f2ebb",
   "metadata": {},
   "outputs": [
    {
     "data": {
      "text/plain": [
       "array('-------hello--------', dtype='<U20')"
      ]
     },
     "execution_count": 6,
     "metadata": {},
     "output_type": "execute_result"
    }
   ],
   "source": [
    "np.char.center(\"hello\",20,fillchar=\"-\")\n"
   ]
  },
  {
   "cell_type": "code",
   "execution_count": 7,
   "id": "e5f749bb-33e9-4a7e-be1d-c0d95eb5f12f",
   "metadata": {},
   "outputs": [
    {
     "data": {
      "text/plain": [
       "array('Hello', dtype='<U5')"
      ]
     },
     "execution_count": 7,
     "metadata": {},
     "output_type": "execute_result"
    }
   ],
   "source": [
    "np.char.capitalize(\"hello\")"
   ]
  },
  {
   "cell_type": "code",
   "execution_count": 8,
   "id": "1760a1c3-8ed6-43fb-852f-d2ffa85dfd6a",
   "metadata": {},
   "outputs": [
    {
     "data": {
      "text/plain": [
       "array('Hello World', dtype='<U11')"
      ]
     },
     "execution_count": 8,
     "metadata": {},
     "output_type": "execute_result"
    }
   ],
   "source": [
    "np.char.title(\"hello world\")"
   ]
  },
  {
   "cell_type": "code",
   "execution_count": 10,
   "id": "ab2542b4-df31-49b9-93d2-cb0e06461999",
   "metadata": {},
   "outputs": [
    {
     "name": "stdout",
     "output_type": "stream",
     "text": [
      "['hello' 'world']\n"
     ]
    },
    {
     "data": {
      "text/plain": [
       "array('hello', dtype='<U5')"
      ]
     },
     "execution_count": 10,
     "metadata": {},
     "output_type": "execute_result"
    }
   ],
   "source": [
    "print(np.char.lower([\"HELLO\",\"WORLD\"]))\n",
    "np.char.lower(\"HELLO\")"
   ]
  },
  {
   "cell_type": "code",
   "execution_count": 11,
   "id": "97a3bf27-9d24-4e73-b52d-0b4ffa3ffd62",
   "metadata": {},
   "outputs": [
    {
     "name": "stdout",
     "output_type": "stream",
     "text": [
      "['HELLO' 'WORLD']\n"
     ]
    },
    {
     "data": {
      "text/plain": [
       "array('HELLO WORLD', dtype='<U11')"
      ]
     },
     "execution_count": 11,
     "metadata": {},
     "output_type": "execute_result"
    }
   ],
   "source": [
    "print(np.char.upper([\"hello\",\"world\"]))\n",
    "np.char.upper(\"hello world\")"
   ]
  },
  {
   "cell_type": "code",
   "execution_count": 12,
   "id": "5028f050-90fd-4fd3-8c6b-d1d741bd4b01",
   "metadata": {},
   "outputs": [
    {
     "name": "stdout",
     "output_type": "stream",
     "text": [
      "['hello', 'wolrd', 'i', 'am', 'srk']\n"
     ]
    }
   ],
   "source": [
    "print(np.char.split(\"hello wolrd i am srk\"))"
   ]
  },
  {
   "cell_type": "code",
   "execution_count": 13,
   "id": "76c75f58-c7ea-4afc-8dc6-7de3ab365ccf",
   "metadata": {},
   "outputs": [
    {
     "name": "stdout",
     "output_type": "stream",
     "text": [
      "['hello ', ' i am srimgt']\n"
     ]
    }
   ],
   "source": [
    "print(np.char.splitlines(\"hello \\n i am srimgt\"))"
   ]
  },
  {
   "cell_type": "code",
   "execution_count": 4,
   "id": "cb504237-96bd-43a7-ad39-d301d8e348bf",
   "metadata": {},
   "outputs": [
    {
     "ename": "NameError",
     "evalue": "name 'np' is not defined",
     "output_type": "error",
     "traceback": [
      "\u001b[1;31m---------------------------------------------------------------------------\u001b[0m",
      "\u001b[1;31mNameError\u001b[0m                                 Traceback (most recent call last)",
      "Cell \u001b[1;32mIn[4], line 1\u001b[0m\n\u001b[1;32m----> 1\u001b[0m \u001b[38;5;28mprint\u001b[39m(np\u001b[38;5;241m.\u001b[39mchar\u001b[38;5;241m.\u001b[39mstrip([\u001b[38;5;124m\"\u001b[39m\u001b[38;5;124mamma\u001b[39m\u001b[38;5;124m\"\u001b[39m,\u001b[38;5;124m\"\u001b[39m\u001b[38;5;124mnanna\u001b[39m\u001b[38;5;124m\"\u001b[39m],\u001b[38;5;124m'\u001b[39m\u001b[38;5;124ma\u001b[39m\u001b[38;5;124m'\u001b[39m))\n\u001b[0;32m      2\u001b[0m \u001b[38;5;28;01mimport\u001b[39;00m \u001b[38;5;21;01mnumpy\u001b[39;00m \u001b[38;5;28;01mas\u001b[39;00m \u001b[38;5;21;01mnp\u001b[39;00m\n",
      "\u001b[1;31mNameError\u001b[0m: name 'np' is not defined"
     ]
    }
   ],
   "source": [
    "print(np.char.strip([\"amma\",\"nanna\"],'a'))\n"
   ]
  },
  {
   "cell_type": "code",
   "execution_count": 6,
   "id": "5e925ef1-ed0b-4e7a-bfb1-85a2e0f363e3",
   "metadata": {},
   "outputs": [
    {
     "name": "stdout",
     "output_type": "stream",
     "text": [
      "['d:a:y' 'm:o:n:t:h']\n"
     ]
    }
   ],
   "source": [
    "import numpy as np\n",
    "print(np.char.join([':'],[\"day\",\"month\"]))"
   ]
  },
  {
   "cell_type": "code",
   "execution_count": 16,
   "id": "d726de23-0ab4-4022-905f-aa0ea3eb23c9",
   "metadata": {},
   "outputs": [
    {
     "data": {
      "text/plain": [
       "array('h,e,l,o', dtype='<U7')"
      ]
     },
     "execution_count": 16,
     "metadata": {},
     "output_type": "execute_result"
    }
   ],
   "source": [
    "np.char.join(\",\",\"helo\")"
   ]
  },
  {
   "cell_type": "code",
   "execution_count": 17,
   "id": "1667a148-6877-4629-9ac8-83ee53351ecb",
   "metadata": {},
   "outputs": [
    {
     "data": {
      "text/plain": [
       "array('hello thwas was srik', dtype='<U20')"
      ]
     },
     "execution_count": 17,
     "metadata": {},
     "output_type": "execute_result"
    }
   ],
   "source": [
    "np.char.replace(\"hello this is srik\",\"is\",\"was\")"
   ]
  },
  {
   "cell_type": "markdown",
   "id": "f9e5dd04-096a-42f2-9cf0-271f6b4f6609",
   "metadata": {},
   "source": [
    "## array manipulation\n"
   ]
  },
  {
   "cell_type": "code",
   "execution_count": 18,
   "id": "9ce9fc2b-1727-48e6-80ba-96e066d7a1d6",
   "metadata": {},
   "outputs": [],
   "source": [
    "a=np.arange(9)"
   ]
  },
  {
   "cell_type": "code",
   "execution_count": 19,
   "id": "2c5f0328-739a-4ce3-bd10-bea2cadc50ce",
   "metadata": {},
   "outputs": [
    {
     "data": {
      "text/plain": [
       "array([0, 1, 2, 3, 4, 5, 6, 7, 8])"
      ]
     },
     "execution_count": 19,
     "metadata": {},
     "output_type": "execute_result"
    }
   ],
   "source": [
    "a"
   ]
  },
  {
   "cell_type": "code",
   "execution_count": 21,
   "id": "d01a0fad-c44d-40a7-9b4d-33f92c79d0e6",
   "metadata": {},
   "outputs": [],
   "source": [
    "b=a.reshape(3,3)"
   ]
  },
  {
   "cell_type": "code",
   "execution_count": 22,
   "id": "a1438369-f925-4c18-8d38-e1a63e417cf8",
   "metadata": {},
   "outputs": [
    {
     "data": {
      "text/plain": [
       "array([[0, 1, 2],\n",
       "       [3, 4, 5],\n",
       "       [6, 7, 8]])"
      ]
     },
     "execution_count": 22,
     "metadata": {},
     "output_type": "execute_result"
    }
   ],
   "source": [
    "b"
   ]
  },
  {
   "cell_type": "code",
   "execution_count": 26,
   "id": "bd13f72c-cff7-485e-8dc9-4b832245ff65",
   "metadata": {},
   "outputs": [
    {
     "data": {
      "text/plain": [
       "array([0, 3, 6, 1, 4, 7, 2, 5, 8])"
      ]
     },
     "execution_count": 26,
     "metadata": {},
     "output_type": "execute_result"
    }
   ],
   "source": [
    "b.flatten(order=\"F\")\n"
   ]
  },
  {
   "cell_type": "code",
   "execution_count": 27,
   "id": "aaa2ac6d-9bec-42fa-a8cd-0896b8032338",
   "metadata": {},
   "outputs": [
    {
     "data": {
      "text/plain": [
       "array([[0, 1, 2],\n",
       "       [3, 4, 5],\n",
       "       [6, 7, 8]])"
      ]
     },
     "execution_count": 27,
     "metadata": {},
     "output_type": "execute_result"
    }
   ],
   "source": [
    "b\n"
   ]
  },
  {
   "cell_type": "code",
   "execution_count": 28,
   "id": "8f10ebfa-6d8c-421a-a047-3a5c81624d5f",
   "metadata": {},
   "outputs": [],
   "source": [
    "a=np.arange(12).reshape(4,3)"
   ]
  },
  {
   "cell_type": "code",
   "execution_count": 29,
   "id": "8689de58-31e5-459d-9cd9-746cd81ff344",
   "metadata": {},
   "outputs": [
    {
     "data": {
      "text/plain": [
       "array([[ 0,  3,  6,  9],\n",
       "       [ 1,  4,  7, 10],\n",
       "       [ 2,  5,  8, 11]])"
      ]
     },
     "execution_count": 29,
     "metadata": {},
     "output_type": "execute_result"
    }
   ],
   "source": [
    "np.transpose(a)"
   ]
  },
  {
   "cell_type": "code",
   "execution_count": 30,
   "id": "4ff60f23-a7a1-4a5e-ba9a-ea7b6d10aa9f",
   "metadata": {},
   "outputs": [
    {
     "data": {
      "text/plain": [
       "array([[ 0,  1,  2],\n",
       "       [ 3,  4,  5],\n",
       "       [ 6,  7,  8],\n",
       "       [ 9, 10, 11]])"
      ]
     },
     "execution_count": 30,
     "metadata": {},
     "output_type": "execute_result"
    }
   ],
   "source": [
    "a"
   ]
  },
  {
   "cell_type": "code",
   "execution_count": 44,
   "id": "b2b9f055-5c0d-4d37-a8d1-2d24cd64c9ed",
   "metadata": {},
   "outputs": [],
   "source": [
    "a=a.reshape(2,2,3)#no of groups,rows,cols"
   ]
  },
  {
   "cell_type": "code",
   "execution_count": 45,
   "id": "b946bdaf-1293-45d6-921d-ed09e2429394",
   "metadata": {},
   "outputs": [
    {
     "data": {
      "text/plain": [
       "array([[[ 0,  1,  2],\n",
       "        [ 3,  4,  5]],\n",
       "\n",
       "       [[ 6,  7,  8],\n",
       "        [ 9, 10, 11]]])"
      ]
     },
     "execution_count": 45,
     "metadata": {},
     "output_type": "execute_result"
    }
   ],
   "source": [
    "a"
   ]
  },
  {
   "cell_type": "code",
   "execution_count": 53,
   "id": "e974fe11-2c8d-4f87-86f9-0d2fd11051f7",
   "metadata": {},
   "outputs": [
    {
     "data": {
      "text/plain": [
       "array([[[ 0,  1,  2],\n",
       "        [ 3,  4,  5]],\n",
       "\n",
       "       [[ 6,  7,  8],\n",
       "        [ 9, 10, 11]]])"
      ]
     },
     "execution_count": 53,
     "metadata": {},
     "output_type": "execute_result"
    }
   ],
   "source": [
    "np.rollaxis(a,1,2)"
   ]
  },
  {
   "cell_type": "code",
   "execution_count": 10,
   "id": "800486b7-3e7d-4543-86c7-50a4c4de59c8",
   "metadata": {},
   "outputs": [
    {
     "name": "stdout",
     "output_type": "stream",
     "text": [
      "[[0 1 2]\n",
      " [3 4 5]\n",
      " [6 7 8]]\n"
     ]
    },
    {
     "data": {
      "text/plain": [
       "array([[0, 3, 6],\n",
       "       [1, 4, 7],\n",
       "       [2, 5, 8]])"
      ]
     },
     "execution_count": 10,
     "metadata": {},
     "output_type": "execute_result"
    }
   ],
   "source": [
    "# np.swapaxis(a,1,2)\n",
    "\n",
    "\n",
    "a=np.arange(9).reshape(3,3)\n",
    "print(a)\n",
    "np.rollaxis(a,0,2)"
   ]
  },
  {
   "cell_type": "markdown",
   "id": "e9cac65c-36b0-4583-9e6e-c07153f881bb",
   "metadata": {},
   "source": [
    "## arithmetic operations"
   ]
  },
  {
   "cell_type": "code",
   "execution_count": 57,
   "id": "27bd8327-262f-4556-9c1b-7fc1b6f735bc",
   "metadata": {},
   "outputs": [],
   "source": [
    "a=np.arange(9).reshape(3,3)"
   ]
  },
  {
   "cell_type": "code",
   "execution_count": 58,
   "id": "f2cd8c4d-e2b5-4126-a696-433e0b60be8b",
   "metadata": {},
   "outputs": [],
   "source": [
    "b=np.array([10,10,10])"
   ]
  },
  {
   "cell_type": "code",
   "execution_count": 59,
   "id": "78ef42c4-df3c-4e1a-be91-8e51a2858bdd",
   "metadata": {},
   "outputs": [
    {
     "data": {
      "text/plain": [
       "array([[10, 11, 12],\n",
       "       [13, 14, 15],\n",
       "       [16, 17, 18]])"
      ]
     },
     "execution_count": 59,
     "metadata": {},
     "output_type": "execute_result"
    }
   ],
   "source": [
    "np.add(a,b)"
   ]
  },
  {
   "cell_type": "code",
   "execution_count": 61,
   "id": "9adac13b-53ee-4e89-a3ae-0f3183a83d2f",
   "metadata": {},
   "outputs": [
    {
     "data": {
      "text/plain": [
       "array([[-10,  -9,  -8],\n",
       "       [ -7,  -6,  -5],\n",
       "       [ -4,  -3,  -2]])"
      ]
     },
     "execution_count": 61,
     "metadata": {},
     "output_type": "execute_result"
    }
   ],
   "source": [
    "np.subtract(a,b)"
   ]
  },
  {
   "cell_type": "code",
   "execution_count": 62,
   "id": "4f1d9e60-953b-496b-9165-85ac89673372",
   "metadata": {},
   "outputs": [
    {
     "data": {
      "text/plain": [
       "array([[ 0, 10, 20],\n",
       "       [30, 40, 50],\n",
       "       [60, 70, 80]])"
      ]
     },
     "execution_count": 62,
     "metadata": {},
     "output_type": "execute_result"
    }
   ],
   "source": [
    "np.multiply(a,b)"
   ]
  },
  {
   "cell_type": "code",
   "execution_count": 63,
   "id": "3fda8ff9-f7dd-49cc-a2eb-4d4ff118b262",
   "metadata": {},
   "outputs": [
    {
     "data": {
      "text/plain": [
       "array([[0. , 0.1, 0.2],\n",
       "       [0.3, 0.4, 0.5],\n",
       "       [0.6, 0.7, 0.8]])"
      ]
     },
     "execution_count": 63,
     "metadata": {},
     "output_type": "execute_result"
    }
   ],
   "source": [
    "np.divide(a,b)"
   ]
  },
  {
   "cell_type": "code",
   "execution_count": 64,
   "id": "f9829f89-fcb3-46f2-9b10-594ef459052b",
   "metadata": {},
   "outputs": [],
   "source": [
    "#slicing\n",
    "a=np.arange(9)"
   ]
  },
  {
   "cell_type": "code",
   "execution_count": 66,
   "id": "c82fa2a5-ea1e-4038-b39b-0559f673e809",
   "metadata": {},
   "outputs": [
    {
     "data": {
      "text/plain": [
       "array([2, 3])"
      ]
     },
     "execution_count": 66,
     "metadata": {},
     "output_type": "execute_result"
    }
   ],
   "source": [
    "a[2:4]"
   ]
  },
  {
   "cell_type": "code",
   "execution_count": 67,
   "id": "9e6a5431-e731-4717-ac49-d6b7111d84f6",
   "metadata": {},
   "outputs": [
    {
     "data": {
      "text/plain": [
       "array([1, 2, 3, 4, 5, 6, 7])"
      ]
     },
     "execution_count": 67,
     "metadata": {},
     "output_type": "execute_result"
    }
   ],
   "source": [
    "a[1:-1]"
   ]
  },
  {
   "cell_type": "code",
   "execution_count": 68,
   "id": "f539bc73-7917-44d7-9974-74047a15bce0",
   "metadata": {},
   "outputs": [
    {
     "data": {
      "text/plain": [
       "array([2, 4, 6, 8])"
      ]
     },
     "execution_count": 68,
     "metadata": {},
     "output_type": "execute_result"
    }
   ],
   "source": [
    "s=slice(2,9,2)\n",
    "a[s]"
   ]
  },
  {
   "cell_type": "markdown",
   "id": "75ec0789-328e-4445-9c9d-3ebab07c83e9",
   "metadata": {},
   "source": [
    "## iterating through nd arrays\n"
   ]
  },
  {
   "cell_type": "code",
   "execution_count": 69,
   "id": "bed219da-4ede-4f19-b784-04b5d58d629c",
   "metadata": {},
   "outputs": [
    {
     "data": {
      "text/plain": [
       "array([[0, 1, 2],\n",
       "       [3, 4, 5],\n",
       "       [6, 7, 8]])"
      ]
     },
     "execution_count": 69,
     "metadata": {},
     "output_type": "execute_result"
    }
   ],
   "source": [
    "a=np.arange(9).reshape(3,3)\n",
    "a"
   ]
  },
  {
   "cell_type": "code",
   "execution_count": 70,
   "id": "180fca03-627c-4326-a7d4-4cc56bfe3cd3",
   "metadata": {},
   "outputs": [
    {
     "name": "stdout",
     "output_type": "stream",
     "text": [
      "0\n",
      "1\n",
      "2\n",
      "3\n",
      "4\n",
      "5\n",
      "6\n",
      "7\n",
      "8\n"
     ]
    }
   ],
   "source": [
    "for x in np.nditer(a,order=\"C\"):\n",
    "    print(x)"
   ]
  },
  {
   "cell_type": "markdown",
   "id": "c46ece1b-36e6-47d1-87d8-b84a2fadadbd",
   "metadata": {},
   "source": [
    "## joining arrays"
   ]
  },
  {
   "cell_type": "code",
   "execution_count": 75,
   "id": "664f6eb6-9ea7-4c55-a1bd-26409414ef57",
   "metadata": {},
   "outputs": [],
   "source": [
    "a=np.arange(9).reshape(3,3)\n",
    "b=np.arange(6).reshape(2,3)\n"
   ]
  },
  {
   "cell_type": "code",
   "execution_count": 76,
   "id": "08c474d2-78ba-480e-bd0f-89ddc08002f9",
   "metadata": {},
   "outputs": [
    {
     "data": {
      "text/plain": [
       "array([[0, 1, 2],\n",
       "       [3, 4, 5],\n",
       "       [6, 7, 8],\n",
       "       [0, 1, 2],\n",
       "       [3, 4, 5]])"
      ]
     },
     "execution_count": 76,
     "metadata": {},
     "output_type": "execute_result"
    }
   ],
   "source": [
    "np.concatenate((a,b))"
   ]
  },
  {
   "cell_type": "code",
   "execution_count": 79,
   "id": "1094e153-0849-4408-bc81-bb5c17a07727",
   "metadata": {},
   "outputs": [
    {
     "data": {
      "text/plain": [
       "array([[0, 1, 2, 0, 1],\n",
       "       [3, 4, 5, 2, 3],\n",
       "       [6, 7, 8, 4, 5]])"
      ]
     },
     "execution_count": 79,
     "metadata": {},
     "output_type": "execute_result"
    }
   ],
   "source": [
    "b=np.arange(6).reshape(3,2)\n",
    "\n",
    "np.concatenate((a,b),axis=1)"
   ]
  },
  {
   "cell_type": "markdown",
   "id": "ebb5b7a8-3b41-49a9-9fea-7a3b3eb577ab",
   "metadata": {},
   "source": [
    "## splitting an array"
   ]
  },
  {
   "cell_type": "code",
   "execution_count": 80,
   "id": "f821223a-4981-4a60-896b-9c2334deb509",
   "metadata": {},
   "outputs": [],
   "source": [
    "a=np.arange(9)"
   ]
  },
  {
   "cell_type": "code",
   "execution_count": 81,
   "id": "59741484-4108-4645-a7b4-19db9920f411",
   "metadata": {},
   "outputs": [
    {
     "data": {
      "text/plain": [
       "[array([0, 1, 2]), array([3, 4, 5]), array([6, 7, 8])]"
      ]
     },
     "execution_count": 81,
     "metadata": {},
     "output_type": "execute_result"
    }
   ],
   "source": [
    "np.split(a,3)"
   ]
  },
  {
   "cell_type": "code",
   "execution_count": 82,
   "id": "806e2b9c-3767-40b8-bf5a-fed7aed214e2",
   "metadata": {},
   "outputs": [
    {
     "data": {
      "text/plain": [
       "[array([0, 1]), array([2, 3, 4]), array([5, 6, 7, 8])]"
      ]
     },
     "execution_count": 82,
     "metadata": {},
     "output_type": "execute_result"
    }
   ],
   "source": [
    "np.split(a,[2,5])"
   ]
  },
  {
   "cell_type": "code",
   "execution_count": 83,
   "id": "db356ac0-baf5-4e36-a914-cd68eda61c5f",
   "metadata": {},
   "outputs": [
    {
     "data": {
      "text/plain": [
       "[array([0, 1, 2]), array([3, 4, 5]), array([6]), array([7, 8])]"
      ]
     },
     "execution_count": 83,
     "metadata": {},
     "output_type": "execute_result"
    }
   ],
   "source": [
    "np.split(a,[3,6,7])"
   ]
  },
  {
   "cell_type": "markdown",
   "id": "1c2654c0-628f-4d3b-8866-647005020703",
   "metadata": {},
   "source": [
    "## resizing an array"
   ]
  },
  {
   "cell_type": "code",
   "execution_count": 84,
   "id": "73790459-4f69-4ef0-a9da-ddfdfc95f0fb",
   "metadata": {},
   "outputs": [
    {
     "data": {
      "text/plain": [
       "array([[0, 1],\n",
       "       [2, 3],\n",
       "       [4, 5]])"
      ]
     },
     "execution_count": 84,
     "metadata": {},
     "output_type": "execute_result"
    }
   ],
   "source": [
    "a=np.arange(6).reshape(3,2)\n",
    "a"
   ]
  },
  {
   "cell_type": "code",
   "execution_count": 85,
   "id": "b1cedb53-0c3b-4655-bdbe-08f392e01137",
   "metadata": {},
   "outputs": [
    {
     "data": {
      "text/plain": [
       "array([[0, 1, 2],\n",
       "       [3, 4, 5]])"
      ]
     },
     "execution_count": 85,
     "metadata": {},
     "output_type": "execute_result"
    }
   ],
   "source": [
    "np.resize(a,(2,3))"
   ]
  },
  {
   "cell_type": "code",
   "execution_count": 86,
   "id": "c56a681f-94c6-4cf6-848b-99778c516e5d",
   "metadata": {},
   "outputs": [
    {
     "data": {
      "text/plain": [
       "array([[0, 1, 2, 3],\n",
       "       [4, 5, 0, 1],\n",
       "       [2, 3, 4, 5],\n",
       "       [0, 1, 2, 3]])"
      ]
     },
     "execution_count": 86,
     "metadata": {},
     "output_type": "execute_result"
    }
   ],
   "source": [
    "np.resize(a,(4,4))"
   ]
  },
  {
   "cell_type": "markdown",
   "id": "e9698477-496d-4877-8223-a9409e0669b7",
   "metadata": {},
   "source": [
    "## histograms"
   ]
  },
  {
   "cell_type": "code",
   "execution_count": 87,
   "id": "d12a2fc1-ede3-47b2-a6eb-bcdde91f078e",
   "metadata": {},
   "outputs": [],
   "source": [
    "from matplotlib import pyplot as plt"
   ]
  },
  {
   "cell_type": "code",
   "execution_count": 88,
   "id": "065813ba-1064-49eb-9492-6c65258f6385",
   "metadata": {},
   "outputs": [
    {
     "data": {
      "image/png": "[encoded data removed]",
      "text/plain": [
       "<Figure size 640x480 with 1 Axes>"
      ]
     },
     "metadata": {},
     "output_type": "display_data"
    }
   ],
   "source": [
    "a=np.array([10,20,15,40,60,34,70,56,99,45,76,45]);\n",
    "plt.hist(a,bins=[0,10,20,30,40,50,60,70,80,90,100])\n",
    "plt.title(\"srikanth\")\n",
    "plt.show()"
   ]
  },
  {
   "cell_type": "markdown",
   "id": "606f7e61-7022-4089-9dca-d35bcc90d183",
   "metadata": {},
   "source": [
    "## other useful functions "
   ]
  },
  {
   "cell_type": "code",
   "execution_count": 90,
   "id": "89d3d3d2-0045-4e69-a382-f4291aef393a",
   "metadata": {},
   "outputs": [],
   "source": [
    "a=np.linspace(2,4,10)"
   ]
  },
  {
   "cell_type": "code",
   "execution_count": 91,
   "id": "3b04c7e0-e6b1-4ece-9094-db7631649c20",
   "metadata": {},
   "outputs": [
    {
     "data": {
      "text/plain": [
       "array([2.        , 2.22222222, 2.44444444, 2.66666667, 2.88888889,\n",
       "       3.11111111, 3.33333333, 3.55555556, 3.77777778, 4.        ])"
      ]
     },
     "execution_count": 91,
     "metadata": {},
     "output_type": "execute_result"
    }
   ],
   "source": [
    "a"
   ]
  },
  {
   "cell_type": "code",
   "execution_count": 11,
   "id": "439026ab-2f33-4f77-8995-f90fe6859f48",
   "metadata": {},
   "outputs": [
    {
     "data": {
      "text/plain": [
       "array([5, 7, 9])"
      ]
     },
     "execution_count": 11,
     "metadata": {},
     "output_type": "execute_result"
    }
   ],
   "source": [
    "a=np.array([[1,2,3],[4,5,6]])\n",
    "a.sum(axis=0)#summing cols"
   ]
  },
  {
   "cell_type": "code",
   "execution_count": 12,
   "id": "3fdb603d-87b4-4f12-b653-4cb85b5cee09",
   "metadata": {},
   "outputs": [
    {
     "data": {
      "text/plain": [
       "array([ 6, 15])"
      ]
     },
     "execution_count": 12,
     "metadata": {},
     "output_type": "execute_result"
    }
   ],
   "source": [
    "a.sum(axis=1)"
   ]
  },
  {
   "cell_type": "code",
   "execution_count": 95,
   "id": "a3494ac4-f661-404c-a9e2-32bd8e3e66b0",
   "metadata": {},
   "outputs": [
    {
     "data": {
      "text/plain": [
       "array([[1.        , 1.41421356, 1.73205081],\n",
       "       [2.        , 2.23606798, 2.44948974]])"
      ]
     },
     "execution_count": 95,
     "metadata": {},
     "output_type": "execute_result"
    }
   ],
   "source": [
    "np.sqrt(a)"
   ]
  },
  {
   "cell_type": "code",
   "execution_count": 96,
   "id": "ed37848b-57fd-437b-bcf7-b227a42aa611",
   "metadata": {},
   "outputs": [
    {
     "data": {
      "text/plain": [
       "1.707825127659933"
      ]
     },
     "execution_count": 96,
     "metadata": {},
     "output_type": "execute_result"
    }
   ],
   "source": [
    "np.std(a)"
   ]
  },
  {
   "cell_type": "code",
   "execution_count": 97,
   "id": "c80b0933-2b82-4411-98da-27fb0565b75a",
   "metadata": {},
   "outputs": [
    {
     "data": {
      "text/plain": [
       "array([[0.        , 0.30103   , 0.47712125],\n",
       "       [0.60205999, 0.69897   , 0.77815125]])"
      ]
     },
     "execution_count": 97,
     "metadata": {},
     "output_type": "execute_result"
    }
   ],
   "source": [
    "np.log10(a)"
   ]
  },
  {
   "cell_type": "code",
   "execution_count": 98,
   "id": "948571b3-158d-4e39-adb9-5477d6743175",
   "metadata": {},
   "outputs": [],
   "source": [
    "#practice questions"
   ]
  },
  {
   "cell_type": "code",
   "execution_count": 104,
   "id": "ee4fa67a-51e3-451a-85d5-f82029e6d359",
   "metadata": {},
   "outputs": [
    {
     "data": {
      "text/plain": [
       "[<matplotlib.lines.Line2D at 0x244aa2904d0>]"
      ]
     },
     "execution_count": 104,
     "metadata": {},
     "output_type": "execute_result"
    },
    {
     "data": {
      "image/png": "[encoded data removed]",
      "text/plain": [
       "<Figure size 640x480 with 1 Axes>"
      ]
     },
     "metadata": {},
     "output_type": "display_data"
    }
   ],
   "source": [
    "#sine wave\n",
    "x=np.linspace(0,4*np.pi,30)\n",
    "y=np.sin(x)\n",
    "plt.plot(x,y)"
   ]
  },
  {
   "cell_type": "code",
   "execution_count": 134,
   "id": "fc829470-5b9b-42d0-9436-041a53f3f8de",
   "metadata": {},
   "outputs": [
    {
     "data": {
      "text/plain": [
       "array([[0, 0, 0, 0, 0, 0],\n",
       "       [0, 0, 0, 0, 0, 0],\n",
       "       [0, 0, 0, 0, 0, 0],\n",
       "       [0, 0, 0, 0, 0, 0],\n",
       "       [0, 0, 0, 0, 0, 0],\n",
       "       [0, 0, 0, 0, 0, 0]])"
      ]
     },
     "execution_count": 134,
     "metadata": {},
     "output_type": "execute_result"
    }
   ],
   "source": [
    "#create a two dimentional array ,let 1 and 0 be placed alternatively across the diagonals\n",
    "z=np.zeros((6,6),dtype=\"int\")\n",
    "z"
   ]
  },
  {
   "cell_type": "code",
   "execution_count": 135,
   "id": "a8b77144-55b5-4a41-93f7-7be22da08592",
   "metadata": {},
   "outputs": [],
   "source": [
    "z[0::2,0:5:2]=1"
   ]
  },
  {
   "cell_type": "code",
   "execution_count": 136,
   "id": "f30d9580-b3f7-4833-9639-44e48c060180",
   "metadata": {},
   "outputs": [],
   "source": [
    "z[1::2,1:6:2]=1"
   ]
  },
  {
   "cell_type": "code",
   "execution_count": 137,
   "id": "697eebb3-7273-4f09-b67e-66f983c1c013",
   "metadata": {},
   "outputs": [
    {
     "data": {
      "text/plain": [
       "array([[1, 0, 1, 0, 1, 0],\n",
       "       [0, 1, 0, 1, 0, 1],\n",
       "       [1, 0, 1, 0, 1, 0],\n",
       "       [0, 1, 0, 1, 0, 1],\n",
       "       [1, 0, 1, 0, 1, 0],\n",
       "       [0, 1, 0, 1, 0, 1]])"
      ]
     },
     "execution_count": 137,
     "metadata": {},
     "output_type": "execute_result"
    }
   ],
   "source": [
    "z"
   ]
  },
  {
   "cell_type": "code",
   "execution_count": 145,
   "id": "98f69cca-05ad-4f9b-a497-b7b6e73e8729",
   "metadata": {},
   "outputs": [],
   "source": [
    "#find the total no of locations of missing values in array\n",
    "z=np.random.rand(10,10)"
   ]
  },
  {
   "cell_type": "code",
   "execution_count": 150,
   "id": "bb388ce3-ec17-40e6-8475-cf61c1472f56",
   "metadata": {},
   "outputs": [],
   "source": [
    "z[np.random.randint(10,size=5),np.random.randint(10,size=5)]=np.nan\n"
   ]
  },
  {
   "cell_type": "code",
   "execution_count": 151,
   "id": "3fc54f2d-8ec8-4163-947d-39492c64d6b3",
   "metadata": {},
   "outputs": [
    {
     "data": {
      "text/plain": [
       "array([[5.00000000e+00, 3.45999280e-01, 4.43096963e-01, 8.17582959e-01,\n",
       "        9.62717816e-01, 1.55454728e-01, 3.90696512e-01, 4.02293050e-01,\n",
       "        8.04196760e-01, 5.98267235e-01],\n",
       "       [3.88559418e-01, 2.89491591e-01, 9.22313446e-01, 8.77906993e-02,\n",
       "                   nan, 7.48094274e-01, 9.35328270e-01, 3.34255097e-01,\n",
       "        9.66135155e-01, 6.12251736e-01],\n",
       "       [3.01989930e-01, 4.08898700e-01, 5.24339499e-01, 5.00000000e+00,\n",
       "        1.28834828e-01, 2.92715087e-01, 2.34695633e-02, 7.50145636e-01,\n",
       "        2.48156373e-01, 8.19394659e-01],\n",
       "       [7.42636545e-01, 4.93615968e-01, 4.57494058e-01, 3.30223243e-01,\n",
       "        5.60265736e-01, 4.54612415e-01, 8.88175257e-02, 2.33887821e-01,\n",
       "        7.39412735e-01, 2.46167754e-01],\n",
       "       [           nan, 1.79644260e-01, 9.76457040e-01, 6.93814250e-01,\n",
       "        1.23912179e-01, 5.18626360e-02,            nan, 1.47227996e-01,\n",
       "        8.69177525e-01, 7.42832507e-01],\n",
       "       [7.11676453e-01, 4.73807188e-01, 3.00982722e-01, 4.07847912e-03,\n",
       "        7.33364644e-01, 5.22995188e-01, 2.72989327e-01, 3.75253889e-01,\n",
       "        5.68760487e-01, 3.32173869e-01],\n",
       "       [7.02104804e-02, 1.18653847e-01, 3.27033919e-01, 9.99400140e-01,\n",
       "        7.65037355e-01, 5.13038902e-01, 3.33634694e-01, 5.27473629e-01,\n",
       "        8.91256112e-02, 9.20039465e-01],\n",
       "       [4.02781738e-01,            nan, 9.09299370e-01, 9.23408587e-01,\n",
       "        5.13031951e-01, 5.51132987e-02, 4.47163123e-01, 6.18245667e-02,\n",
       "        9.93626259e-01, 7.59002062e-01],\n",
       "       [8.37939745e-01, 7.30264270e-01, 2.71519920e-01, 6.47204566e-01,\n",
       "        4.27366454e-01, 8.87838982e-01, 4.43530438e-01, 1.02172388e-01,\n",
       "        7.87385339e-01, 8.22456592e-01],\n",
       "       [2.35669912e-01, 8.21905123e-01, 6.25507473e-01, 2.03690014e-01,\n",
       "        5.51630866e-01, 3.98409938e-01, 2.68309246e-02, 6.06115686e-01,\n",
       "        2.71591832e-01,            nan]])"
      ]
     },
     "execution_count": 151,
     "metadata": {},
     "output_type": "execute_result"
    }
   ],
   "source": [
    "z"
   ]
  },
  {
   "cell_type": "code",
   "execution_count": 155,
   "id": "c0346b5b-bcf6-4eb1-b2ae-a42373007665",
   "metadata": {},
   "outputs": [
    {
     "data": {
      "text/plain": [
       "5"
      ]
     },
     "execution_count": 155,
     "metadata": {},
     "output_type": "execute_result"
    }
   ],
   "source": [
    "np.isnan(z).sum()"
   ]
  },
  {
   "cell_type": "code",
   "execution_count": 157,
   "id": "2ddaeb8e-cb74-41ed-b089-a498ac55f03f",
   "metadata": {},
   "outputs": [
    {
     "data": {
      "text/plain": [
       "array([[1, 4],\n",
       "       [4, 0],\n",
       "       [4, 6],\n",
       "       [7, 1],\n",
       "       [9, 9]], dtype=int64)"
      ]
     },
     "execution_count": 157,
     "metadata": {},
     "output_type": "execute_result"
    }
   ],
   "source": [
    "np.argwhere(np.isnan(z))"
   ]
  },
  {
   "cell_type": "code",
   "execution_count": 158,
   "id": "08275442-161e-4b25-b7af-2907030463ea",
   "metadata": {},
   "outputs": [
    {
     "data": {
      "text/plain": [
       "(array([1, 4, 4, 7, 9], dtype=int64), array([4, 0, 6, 1, 9], dtype=int64))"
      ]
     },
     "execution_count": 158,
     "metadata": {},
     "output_type": "execute_result"
    }
   ],
   "source": [
    "np.where(np.isnan(z))"
   ]
  },
  {
   "cell_type": "code",
   "execution_count": 159,
   "id": "91c39d23-59b6-4f0b-8f8d-497eacd7cd4e",
   "metadata": {},
   "outputs": [],
   "source": [
    "z[np.where(np.isnan(z))]=0"
   ]
  },
  {
   "cell_type": "code",
   "execution_count": null,
   "id": "d164bf29-0bb7-4d2a-972a-7c53f2f5d282",
   "metadata": {},
   "outputs": [],
   "source": [
    "z[np.where(np.sinan(x"
   ]
  }
 ],
 "metadata": {
  "kernelspec": {
   "display_name": "Python 3 (ipykernel)",
   "language": "python",
   "name": "python3"
  },
  "language_info": {
   "codemirror_mode": {
    "name": "ipython",
    "version": 3
   },
   "file_extension": ".py",
   "mimetype": "text/x-python",
   "name": "python",
   "nbconvert_exporter": "python",
   "pygments_lexer": "ipython3",
   "version": "3.11.7"
  }
 },
 "nbformat": 4,
 "nbformat_minor": 5
}
