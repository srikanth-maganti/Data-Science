{
 "cells": [
  {
   "cell_type": "code",
   "execution_count": 19,
   "id": "bb2c9282-7663-4701-8eee-d42070ce73a6",
   "metadata": {},
   "outputs": [
    {
     "name": "stdout",
     "output_type": "stream",
     "text": [
      "<re.Match object; span=(0, 1), match='\\n'>\n"
     ]
    }
   ],
   "source": [
    "#Introduction\n",
    "import re\n",
    "text_to_work='''abcdefghijklmnopqurtuvwxyz\n",
    "ABCDEFGHIJKLMNOPQRSTUVWXYZ\n",
    "1234567890\n",
    "\n",
    "Ha HaHa\n",
    "MetaCharacters (Need to be escaped):\n",
    ".[{()\\^$|?*+\n",
    "coreyms.com\n",
    "bat\n",
    "cat \n",
    "mat\n",
    "rat\n",
    "321-555-4321\n",
    "123.555.1234\n",
    "Mr. Schafer\n",
    "Mr Smith\n",
    "Ms Davis\n",
    "Mrs. Robinson\n",
    "Mr. T\n",
    "'''\n",
    "\n",
    "\n",
    "#pattern=re.compile(r'\\bHa\\b')\n",
    "#pattern=re.compile(r'\\.')\n",
    "#pattern=re.compile(r'\\w')\n",
    "pattern=re.compile(r'^\\s')\n",
    "matches=pattern.finditer(text_to_work)\n",
    "for match in matches:\n",
    "    print(match)\n",
    "\n",
    "\n",
    "    "
   ]
  },
  {
   "cell_type": "code",
   "execution_count": null,
   "id": "aa05c669-609d-4f37-a03b-47fcc0c1a111",
   "metadata": {},
   "outputs": [],
   "source": []
  },
  {
   "cell_type": "code",
   "execution_count": 21,
   "id": "dadee3cf-f46a-4edc-a6cb-b5b850aa4986",
   "metadata": {},
   "outputs": [
    {
     "name": "stdout",
     "output_type": "stream",
     "text": [
      "<re.Match object; span=(154, 166), match='321-555-4321'>\n",
      "<re.Match object; span=(167, 179), match='123.555.1234'>\n"
     ]
    }
   ],
   "source": [
    "#Match mobile numbers\n",
    "mobileno=re.compile(r'\\d\\d\\d[.-]\\d\\d\\d[.-]\\d\\d\\d\\d')\n",
    "#mobileno=re.compile(r'\\d{3}[.-]\\d{3}[.-]\\d{4}')\n",
    "\n",
    "matches1=mobileno.finditer(text_to_work)\n",
    "for match in matches1:\n",
    "    print(match)\n",
    "    "
   ]
  },
  {
   "cell_type": "code",
   "execution_count": 22,
   "id": "5489c1f8-f25c-4d2d-9438-9a8cde0084cd",
   "metadata": {},
   "outputs": [
    {
     "name": "stdout",
     "output_type": "stream",
     "text": [
      "<re.Match object; span=(102, 114), match='800-555-5669'>\n",
      "<re.Match object; span=(281, 293), match='900-555-9340'>\n",
      "<re.Match object; span=(467, 479), match='800-555-6771'>\n",
      "<re.Match object; span=(1093, 1105), match='900-555-3205'>\n",
      "<re.Match object; span=(1443, 1455), match='800-555-6089'>\n",
      "<re.Match object; span=(1794, 1806), match='800-555-7100'>\n",
      "<re.Match object; span=(2055, 2067), match='900-555-5118'>\n",
      "<re.Match object; span=(2830, 2842), match='900-555-5428'>\n",
      "<re.Match object; span=(3290, 3302), match='800-555-8810'>\n",
      "<re.Match object; span=(3977, 3989), match='900-555-9598'>\n",
      "<re.Match object; span=(4951, 4963), match='800-555-2420'>\n",
      "<re.Match object; span=(5572, 5584), match='900-555-3567'>\n",
      "<re.Match object; span=(6195, 6207), match='800-555-3216'>\n",
      "<re.Match object; span=(6897, 6909), match='900-555-7755'>\n",
      "<re.Match object; span=(7872, 7884), match='800-555-1372'>\n",
      "<re.Match object; span=(8751, 8763), match='900-555-6426'>\n"
     ]
    }
   ],
   "source": [
    "#mobile number matching from file\n",
    "mobileno=re.compile(r'[89]00[.-]\\d\\d\\d[.-]\\d\\d\\d\\d')#to match mobile numbers which starts with 800/900\n",
    "\n",
    "with open(\"data.txt\",'r') as f:\n",
    "    f_contents=f.read()\n",
    "    matches=mobileno.finditer(f_contents)\n",
    "    for match in matches:\n",
    "        print(match)\n",
    "    "
   ]
  },
  {
   "cell_type": "code",
   "execution_count": null,
   "id": "e57f7dcf-fadb-4c41-92dc-f8e76eed3824",
   "metadata": {},
   "outputs": [],
   "source": [
    "#character set \n",
    "#-  [a-z]    //abc\n",
    "#^  [^b]at  //cat rat hat"
   ]
  },
  {
   "cell_type": "code",
   "execution_count": 25,
   "id": "4987bf73-4b13-41a2-b900-633ebeca66ff",
   "metadata": {},
   "outputs": [
    {
     "name": "stdout",
     "output_type": "stream",
     "text": [
      "<re.Match object; span=(180, 191), match='Mr. Schafer'>\n",
      "<re.Match object; span=(192, 200), match='Mr Smith'>\n",
      "<re.Match object; span=(201, 209), match='Ms Davis'>\n",
      "<re.Match object; span=(210, 223), match='Mrs. Robinson'>\n",
      "<re.Match object; span=(224, 229), match='Mr. T'>\n"
     ]
    }
   ],
   "source": [
    "#matching mrs\n",
    "pattern =re.compile(r'M(r|s|rs)?.\\s[A-Z]\\w*')\n",
    "matches=pattern.finditer(text_to_work)\n",
    "for match in matches:\n",
    "    print(match)"
   ]
  },
  {
   "cell_type": "code",
   "execution_count": 34,
   "id": "bc12a5b3-9ced-4486-87a0-ecf94153db56",
   "metadata": {},
   "outputs": [
    {
     "name": "stdout",
     "output_type": "stream",
     "text": [
      "<re.Match object; span=(0, 23), match='CoreyMSchafer@gmail.com'>\n",
      "<re.Match object; span=(24, 52), match='corey.schafer@university.edu'>\n",
      "<re.Match object; span=(53, 82), match='corey-321-schafer@my-work.net'>\n"
     ]
    }
   ],
   "source": [
    "#email matching\n",
    "text='''CoreyMSchafer@gmail.com\n",
    "corey.schafer@university.edu\n",
    "corey-321-schafer@my-work.net\n",
    "'''\n",
    "pattern=re.compile(r'[a-zA-Z0-9.-]+@[a-zA-Z-]+\\.(edu|net|com)')\n",
    "matches=pattern.finditer(text)\n",
    "for match in matches:\n",
    "    print(match)"
   ]
  },
  {
   "cell_type": "code",
   "execution_count": 39,
   "id": "3758775c-ec3b-441d-a270-8b8cbcb51253",
   "metadata": {},
   "outputs": [
    {
     "name": "stdout",
     "output_type": "stream",
     "text": [
      "google\n",
      "coreyms\n",
      "youtube\n",
      "nasa\n",
      "\n",
      "google.com\n",
      "coreyms.com\n",
      "youtube.com\n",
      "nasa.gov\n",
      "\n"
     ]
    }
   ],
   "source": [
    "#url matching and capturing data using groups\n",
    "text='''\n",
    "https://www.google.com\n",
    "http://coreyms.com\n",
    "https://youtube.com\n",
    "https://www.nasa.gov\n",
    "'''\n",
    "pattern=re.compile(r'https?://(www\\.)?(\\w+)(\\.\\w+)')\n",
    "matches=pattern.finditer(text);\n",
    "for match in matches:\n",
    "    print(match.group(2))\n",
    "    \n",
    "#replacing\n",
    "subbed_urls=pattern.sub(r'\\2\\3',text)\n",
    "print(subbed_urls)\n"
   ]
  },
  {
   "cell_type": "code",
   "execution_count": 40,
   "id": "944dae1d-5eff-44fa-b570-651f1939e20c",
   "metadata": {},
   "outputs": [
    {
     "name": "stdout",
     "output_type": "stream",
     "text": [
      "['321-555-4321', '123.555.1234']\n",
      "['321-555-4321', '123.555.1234']\n"
     ]
    }
   ],
   "source": [
    "#some more\n",
    "\n",
    "pattern=re.compile(r'\\d{3}[.-]\\d{3}[.-]\\d{4}')\n",
    "matches=pattern.findall(text_to_work)\n",
    "for i in matches:\n",
    "    print(matches)"
   ]
  },
  {
   "cell_type": "code",
   "execution_count": 46,
   "id": "02e41291-2bc0-46ae-878c-d31f7c18f4f9",
   "metadata": {},
   "outputs": [
    {
     "name": "stdout",
     "output_type": "stream",
     "text": [
      "<re.Match object; span=(0, 4), match='\\nabc'>\n"
     ]
    }
   ],
   "source": [
    "pattern=re.compile(r'\\sabc')\n",
    "matches=pattern.match(text_to_work)\n",
    "print(matches)"
   ]
  },
  {
   "cell_type": "code",
   "execution_count": 47,
   "id": "42db198e-fc2c-4b79-955e-131c7c77de70",
   "metadata": {},
   "outputs": [
    {
     "name": "stdout",
     "output_type": "stream",
     "text": [
      "<re.Match object; span=(1, 2), match='a'>\n"
     ]
    }
   ],
   "source": [
    "pattern=re.compile(r'a')\n",
    "matches=pattern.search(text_to_work)\n",
    "print(matches)"
   ]
  },
  {
   "cell_type": "code",
   "execution_count": 49,
   "id": "e3f47c6d-5310-4f04-b028-1f18395c50f1",
   "metadata": {},
   "outputs": [
    {
     "name": "stdout",
     "output_type": "stream",
     "text": [
      "abc\n",
      "ABC\n"
     ]
    }
   ],
   "source": [
    "#flags\n",
    "pattern=re.compile(r'abC',re.IGNORECASE)\n",
    "matches=pattern.findall(text_to_work)\n",
    "for match in matches:\n",
    "    print(match)"
   ]
  },
  {
   "cell_type": "code",
   "execution_count": null,
   "id": "2630f5fc-75b8-4b87-9777-d10bd5d83165",
   "metadata": {},
   "outputs": [],
   "source": []
  }
 ],
 "metadata": {
  "kernelspec": {
   "display_name": "Python 3 (ipykernel)",
   "language": "python",
   "name": "python3"
  },
  "language_info": {
   "codemirror_mode": {
    "name": "ipython",
    "version": 3
   },
   "file_extension": ".py",
   "mimetype": "text/x-python",
   "name": "python",
   "nbconvert_exporter": "python",
   "pygments_lexer": "ipython3",
   "version": "3.11.7"
  }
 },
 "nbformat": 4,
 "nbformat_minor": 5
}
