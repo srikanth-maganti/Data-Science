{
 "cells": [
  {
   "cell_type": "code",
   "execution_count": 11,
   "id": "b1ecfc25-0783-4527-8225-7ef1ca7cdd60",
   "metadata": {},
   "outputs": [],
   "source": [
    "from bs4 import BeautifulSoup\n",
    "import requests"
   ]
  },
  {
   "cell_type": "code",
   "execution_count": 18,
   "id": "00439fa7-3ab5-4bcc-b668-3492950d350c",
   "metadata": {},
   "outputs": [
    {
     "name": "stdout",
     "output_type": "stream",
     "text": [
      "Article 2 Headline\n",
      "Article 2 Headline\n"
     ]
    }
   ],
   "source": [
    "f=open(\"simple.html\",\"r\")\n",
    "soup=BeautifulSoup(f,\"lxml\")\n",
    "\n",
    "\n",
    "matches=soup.find_all( 'div',class_=\"article\")\n",
    "\n",
    "for match in matches:\n",
    "    headi9ng=match.h2.a.text\n",
    "    print(heading)"
   ]
  },
  {
   "cell_type": "code",
   "execution_count": null,
   "id": "82031f5f-b011-45c9-a0a2-88f0fe61018d",
   "metadata": {},
   "outputs": [],
   "source": []
  },
  {
   "cell_type": "code",
   "execution_count": null,
   "id": "62828726-b5e2-4e01-896e-7e64a8854601",
   "metadata": {},
   "outputs": [],
   "source": []
  }
 ],
 "metadata": {
  "kernelspec": {
   "display_name": "Python 3 (ipykernel)",
   "language": "python",
   "name": "python3"
  },
  "language_info": {
   "codemirror_mode": {
    "name": "ipython",
    "version": 3
   },
   "file_extension": ".py",
   "mimetype": "text/x-python",
   "name": "python",
   "nbconvert_exporter": "python",
   "pygments_lexer": "ipython3",
   "version": "3.11.7"
  }
 },
 "nbformat": 4,
 "nbformat_minor": 5
}
