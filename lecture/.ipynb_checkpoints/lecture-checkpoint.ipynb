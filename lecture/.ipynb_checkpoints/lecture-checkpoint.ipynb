{
 "cells": [
  {
   "cell_type": "code",
   "execution_count": 1,
   "id": "82031f5f-b011-45c9-a0a2-88f0fe61018d",
   "metadata": {},
   "outputs": [],
   "source": [
    "# from bs4 import BeautifulSoup\n",
    "# import csv\n",
    "# import requests\n"
   ]
  },
  {
   "cell_type": "code",
   "execution_count": 2,
   "id": "62828726-b5e2-4e01-896e-7e64a8854601",
   "metadata": {},
   "outputs": [
    {
     "name": "stdout",
     "output_type": "stream",
     "text": [
      "<!DOCTYPE html>\n",
      "<html class=\"no-js\" lang=\"\">\n",
      "<head>\n",
      "<title>Test - A Sample Website</title>\n",
      "<meta charset=\"utf-8\"/>\n",
      "<link href=\"css/normalize.css\" rel=\"stylesheet\"/>\n",
      "<link href=\"css/main.css\" rel=\"stylesheet\"/>\n",
      "</head>\n",
      "<body>\n",
      "<h1 id=\"site_title\">Test Website</h1>\n",
      "<hr/>\n",
      "<div class=\"article\">\n",
      "<h2><a href=\"article_1.html\">Article 1 Headline</a></h2>\n",
      "<p>This is a summary of article 1</p>\n",
      "</div>\n",
      "<hr/>\n",
      "<div class=\"article\">\n",
      "<h2><a href=\"article_2.html\">Article 2 Headline</a></h2>\n",
      "<p>This is a summary of article 2</p>\n",
      "</div>\n",
      "<hr/>\n",
      "<div class=\"footer\">\n",
      "<p>Footer Information</p>\n",
      "</div>\n",
      "<script src=\"js/vendor/modernizr-3.5.0.min.js\"></script>\n",
      "<script src=\"js/plugins.js\"></script>\n",
      "<script src=\"js/main.js\"></script>\n",
      "</body>\n",
      "</html>\n",
      "\n"
     ]
    }
   ],
   "source": [
    "# f=open(\"simple.html\",\"r\")\n",
    "# soup=BeautifulSoup(f,\"lxml\")\n",
    "# print(soup)"
   ]
  },
  {
   "cell_type": "code",
   "execution_count": 7,
   "id": "fad818ef-9d85-456d-9552-8e788b388510",
   "metadata": {},
   "outputs": [],
   "source": [
    "# newfile=open(\"new.csv\",\"w\")\n",
    "# csv_writer=csv.writer(newfile)\n",
    "# csv_writer.writerow([\"heading\",\"summary\"]);\n"
   ]
  },
  {
   "cell_type": "code",
   "execution_count": 4,
   "id": "31f5360a-09ee-47fc-b769-acf99af476dd",
   "metadata": {},
   "outputs": [
    {
     "name": "stdout",
     "output_type": "stream",
     "text": [
      "Article 1 Headline\n",
      "This is a summary of article 1\n",
      "Article 2 Headline\n",
      "This is a summary of article 2\n"
     ]
    }
   ],
   "source": [
    "# for article in soup.find_all(\"div\",class_=\"article\"):\n",
    "#     heading=article.h2.text\n",
    "#     summary=article.p.text\n",
    "#     print(heading)\n",
    "#     print(summary)\n",
    "#     csv_writer.writerow([heading,summary]);\n",
    "\n"
   ]
  },
  {
   "cell_type": "code",
   "execution_count": null,
   "id": "a1cc3bae-8426-4029-bfbc-edde187a1c08",
   "metadata": {},
   "outputs": [],
   "source": []
  }
 ],
 "metadata": {
  "kernelspec": {
   "display_name": "Python 3 (ipykernel)",
   "language": "python",
   "name": "python3"
  },
  "language_info": {
   "codemirror_mode": {
    "name": "ipython",
    "version": 3
   },
   "file_extension": ".py",
   "mimetype": "text/x-python",
   "name": "python",
   "nbconvert_exporter": "python",
   "pygments_lexer": "ipython3",
   "version": "3.11.7"
  }
 },
 "nbformat": 4,
 "nbformat_minor": 5
}
