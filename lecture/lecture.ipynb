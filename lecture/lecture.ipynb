{
 "cells": [
  {
   "cell_type": "code",
   "execution_count": 1,
   "id": "82031f5f-b011-45c9-a0a2-88f0fe61018d",
   "metadata": {},
   "outputs": [],
   "source": [
    "# from bs4 import BeautifulSoup\n",
    "# import csv\n",
    "# import requests\n"
   ]
  },
  {
   "cell_type": "code",
   "execution_count": 2,
   "id": "62828726-b5e2-4e01-896e-7e64a8854601",
   "metadata": {},
   "outputs": [],
   "source": [
    "# f=open(\"simple.html\",\"r\")\n",
    "# soup=BeautifulSoup(f,\"lxml\")\n",
    "# print(soup)"
   ]
  },
  {
   "cell_type": "code",
   "execution_count": 3,
   "id": "fad818ef-9d85-456d-9552-8e788b388510",
   "metadata": {},
   "outputs": [],
   "source": [
    "# newfile=open(\"new.csv\",\"w\")\n",
    "# csv_writer=csv.writer(newfile)\n",
    "# csv_writer.writerow([\"heading\",\"summary\"]);\n"
   ]
  },
  {
   "cell_type": "code",
   "execution_count": 4,
   "id": "31f5360a-09ee-47fc-b769-acf99af476dd",
   "metadata": {},
   "outputs": [],
   "source": [
    "# for article in soup.find_all(\"div\",class_=\"article\"):\n",
    "#     heading=article.h2.text\n",
    "#     summary=article.p.text\n",
    "#     print(heading)\n",
    "#     print(summary)\n",
    "#     csv_writer.writerow([heading,summary]);\n",
    "\n"
   ]
  },
  {
   "cell_type": "code",
   "execution_count": null,
   "id": "a1cc3bae-8426-4029-bfbc-edde187a1c08",
   "metadata": {},
   "outputs": [],
   "source": []
  },
  {
   "cell_type": "markdown",
   "id": "ba3b855b-ec1e-4a2b-b838-b2542ac529bf",
   "metadata": {},
   "source": [
    "# Webscraping"
   ]
  },
  {
   "cell_type": "code",
   "execution_count": 8,
   "id": "cafb3a7f-4851-4c11-b43c-556c93df0074",
   "metadata": {},
   "outputs": [],
   "source": [
    "from bs4 import BeautifulSoup\n",
    "import csv"
   ]
  },
  {
   "cell_type": "code",
   "execution_count": 19,
   "id": "2e382a72-b8ad-4209-8b69-15d722ff1c01",
   "metadata": {},
   "outputs": [
    {
     "data": {
      "text/plain": [
       "17"
      ]
     },
     "execution_count": 19,
     "metadata": {},
     "output_type": "execute_result"
    }
   ],
   "source": [
    "newfile=open(\"new.csv\",\"w\")\n",
    "\n",
    "csv_writer=csv.writer(newfile)\n",
    "csv_writer.writerow([\"heading\",\"summary\"])\n"
   ]
  },
  {
   "cell_type": "code",
   "execution_count": 9,
   "id": "1eeb1239-2a35-429d-b6d1-9638e0aa4564",
   "metadata": {},
   "outputs": [],
   "source": [
    "f=open(\"simple.html\",\"r\")\n",
    "soup=BeautifulSoup(f,\"lxml\")\n",
    "\n",
    "\n"
   ]
  },
  {
   "cell_type": "code",
   "execution_count": 11,
   "id": "97781dc4-32ef-455f-bace-078a5e64f2a4",
   "metadata": {},
   "outputs": [
    {
     "name": "stdout",
     "output_type": "stream",
     "text": [
      "<!DOCTYPE html>\n",
      "<html class=\"no-js\" lang=\"\">\n",
      " <head>\n",
      "  <title>\n",
      "   Test - A Sample Website\n",
      "  </title>\n",
      "  <meta charset=\"utf-8\"/>\n",
      "  <link href=\"css/normalize.css\" rel=\"stylesheet\"/>\n",
      "  <link href=\"css/main.css\" rel=\"stylesheet\"/>\n",
      " </head>\n",
      " <body>\n",
      "  <h1 id=\"site_title\">\n",
      "   Test Website\n",
      "  </h1>\n",
      "  <hr/>\n",
      "  <div class=\"article\">\n",
      "   <h2>\n",
      "    <a href=\"article_1.html\">\n",
      "     Article 1 Headline\n",
      "    </a>\n",
      "   </h2>\n",
      "   <p>\n",
      "    This is a summary of article 1\n",
      "   </p>\n",
      "  </div>\n",
      "  <hr/>\n",
      "  <div class=\"article\">\n",
      "   <h2>\n",
      "    <a href=\"article_2.html\">\n",
      "     Article 2 Headline\n",
      "    </a>\n",
      "   </h2>\n",
      "   <p>\n",
      "    This is a summary of article 2\n",
      "   </p>\n",
      "  </div>\n",
      "  <hr/>\n",
      "  <div class=\"footer\">\n",
      "   <p>\n",
      "    Footer Information\n",
      "   </p>\n",
      "  </div>\n",
      "  <script src=\"js/vendor/modernizr-3.5.0.min.js\">\n",
      "  </script>\n",
      "  <script src=\"js/plugins.js\">\n",
      "  </script>\n",
      "  <script src=\"js/main.js\">\n",
      "  </script>\n",
      " </body>\n",
      "</html>\n",
      "\n"
     ]
    }
   ],
   "source": [
    "print(soup.prettify())"
   ]
  },
  {
   "cell_type": "code",
   "execution_count": 20,
   "id": "fd5453a9-dd57-4f05-8b16-2067bdda30c6",
   "metadata": {},
   "outputs": [
    {
     "name": "stdout",
     "output_type": "stream",
     "text": [
      "Article 1 Headline\n",
      "This is a summary of article 1\n",
      "Article 2 Headline\n",
      "This is a summary of article 2\n"
     ]
    }
   ],
   "source": [
    "for article in soup.find_all(\"div\",class_=\"article\"):\n",
    "     heading=article.h2.a.text\n",
    "     summary=article.p.text\n",
    "     csv_writer.writerow([heading,summary])\n",
    "     print(heading)\n",
    "     print(summary)"
   ]
  },
  {
   "cell_type": "code",
   "execution_count": 21,
   "id": "86a58182-aa37-4e39-8ca9-392be7edadf8",
   "metadata": {},
   "outputs": [],
   "source": [
    "f.close()\n",
    "newfile.close()"
   ]
  },
  {
   "cell_type": "code",
   "execution_count": 22,
   "id": "72abd124-d218-429f-9d60-c1029173b2d8",
   "metadata": {},
   "outputs": [],
   "source": [
    "import pandas as pd"
   ]
  },
  {
   "cell_type": "code",
   "execution_count": 23,
   "id": "7aac7c2c-6842-495d-88df-27aa22010f0a",
   "metadata": {},
   "outputs": [],
   "source": [
    "data=pd.read_csv(\"new.csv\")"
   ]
  },
  {
   "cell_type": "code",
   "execution_count": 24,
   "id": "e5eecfc3-f5c2-4626-a8b7-d34983f53579",
   "metadata": {},
   "outputs": [
    {
     "name": "stdout",
     "output_type": "stream",
     "text": [
      "              heading                         summary\n",
      "0  Article 1 Headline  This is a summary of article 1\n",
      "1  Article 2 Headline  This is a summary of article 2\n"
     ]
    }
   ],
   "source": [
    "print(data)"
   ]
  },
  {
   "cell_type": "code",
   "execution_count": null,
   "id": "85dede77-21d4-4249-8874-140fa3994836",
   "metadata": {},
   "outputs": [],
   "source": [
    "\n",
    "\n",
    "\n"
   ]
  },
  {
   "cell_type": "code",
   "execution_count": null,
   "id": "e3bbb76a-4a6a-4fa5-a2d0-f0e592714862",
   "metadata": {},
   "outputs": [],
   "source": []
  },
  {
   "cell_type": "code",
   "execution_count": null,
   "id": "945be7ce-304c-4a7a-8fb2-d5c95c370e47",
   "metadata": {},
   "outputs": [],
   "source": []
  },
  {
   "cell_type": "code",
   "execution_count": null,
   "id": "53fd3cb8-75ff-44d7-91c1-b3cc5352c075",
   "metadata": {},
   "outputs": [],
   "source": []
  },
  {
   "cell_type": "code",
   "execution_count": null,
   "id": "bbce1f96-7a6c-4618-9443-af2331808e2f",
   "metadata": {},
   "outputs": [],
   "source": []
  },
  {
   "cell_type": "code",
   "execution_count": null,
   "id": "eb01e386-f316-48ea-a727-928fbf6de49f",
   "metadata": {},
   "outputs": [],
   "source": []
  },
  {
   "cell_type": "code",
   "execution_count": null,
   "id": "c42103f3-de49-4171-8d3a-211fc7327013",
   "metadata": {},
   "outputs": [],
   "source": []
  },
  {
   "cell_type": "code",
   "execution_count": null,
   "id": "2bac527a-6480-41db-8243-a4be1e37bedd",
   "metadata": {},
   "outputs": [],
   "source": []
  },
  {
   "cell_type": "raw",
   "id": "7348f07e-677d-4d93-9406-aa31c22dfe6c",
   "metadata": {},
   "source": []
  }
 ],
 "metadata": {
  "kernelspec": {
   "display_name": "Python 3 (ipykernel)",
   "language": "python",
   "name": "python3"
  },
  "language_info": {
   "codemirror_mode": {
    "name": "ipython",
    "version": 3
   },
   "file_extension": ".py",
   "mimetype": "text/x-python",
   "name": "python",
   "nbconvert_exporter": "python",
   "pygments_lexer": "ipython3",
   "version": "3.11.7"
  }
 },
 "nbformat": 4,
 "nbformat_minor": 5
}
