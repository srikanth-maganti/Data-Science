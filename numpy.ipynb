{
 "cells": [
  {
   "cell_type": "markdown",
   "id": "bdb15a55-a8e6-4638-9faf-1957f94b8f39",
   "metadata": {},
   "source": [
    "# NUMPY\n"
   ]
  },
  {
   "cell_type": "code",
   "execution_count": 48,
   "id": "e9115783-f9ee-4f04-877a-71fa45675c80",
   "metadata": {},
   "outputs": [],
   "source": [
    "import numpy as np"
   ]
  },
  {
   "cell_type": "code",
   "execution_count": 49,
   "id": "7558954d-ff87-4d30-ae54-02fabd9d5124",
   "metadata": {},
   "outputs": [
    {
     "name": "stdout",
     "output_type": "stream",
     "text": [
      "[1 2 3 4]\n"
     ]
    }
   ],
   "source": [
    "arr=np.array([1,2,3,4])\n",
    "print(arr)"
   ]
  },
  {
   "cell_type": "code",
   "execution_count": 50,
   "id": "424ba111-445a-4366-b153-db9514468a16",
   "metadata": {},
   "outputs": [
    {
     "data": {
      "text/plain": [
       "1"
      ]
     },
     "execution_count": 50,
     "metadata": {},
     "output_type": "execute_result"
    }
   ],
   "source": [
    "arr[0]"
   ]
  },
  {
   "cell_type": "code",
   "execution_count": 51,
   "id": "03962c83-c811-4329-854f-24a10a8a279d",
   "metadata": {},
   "outputs": [
    {
     "data": {
      "text/plain": [
       "2"
      ]
     },
     "execution_count": 51,
     "metadata": {},
     "output_type": "execute_result"
    }
   ],
   "source": [
    "arr[1]"
   ]
  },
  {
   "cell_type": "markdown",
   "id": "8d9e3346-6a52-4d45-acc5-c8bc52a2a90f",
   "metadata": {},
   "source": [
    "### numpy array vs normal array"
   ]
  },
  {
   "cell_type": "code",
   "execution_count": 52,
   "id": "d66b5833-eb46-41a8-8923-c6cf0fa9285e",
   "metadata": {},
   "outputs": [],
   "source": [
    "import sys\n",
    "from array import *\n",
    "ar=array(\"i\",[1,2,3,4])\n"
   ]
  },
  {
   "cell_type": "code",
   "execution_count": 53,
   "id": "6b387fed-14e2-416c-b51a-f066d3c5743e",
   "metadata": {},
   "outputs": [],
   "source": [
    "#size comparision"
   ]
  },
  {
   "cell_type": "code",
   "execution_count": 54,
   "id": "faaa7264-88ef-4e21-9200-435c4e15383f",
   "metadata": {},
   "outputs": [
    {
     "data": {
      "text/plain": [
       "96"
      ]
     },
     "execution_count": 54,
     "metadata": {},
     "output_type": "execute_result"
    }
   ],
   "source": [
    "sys.getsizeof(ar)"
   ]
  },
  {
   "cell_type": "code",
   "execution_count": 55,
   "id": "459a742f-c47f-4882-bdcc-6c3d552dc59a",
   "metadata": {},
   "outputs": [
    {
     "data": {
      "text/plain": [
       "16"
      ]
     },
     "execution_count": 55,
     "metadata": {},
     "output_type": "execute_result"
    }
   ],
   "source": [
    "arr.nbytes"
   ]
  },
  {
   "cell_type": "code",
   "execution_count": 56,
   "id": "3816c01c-4d6f-4b96-b71e-a1b2920adc36",
   "metadata": {},
   "outputs": [
    {
     "name": "stdout",
     "output_type": "stream",
     "text": [
      "28000\n",
      "4000\n"
     ]
    }
   ],
   "source": [
    "l=range(1000)\n",
    "ll=np.arange(1000)\n",
    "print(sys.getsizeof(1)*1000)\n",
    "print(ll.size*ll.itemsize)\n"
   ]
  },
  {
   "cell_type": "code",
   "execution_count": 78,
   "id": "02bd2275-9a8d-40fb-a4eb-5c6c4dc2e8af",
   "metadata": {},
   "outputs": [],
   "source": [
    "#speed  comparision\n",
    "\n",
    "import time\n",
    "l1=range(10000)\n",
    "l2=range(10000)\n",
    "a1=np.arange(10000)\n",
    "a2=np.arange(10000)\n",
    "\n"
   ]
  },
  {
   "cell_type": "code",
   "execution_count": 87,
   "id": "1aa73372-ce86-40de-9085-0d1b1fabbbcb",
   "metadata": {},
   "outputs": [
    {
     "name": "stdout",
     "output_type": "stream",
     "text": [
      "4.045009613037109\n"
     ]
    }
   ],
   "source": [
    "start=time.time()\n",
    "result=[(x+y)for x,y in zip(l1,l2)]\n",
    "print((time.time()-start)*1000)\n"
   ]
  },
  {
   "cell_type": "code",
   "execution_count": 88,
   "id": "56d7a6f1-b511-413f-a0f4-3d5655769497",
   "metadata": {},
   "outputs": [
    {
     "name": "stdout",
     "output_type": "stream",
     "text": [
      "1.5187263488769531\n"
     ]
    }
   ],
   "source": [
    "start=time.time()\n",
    "result=a1+a2\n",
    "\n",
    "print((time.time()-start)*1000)\n"
   ]
  },
  {
   "cell_type": "code",
   "execution_count": null,
   "id": "bba6ab27-68ba-4730-9159-ab2b0db0102a",
   "metadata": {},
   "outputs": [],
   "source": [
    "\n",
    "\n"
   ]
  },
  {
   "cell_type": "code",
   "execution_count": 90,
   "id": "f8879761-e8a1-428e-8499-9a61482c1c82",
   "metadata": {},
   "outputs": [
    {
     "data": {
      "text/plain": [
       "array([[2., 3.],\n",
       "       [4., 5.],\n",
       "       [6., 7.]])"
      ]
     },
     "execution_count": 90,
     "metadata": {},
     "output_type": "execute_result"
    }
   ],
   "source": [
    "a=np.array([[2,3],[4,5],[6,7]], dtype=np.float64)\n",
    "a\n"
   ]
  },
  {
   "cell_type": "code",
   "execution_count": 92,
   "id": "00fa9e42-cd55-45f2-98f7-7c6c23703575",
   "metadata": {},
   "outputs": [
    {
     "data": {
      "text/plain": [
       "array([[2, 3],\n",
       "       [4, 5],\n",
       "       [6, 7]], dtype=int64)"
      ]
     },
     "execution_count": 92,
     "metadata": {},
     "output_type": "execute_result"
    }
   ],
   "source": [
    "a=np.array([[2,3],[4,5],[6,7]], dtype=np.int64)\n",
    "a"
   ]
  },
  {
   "cell_type": "code",
   "execution_count": 93,
   "id": "fa096be7-6799-49c4-a3a0-a2d4baed2f9e",
   "metadata": {},
   "outputs": [
    {
     "data": {
      "text/plain": [
       "2"
      ]
     },
     "execution_count": 93,
     "metadata": {},
     "output_type": "execute_result"
    }
   ],
   "source": [
    "a.ndim"
   ]
  },
  {
   "cell_type": "code",
   "execution_count": 94,
   "id": "73d66863-379b-4a0c-9105-d9442add7877",
   "metadata": {},
   "outputs": [
    {
     "data": {
      "text/plain": [
       "6"
      ]
     },
     "execution_count": 94,
     "metadata": {},
     "output_type": "execute_result"
    }
   ],
   "source": [
    "a.size  #no of elements"
   ]
  },
  {
   "cell_type": "code",
   "execution_count": 96,
   "id": "a45306fe-e7d6-465a-bf25-0489a7577c8b",
   "metadata": {},
   "outputs": [
    {
     "data": {
      "text/plain": [
       "8"
      ]
     },
     "execution_count": 96,
     "metadata": {},
     "output_type": "execute_result"
    }
   ],
   "source": [
    "a.itemsize #size of one element"
   ]
  },
  {
   "cell_type": "code",
   "execution_count": 97,
   "id": "56633a98-7375-4223-b7b5-69dd51aba2d6",
   "metadata": {},
   "outputs": [
    {
     "data": {
      "text/plain": [
       "(3, 2)"
      ]
     },
     "execution_count": 97,
     "metadata": {},
     "output_type": "execute_result"
    }
   ],
   "source": [
    "a.shape"
   ]
  },
  {
   "cell_type": "code",
   "execution_count": 100,
   "id": "3594516f-da8c-4947-92a3-a1c2adbfbe11",
   "metadata": {},
   "outputs": [
    {
     "data": {
      "text/plain": [
       "array([[0., 0., 0., 0.],\n",
       "       [0., 0., 0., 0.],\n",
       "       [0., 0., 0., 0.]])"
      ]
     },
     "execution_count": 100,
     "metadata": {},
     "output_type": "execute_result"
    }
   ],
   "source": [
    "l=np.zeros((3,4))\n",
    "l"
   ]
  },
  {
   "cell_type": "code",
   "execution_count": 101,
   "id": "bf7e4c0e-2f51-405e-92d6-4c60df05262b",
   "metadata": {},
   "outputs": [
    {
     "data": {
      "text/plain": [
       "array([[1., 1., 1., 1.],\n",
       "       [1., 1., 1., 1.],\n",
       "       [1., 1., 1., 1.],\n",
       "       [1., 1., 1., 1.]])"
      ]
     },
     "execution_count": 101,
     "metadata": {},
     "output_type": "execute_result"
    }
   ],
   "source": [
    "l=np.ones((4,4))\n",
    "l"
   ]
  },
  {
   "cell_type": "code",
   "execution_count": 102,
   "id": "c292792d-01fc-489b-99bc-70ae16b6c00a",
   "metadata": {},
   "outputs": [
    {
     "data": {
      "text/plain": [
       "range(0, 10)"
      ]
     },
     "execution_count": 102,
     "metadata": {},
     "output_type": "execute_result"
    }
   ],
   "source": [
    "range(10)\n"
   ]
  },
  {
   "cell_type": "code",
   "execution_count": 103,
   "id": "fc328f67-327f-4593-b1ac-48e126331221",
   "metadata": {},
   "outputs": [
    {
     "data": {
      "text/plain": [
       "array([0, 1, 2, 3, 4, 5, 6, 7, 8, 9])"
      ]
     },
     "execution_count": 103,
     "metadata": {},
     "output_type": "execute_result"
    }
   ],
   "source": [
    "np.arange(10)"
   ]
  },
  {
   "cell_type": "code",
   "execution_count": null,
   "id": "9b2dad51-98a3-4986-9456-6b258b17022f",
   "metadata": {},
   "outputs": [],
   "source": []
  }
 ],
 "metadata": {
  "kernelspec": {
   "display_name": "Python 3 (ipykernel)",
   "language": "python",
   "name": "python3"
  },
  "language_info": {
   "codemirror_mode": {
    "name": "ipython",
    "version": 3
   },
   "file_extension": ".py",
   "mimetype": "text/x-python",
   "name": "python",
   "nbconvert_exporter": "python",
   "pygments_lexer": "ipython3",
   "version": "3.11.7"
  }
 },
 "nbformat": 4,
 "nbformat_minor": 5
}
