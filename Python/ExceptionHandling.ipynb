{
 "cells": [
  {
   "cell_type": "code",
   "execution_count": 2,
   "id": "3adb8795-8b2f-40be-9af7-446922d3fb28",
   "metadata": {},
   "outputs": [
    {
     "name": "stdout",
     "output_type": "stream",
     "text": [
      "resource open\n",
      "2.0\n"
     ]
    },
    {
     "name": "stdin",
     "output_type": "stream",
     "text": [
      "enter a num 3\n"
     ]
    },
    {
     "name": "stdout",
     "output_type": "stream",
     "text": [
      "3\n",
      "resource closed\n"
     ]
    }
   ],
   "source": [
    "a=2\n",
    "b=1\n",
    "try:\n",
    "\n",
    "    print(\"resource open\")\n",
    "    print(a/b)\n",
    "    i=int(input(\"enter a num\"))\n",
    "    print(i)\n",
    "except ZeroDivisionError as e:\n",
    "    print(\"divide by zero is not possible\")\n",
    "except ValueError as e:\n",
    "    print(\"enter correct input\")\n",
    "except Exception as e:\n",
    "    \n",
    "    print(\"something went wrong\")\n",
    "finally:\n",
    "    print(\"resource closed\")"
   ]
  },
  {
   "cell_type": "code",
   "execution_count": 4,
   "id": "0cdcd67d-c897-4945-88ff-3140dd9b9239",
   "metadata": {},
   "outputs": [
    {
     "name": "stdout",
     "output_type": "stream",
     "text": [
      "2.0\n"
     ]
    },
    {
     "name": "stdin",
     "output_type": "stream",
     "text": [
      "enter a num p\n"
     ]
    },
    {
     "name": "stdout",
     "output_type": "stream",
     "text": [
      "invalid literal for int() with base 10: 'p'\n",
      "every try block should have its coreesponding except or finally block\n"
     ]
    }
   ],
   "source": [
    "try:\n",
    "    print(2/1)\n",
    "    try:\n",
    "        i=int(input(\"enter a num\"))\n",
    "    except ValueError as e:\n",
    "        print(e)\n",
    "except Exception as e:\n",
    "    print(\"something went wrong\")\n",
    "finally:\n",
    "    print(\"every try block should have its coreesponding except or finally block\")\n"
   ]
  },
  {
   "cell_type": "code",
   "execution_count": null,
   "id": "3b6bc066-ca04-4854-b3c7-85ae694f31aa",
   "metadata": {},
   "outputs": [],
   "source": []
  }
 ],
 "metadata": {
  "kernelspec": {
   "display_name": "Python 3 (ipykernel)",
   "language": "python",
   "name": "python3"
  },
  "language_info": {
   "codemirror_mode": {
    "name": "ipython",
    "version": 3
   },
   "file_extension": ".py",
   "mimetype": "text/x-python",
   "name": "python",
   "nbconvert_exporter": "python",
   "pygments_lexer": "ipython3",
   "version": "3.11.7"
  }
 },
 "nbformat": 4,
 "nbformat_minor": 5
}
