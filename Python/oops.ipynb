{
 "cells": [
  {
   "cell_type": "markdown",
   "id": "6ecac7d1-12f8-4d48-832e-ddc803385813",
   "metadata": {},
   "source": [
    "## python object oriented programming"
   ]
  },
  {
   "cell_type": "markdown",
   "id": "79bcefa6-e9dd-4c27-bce9-6c5533f52af1",
   "metadata": {},
   "source": [
    "### class and instances"
   ]
  },
  {
   "cell_type": "code",
   "execution_count": 1,
   "id": "bea26fe0-211f-4c70-96c6-9adcfba50255",
   "metadata": {},
   "outputs": [
    {
     "name": "stdout",
     "output_type": "stream",
     "text": [
      "constructor is called\n"
     ]
    }
   ],
   "source": [
    "#constructor will be called automatically whenever an object is initaited\n",
    "class student:\n",
    "    def __init__(self):\n",
    "        print(\"constructor is called\")\n",
    "s1=student()"
   ]
  },
  {
   "cell_type": "code",
   "execution_count": 13,
   "id": "ed7655d8-3dd3-4e4c-a63b-85993343c358",
   "metadata": {},
   "outputs": [
    {
     "name": "stdout",
     "output_type": "stream",
     "text": [
      "<__main__.employee object at 0x000001E3B59D9950>\n",
      "<__main__.employee object at 0x000001E3B6688B50>\n",
      "srikanthmaganti@gmail.com\n",
      "sravn kumar@gmail.com\n",
      "srikanth maganti\n",
      "sravn  kumar\n",
      "srikanth maganti\n"
     ]
    }
   ],
   "source": [
    "class employee:\n",
    "    fname=\"siya\"\n",
    "    lname=\"ram\"\n",
    "    def __init__(self,first,last,pay):#here self refers to instance\n",
    "        self.fname=first\n",
    "        self.lname=last\n",
    "        self.pay=pay\n",
    "        self.email=first+last+\"@gmail.com\";\n",
    "\n",
    "\n",
    "    def fullname(self):\n",
    "        print(self.fname+\" \"+self.lname)\n",
    "        \n",
    "\n",
    "\n",
    "        \n",
    "        \n",
    "emp_1=employee(\"srikanth\",\"maganti\",20000)\n",
    "emp_2=employee(\"sravn \",\"kumar\",40000)\n",
    "\n",
    "print(emp_1)#object\n",
    "print(emp_2)#object\n",
    "\n",
    "print(emp_1.email) #in instance variables data is unique for each instance\n",
    "print(emp_2.email)\n",
    "\n",
    "emp_1.fullname()\n",
    "emp_2.fullname()\n",
    "\n",
    "\n",
    "employee.fullname(emp_1)#if we are calling a method by using a class we must expllicitely pass instance\n",
    "\n",
    "\n"
   ]
  },
  {
   "cell_type": "markdown",
   "id": "d8243945-1e95-4a01-a081-938d3ec159af",
   "metadata": {},
   "source": [
    "### class varibles"
   ]
  },
  {
   "cell_type": "code",
   "execution_count": 20,
   "id": "474dfa6d-fdc4-43a8-8470-7052d48593eb",
   "metadata": {},
   "outputs": [
    {
     "name": "stdout",
     "output_type": "stream",
     "text": [
      "200000\n",
      "408000.0\n",
      "1.04\n",
      "1.04\n",
      "{'fname': 'srikanth', 'lname': 'maganti', 'pay': 408000.0}\n",
      "2\n"
     ]
    }
   ],
   "source": [
    "class employee:\n",
    "    no_of_employees=0\n",
    "    rise=1.04\n",
    "    def __init__(self,first,last,pay):\n",
    "        self.fname=first;\n",
    "        self.lname=last;\n",
    "        self.pay=pay;\n",
    "        employee.no_of_employees+=1\n",
    "    def pay_raise(self):\n",
    "        self.pay+=self.pay*self.rise\n",
    "emp1=employee(\"srikanth\",\"maganti\",200000)\n",
    "emp2=employee(\"sravan\",\"kumar\",200000)\n",
    "\n",
    "print(emp1.pay)\n",
    "emp1.pay_raise()\n",
    "print(emp1.pay)\n",
    "\n",
    "print(employee.rise)\n",
    "print(emp1.rise)\n",
    "print(emp1.__dict__)\n",
    "\n",
    "print(employee.no_of_employees)\n",
    "    "
   ]
  },
  {
   "cell_type": "code",
   "execution_count": 2,
   "id": "1acc173a-baa6-46cf-91a5-3d6de651cb44",
   "metadata": {},
   "outputs": [
    {
     "name": "stdout",
     "output_type": "stream",
     "text": [
      "sriknath\n"
     ]
    }
   ],
   "source": [
    "#class variables vs instance variables\n",
    "class student:\n",
    "    name=\"anonymous\"\n",
    "    def __init__(self,name):\n",
    "        self.name=name\n",
    "s1=student(\"sriknath\")\n",
    "print(s1.name)"
   ]
  },
  {
   "cell_type": "markdown",
   "id": "365be6c5-b61b-4c37-80c8-8be6e4a656d1",
   "metadata": {},
   "source": [
    "### class methods"
   ]
  },
  {
   "cell_type": "code",
   "execution_count": 4,
   "id": "803040f3-cafe-4e93-a27d-b7e5b2d8eb68",
   "metadata": {},
   "outputs": [
    {
     "name": "stdout",
     "output_type": "stream",
     "text": [
      "srikanth \n",
      " maganti \n",
      " 200000\n",
      "sravan \n",
      " kumar \n",
      " 200000\n",
      "1.06\n",
      "1.06\n",
      "1.06\n"
     ]
    }
   ],
   "source": [
    "\n",
    "#class methods by default take class as a argument\n",
    "class employee:\n",
    "    raise_amount=1.04\n",
    "    count=0\n",
    "    def __init__(self,first,last,pay):\n",
    "        self.first=first\n",
    "        self.last=last\n",
    "        self.pay=pay\n",
    "        employee.count+=1;\n",
    "    def show(self):\n",
    "        print(self.first,'\\n',self.last,'\\n',self.pay)\n",
    "    @classmethod\n",
    "    def set_raise_amount(cls,amount):\n",
    "        cls.raise_amount=amount\n",
    "        \n",
    "emp1=employee(\"srikanth\",\"maganti\",200000)\n",
    "emp2=employee(\"sravan\",\"kumar\",200000)\n",
    "emp1.show()\n",
    "emp2.show()\n",
    "employee.set_raise_amount(1.06)\n",
    "print(emp1.raise_amount)\n",
    "print(emp2.raise_amount)\n",
    "print(employee.raise_amount)\n",
    "\n",
    "\n",
    "        "
   ]
  },
  {
   "cell_type": "code",
   "execution_count": 6,
   "id": "902af2d7-b4d4-46c4-983f-9d4fb54e3061",
   "metadata": {},
   "outputs": [
    {
     "name": "stdout",
     "output_type": "stream",
     "text": [
      "srikanth maganti 120000\n"
     ]
    }
   ],
   "source": [
    "#class methods as a alternative constructor\n",
    "class employee:\n",
    "    def __init__(self,first,last,pay):\n",
    "        self.first=first\n",
    "        self.last=last\n",
    "        self.pay=pay\n",
    "    @classmethod\n",
    "    def from_string(cls,str):\n",
    "        first,last,pay=str.split('-')\n",
    "        return cls(first,last,pay)\n",
    "    def show(self):\n",
    "        print(self.first,self.last,self.pay)\n",
    "emp1_str=\"srikanth-maganti-120000\"\n",
    "emp1=employee.from_string(emp1_str)\n",
    "emp1.show()"
   ]
  },
  {
   "cell_type": "markdown",
   "id": "450dcafe-9619-4b9c-b650-b32de374b6d5",
   "metadata": {},
   "source": [
    "## static methods\n"
   ]
  },
  {
   "cell_type": "code",
   "execution_count": 7,
   "id": "38833d0d-19ab-4033-bed2-318494cb4e7d",
   "metadata": {},
   "outputs": [
    {
     "name": "stdout",
     "output_type": "stream",
     "text": [
      "True\n"
     ]
    }
   ],
   "source": [
    "#if we not willing to use self or cls then we go for static methods\n",
    "import datetime\n",
    "class days:\n",
    "    @staticmethod\n",
    "    def is_weekday(day):\n",
    "        if(day.weekday()==5 or day.weekday()==6):\n",
    "            return False\n",
    "        return True\n",
    "\n",
    "mydate=datetime.date(2016,5,11)\n",
    "print(days.is_weekday(mydate))\n",
    "\n",
    "            "
   ]
  },
  {
   "cell_type": "markdown",
   "id": "1395f639-9516-43d1-8668-f2fc63486451",
   "metadata": {},
   "source": [
    "## practice problems\n"
   ]
  },
  {
   "cell_type": "code",
   "execution_count": 9,
   "id": "80cc93ba-3c5f-4ae2-868b-e55653ae1c59",
   "metadata": {},
   "outputs": [
    {
     "name": "stdout",
     "output_type": "stream",
     "text": [
      "33.666666666666664\n"
     ]
    }
   ],
   "source": [
    "#create student class that takes name &marks of 3 subjects as arguments in constructor then create a method to print the average\n",
    "class student:\n",
    "    def __init__(self,name,marks):\n",
    "        self.name=name\n",
    "        self.marks=marks\n",
    "    def average(self):\n",
    "        sum=0\n",
    "        for i in self.marks:\n",
    "            sum=sum+i\n",
    "        return sum/len(self.marks)\n",
    "s1=student(\"srikath\",[34,32,35])\n",
    "print(s1.average())"
   ]
  },
  {
   "cell_type": "code",
   "execution_count": 12,
   "id": "e2a240b0-07c0-49de-a50a-dc2c3c352d8c",
   "metadata": {},
   "outputs": [
    {
     "name": "stdout",
     "output_type": "stream",
     "text": [
      "rupess debited 100\n",
      "balance available 1100\n",
      "rupees credited 200\n",
      "balance available 1300\n"
     ]
    }
   ],
   "source": [
    "#create account class with 2 attributes -balance & account no .\n",
    "#create methods for debit ,credit &printing the balance\n",
    "class account:\n",
    "    def __init__(self,bal,accno):\n",
    "        self.bal=bal\n",
    "        self.accno=accno\n",
    "    def debit(self,amount):\n",
    "        self.bal=self.bal-amount\n",
    "        print(\"rupess debited\",amount)\n",
    "        print(\"balance available\",self.balance())\n",
    "    def credit(self,amount):\n",
    "        self.bal=self.bal+amount\n",
    "        print(\"rupees credited\",amount)\n",
    "        print(\"balance available\",self.balance())\n",
    "    def balance(self):\n",
    "        return self.bal\n",
    "c1=account(1200,2345)\n",
    "c1.debit(100)\n",
    "c1.credit(200)\n",
    "\n",
    "\n",
    "\n",
    "    \n",
    "        "
   ]
  },
  {
   "cell_type": "markdown",
   "id": "42f91c3a-03f6-4920-a7f9-45aac2bb9a8c",
   "metadata": {},
   "source": [
    "## inheritance"
   ]
  },
  {
   "cell_type": "code",
   "execution_count": 11,
   "id": "a71c0d3f-2e17-48db-a9cf-89f2ba9efc8e",
   "metadata": {},
   "outputs": [
    {
     "name": "stdout",
     "output_type": "stream",
     "text": [
      "srikanth\n",
      "python\n"
     ]
    }
   ],
   "source": [
    "class employee:\n",
    "    raise_amount=1.04\n",
    "    def __init__(self,first,last,pay):\n",
    "        self.first=first\n",
    "        self.last=last\n",
    "        self.pay=pay\n",
    "    def fullname(self):\n",
    "        print(self.first,\" \",self.last)\n",
    "    def apply_raise(self):\n",
    "        self.pay=int(self.pay*self.raise_amount)\n",
    "\n",
    "class developer(employee):\n",
    "    raise_amount=1.06 #this not going to effect parent class variable value\n",
    "    def __init__(self,first,last,pay,prog_lan):#creating additional variable programming language\n",
    "        super().__init__(first,last,pay)\n",
    "        #employee.__init__(self,first,last,pay)\n",
    "        self.prog_lan=prog_lan\n",
    "dev1=developer(\"srikanth\",\"maganti\",12000,\"python\")\n",
    "dev2=developer(\"sravn\",\"kumar\",23455,\"java\")\n",
    "emp1=employee(\"ram\",\"siya\",12000)\n",
    "emp2=employee(\"sri\",\"krishna\",24555)\n",
    "print(dev1.first)\n",
    "print(dev1.prog_lan)\n",
    "\n",
    "\n",
    "#print(emp1.pay)\n",
    "#emp1.apply_raise()\n",
    "#print(emp1.pay)"
   ]
  },
  {
   "cell_type": "code",
   "execution_count": 21,
   "id": "a3208f92-af5a-44e4-92d7-562195dd4861",
   "metadata": {},
   "outputs": [
    {
     "name": "stdout",
     "output_type": "stream",
     "text": [
      "srikanth   maganti\n",
      "ram   siya\n",
      "sri   krishna\n"
     ]
    }
   ],
   "source": [
    "class manager(employee):\n",
    "    def __init__(self,first,last,pay,employees=None):\n",
    "        super().__init__(first,last,pay)\n",
    "        if employees==None:\n",
    "            self.employees=[]\n",
    "        else:\n",
    "            self.employees=employees\n",
    "    def add_emp(self,emp):\n",
    "        if emp in self.employees:\n",
    "            pass\n",
    "        else:\n",
    "            self.employees.append(emp)\n",
    "    def remove_emp(self,emp):\n",
    "        if emp in self.employees:\n",
    "            self.employees.remove(emp)\n",
    "    def show_emps(self):\n",
    "        for emp in self.employees:\n",
    "            emp.fullname()\n",
    "mgr1=manager(\"srikanth\",\"maganti\",20000,[emp1])\n",
    "mgr1.fullname()\n",
    "mgr1.show_emps()\n",
    "mgr1.add_emp(emp2)\n",
    "mgr1.remove_emp(emp1)\n",
    "mgr1.show_emps()\n"
   ]
  },
  {
   "cell_type": "markdown",
   "id": "750ee974-79c1-4763-a773-ee99f4baa69a",
   "metadata": {},
   "source": [
    "### special methods"
   ]
  },
  {
   "cell_type": "code",
   "execution_count": 9,
   "id": "ccd7dbe7-1a73-443b-9a38-62307e06318f",
   "metadata": {},
   "outputs": [
    {
     "name": "stdout",
     "output_type": "stream",
     "text": [
      "srimag-3455\n",
      "employee(sri,mag,3455)\n",
      "employee(sri,mag,3455)\n",
      "srimag-3455\n"
     ]
    }
   ],
   "source": [
    "class employee:\n",
    "    def __init__(self,first,last,pay):\n",
    "        self.first=first\n",
    "        self.last=last\n",
    "        self.pay=pay\n",
    "    def fullname(self):\n",
    "        return self.first+self.last\n",
    "    def __repr__(self):\n",
    "        return \"employee({},{},{})\".format(self.first,self.last,self.pay)\n",
    "    def __str__(self):\n",
    "        return \"{}-{}\".format(self.fullname(),self.pay)\n",
    "    def __add__(self,other):\n",
    "        return self.pay+other.pay\n",
    "    def __len__(self):\n",
    "        return len(self.fullname())\n",
    "emp1=employee(\"sri\",\"mag\",3455)\n",
    "emp2=employee(\"ram\",\"siya\",345)\n",
    "print(emp1)\n",
    "\n",
    "print(repr(emp1))\n",
    "print(emp1.__repr__())\n",
    "print(str(emp1))\n",
    "\n",
    "print(emp1+emp2)\n",
    "print(len(emp1))"
   ]
  },
  {
   "cell_type": "code",
   "execution_count": 8,
   "id": "e8fa9642-739b-4998-8506-d75a6dc21ce9",
   "metadata": {},
   "outputs": [
    {
     "name": "stdout",
     "output_type": "stream",
     "text": [
      "[1, 2, 3, 4]\n",
      "'srikanth'\n",
      "[1, 2, 3, 4]\n",
      "srikanth\n"
     ]
    }
   ],
   "source": [
    "#diff blw repr and str\n",
    "a=[1,2,3,4]\n",
    "b=\"srikanth\"\n",
    "\n",
    "print(repr(a))\n",
    "print(repr(b))\n",
    "\n",
    "print(str(a))\n",
    "print(str(b))\n"
   ]
  },
  {
   "cell_type": "code",
   "execution_count": null,
   "id": "20bd7251-c5b2-4c5b-9dee-8bb040798efb",
   "metadata": {},
   "outputs": [],
   "source": []
  }
 ],
 "metadata": {
  "kernelspec": {
   "display_name": "Python 3 (ipykernel)",
   "language": "python",
   "name": "python3"
  },
  "language_info": {
   "codemirror_mode": {
    "name": "ipython",
    "version": 3
   },
   "file_extension": ".py",
   "mimetype": "text/x-python",
   "name": "python",
   "nbconvert_exporter": "python",
   "pygments_lexer": "ipython3",
   "version": "3.11.7"
  }
 },
 "nbformat": 4,
 "nbformat_minor": 5
}
