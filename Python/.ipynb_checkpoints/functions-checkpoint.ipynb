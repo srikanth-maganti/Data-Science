{
 "cells": [
  {
   "cell_type": "code",
   "execution_count": 4,
   "id": "436fa6a9-7958-4ceb-bc1b-20dcd7408bb8",
   "metadata": {},
   "outputs": [
    {
     "name": "stdout",
     "output_type": "stream",
     "text": [
      "5\n",
      "5\n"
     ]
    }
   ],
   "source": [
    "#functions in python\n",
    "\n",
    "def sum(a,b):\n",
    "    return a+b\n",
    "print(sum(2,3))\n"
   ]
  },
  {
   "cell_type": "code",
   "execution_count": 6,
   "id": "c425c3a6-804c-4b6d-82fc-d7fb63d1af2c",
   "metadata": {},
   "outputs": [
    {
     "name": "stdout",
     "output_type": "stream",
     "text": [
      "2\n"
     ]
    }
   ],
   "source": [
    "#default arguments\n",
    "def sum(a,b=1):\n",
    "    print(a+b)\n",
    "sum(1)\n"
   ]
  },
  {
   "cell_type": "code",
   "execution_count": 9,
   "id": "e4d8a6e4-f734-4e79-b31b-b433a4dae362",
   "metadata": {},
   "outputs": [],
   "source": [
    "#def sum(a=1,b):\n",
    "   # print(a+b)\n",
    "#sum(1,2)"
   ]
  },
  {
   "cell_type": "code",
   "execution_count": 10,
   "id": "bb481aaa-2834-4029-8342-69b3d64160f4",
   "metadata": {},
   "outputs": [
    {
     "ename": "NameError",
     "evalue": "name 'print_list' is not defined",
     "output_type": "error",
     "traceback": [
      "\u001b[1;31m---------------------------------------------------------------------------\u001b[0m",
      "\u001b[1;31mNameError\u001b[0m                                 Traceback (most recent call last)",
      "Cell \u001b[1;32mIn[10], line 4\u001b[0m\n\u001b[0;32m      1\u001b[0m \u001b[38;5;66;03m#problems\u001b[39;00m\n\u001b[0;32m      2\u001b[0m \u001b[38;5;66;03m#write a function to print a list\u001b[39;00m\n\u001b[0;32m      3\u001b[0m l\u001b[38;5;241m=\u001b[39m[\u001b[38;5;124m\"\u001b[39m\u001b[38;5;124msrikanath\u001b[39m\u001b[38;5;124m\"\u001b[39m,\u001b[38;5;124m\"\u001b[39m\u001b[38;5;124mmaganti\u001b[39m\u001b[38;5;124m\"\u001b[39m,\u001b[38;5;124m\"\u001b[39m\u001b[38;5;124msravan\u001b[39m\u001b[38;5;124m\"\u001b[39m]\n\u001b[1;32m----> 4\u001b[0m print_list(l)\n\u001b[0;32m      6\u001b[0m \u001b[38;5;28;01mdef\u001b[39;00m \u001b[38;5;21mprint_list\u001b[39m(l):\n\u001b[0;32m      7\u001b[0m     \u001b[38;5;28;01mfor\u001b[39;00m i \u001b[38;5;129;01min\u001b[39;00m l:\n",
      "\u001b[1;31mNameError\u001b[0m: name 'print_list' is not defined"
     ]
    }
   ],
   "source": [
    "#problems\n",
    "#write a function to print a list\n",
    "l=[\"srikanath\",\"maganti\",\"sravan\"]\n",
    "print_list(l)\n",
    "\n",
    "def print_list(l):\n",
    "    for i in l:\n",
    "        print(i,end=\" \")"
   ]
  },
  {
   "cell_type": "code",
   "execution_count": null,
   "id": "146d2648-6f78-4f85-89a4-758eae0578bc",
   "metadata": {},
   "outputs": [],
   "source": []
  }
 ],
 "metadata": {
  "kernelspec": {
   "display_name": "Python 3 (ipykernel)",
   "language": "python",
   "name": "python3"
  },
  "language_info": {
   "codemirror_mode": {
    "name": "ipython",
    "version": 3
   },
   "file_extension": ".py",
   "mimetype": "text/x-python",
   "name": "python",
   "nbconvert_exporter": "python",
   "pygments_lexer": "ipython3",
   "version": "3.11.7"
  }
 },
 "nbformat": 4,
 "nbformat_minor": 5
}
