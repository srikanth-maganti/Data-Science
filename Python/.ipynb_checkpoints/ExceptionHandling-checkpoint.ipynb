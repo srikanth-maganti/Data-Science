{
 "cells": [
  {
   "cell_type": "code",
   "execution_count": 8,
   "id": "3adb8795-8b2f-40be-9af7-446922d3fb28",
   "metadata": {},
   "outputs": [
    {
     "name": "stdout",
     "output_type": "stream",
     "text": [
      "resource open\n",
      "2.0\n"
     ]
    },
    {
     "name": "stdin",
     "output_type": "stream",
     "text": [
      "enter a num p\n"
     ]
    },
    {
     "name": "stdout",
     "output_type": "stream",
     "text": [
      "enter correct input\n",
      "resource closed\n"
     ]
    }
   ],
   "source": [
    "a=2\n",
    "b=1\n",
    "try:\n",
    "\n",
    "    print(\"resource open\")\n",
    "    print(a/b)\n",
    "    i=int(input(\"enter a num\"))\n",
    "    print(i)\n",
    "except ZeroDivisionError as e:\n",
    "    print(\"divide by zero is not possible\")\n",
    "except ValueError as e:\n",
    "    print(\"enter correct input\")\n",
    "except Exception as e:\n",
    "    \n",
    "    print(\"something went wrong\")\n",
    "finally:\n",
    "    print(\"resource closed\")"
   ]
  },
  {
   "cell_type": "code",
   "execution_count": 13,
   "id": "0cdcd67d-c897-4945-88ff-3140dd9b9239",
   "metadata": {},
   "outputs": [
    {
     "name": "stdout",
     "output_type": "stream",
     "text": [
      "every try block should have its coreesponding except or finally block\n"
     ]
    },
    {
     "ename": "NameError",
     "evalue": "name 'Exceptio' is not defined",
     "output_type": "error",
     "traceback": [
      "\u001b[1;31m---------------------------------------------------------------------------\u001b[0m",
      "\u001b[1;31mZeroDivisionError\u001b[0m                         Traceback (most recent call last)",
      "Cell \u001b[1;32mIn[13], line 2\u001b[0m\n\u001b[0;32m      1\u001b[0m \u001b[38;5;28;01mtry\u001b[39;00m:\n\u001b[1;32m----> 2\u001b[0m     \u001b[38;5;28mprint\u001b[39m(\u001b[38;5;241m2\u001b[39m\u001b[38;5;241m/\u001b[39m\u001b[38;5;241m0\u001b[39m)\n\u001b[0;32m      3\u001b[0m     \u001b[38;5;28;01mtry\u001b[39;00m:\n",
      "\u001b[1;31mZeroDivisionError\u001b[0m: division by zero",
      "\nDuring handling of the above exception, another exception occurred:\n",
      "\u001b[1;31mNameError\u001b[0m                                 Traceback (most recent call last)",
      "Cell \u001b[1;32mIn[13], line 7\u001b[0m\n\u001b[0;32m      5\u001b[0m     \u001b[38;5;28;01mexcept\u001b[39;00m \u001b[38;5;167;01mValueError\u001b[39;00m \u001b[38;5;28;01mas\u001b[39;00m e:\n\u001b[0;32m      6\u001b[0m         \u001b[38;5;28mprint\u001b[39m(e)\n\u001b[1;32m----> 7\u001b[0m \u001b[38;5;28;01mexcept\u001b[39;00m Exceptio \u001b[38;5;28;01mas\u001b[39;00m e:\n\u001b[0;32m      8\u001b[0m     \u001b[38;5;28mprint\u001b[39m(\u001b[38;5;124m\"\u001b[39m\u001b[38;5;124msomething went wrong\u001b[39m\u001b[38;5;124m\"\u001b[39m)\n\u001b[0;32m      9\u001b[0m \u001b[38;5;28;01mfinally\u001b[39;00m:\n",
      "\u001b[1;31mNameError\u001b[0m: name 'Exceptio' is not defined"
     ]
    }
   ],
   "source": [
    "try:\n",
    "    print(2/0)\n",
    "    try:\n",
    "        i=int(input(\"enter a num\"))\n",
    "    except ValueError as e:\n",
    "        print(e)\n",
    "except Exception as e:\n",
    "    print(\"something went wrong\")\n",
    "finally:\n",
    "    print(\"every try block should have its coreesponding except or finally block\")\n"
   ]
  },
  {
   "cell_type": "code",
   "execution_count": null,
   "id": "3b6bc066-ca04-4854-b3c7-85ae694f31aa",
   "metadata": {},
   "outputs": [],
   "source": []
  }
 ],
 "metadata": {
  "kernelspec": {
   "display_name": "Python 3 (ipykernel)",
   "language": "python",
   "name": "python3"
  },
  "language_info": {
   "codemirror_mode": {
    "name": "ipython",
    "version": 3
   },
   "file_extension": ".py",
   "mimetype": "text/x-python",
   "name": "python",
   "nbconvert_exporter": "python",
   "pygments_lexer": "ipython3",
   "version": "3.11.7"
  }
 },
 "nbformat": 4,
 "nbformat_minor": 5
}
