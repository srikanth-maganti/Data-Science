{
 "cells": [
  {
   "cell_type": "markdown",
   "id": "15146770-b6cb-4eae-a8cb-a64d5eef9352",
   "metadata": {},
   "source": [
    "# file handling in python\n"
   ]
  },
  {
   "cell_type": "markdown",
   "id": "67913df8-6926-460d-a0b4-5420986c580d",
   "metadata": {},
   "source": [
    "## 1.Opening a file\n"
   ]
  },
  {
   "cell_type": "code",
   "execution_count": 1,
   "id": "da36bd63-fb27-4aa7-9e58-ccd9577bb347",
   "metadata": {},
   "outputs": [
    {
     "name": "stdout",
     "output_type": "stream",
     "text": [
      "test.txt\n",
      "r\n",
      "1) This is a test file\n",
      "2) With multiple lines of data...\n",
      "3) Third line\n",
      "4) Fourth line\n",
      "5) Fifth line\n",
      "6) Sixth line\n",
      "7) Seventh line\n",
      "8) Eighth line\n",
      "9) Ninth line\n",
      "10) Tenth line\n"
     ]
    }
   ],
   "source": [
    "f=open(\"test.txt\",'r')\n",
    "print(f.name)\n",
    "print(f.mode)\n",
    "f_contents=f.read()\n",
    "print(f_contents)\n",
    "f.close()\n"
   ]
  },
  {
   "cell_type": "code",
   "execution_count": 2,
   "id": "6e31cf79-e03e-48ee-a297-30c208704f2a",
   "metadata": {},
   "outputs": [
    {
     "name": "stdout",
     "output_type": "stream",
     "text": [
      "1) This is a test file\n",
      "2) With multiple lines of data...\n",
      "3) Third line\n",
      "4) Fourth line\n",
      "5) Fifth line\n",
      "6) Sixth line\n",
      "7) Seventh line\n",
      "8) Eighth line\n",
      "9) Ninth line\n",
      "10) Tenth line\n"
     ]
    }
   ],
   "source": [
    "with open(\"test.txt\",'r') as f:  #using context manager\n",
    "    f_contents=f.read()\n",
    "    print(f_contents)\n"
   ]
  },
  {
   "cell_type": "markdown",
   "id": "24835bc5-e9ed-4336-abcc-3b66fa598f49",
   "metadata": {},
   "source": [
    "## Reading a file"
   ]
  },
  {
   "cell_type": "code",
   "execution_count": 3,
   "id": "e083608d-5a5b-4cdc-93f9-7e4a0cb168c3",
   "metadata": {},
   "outputs": [
    {
     "name": "stdout",
     "output_type": "stream",
     "text": [
      "1) This is a test file\n",
      "2) With multiple lines of data...\n",
      "3) Third line\n",
      "4) Fourth line\n",
      "5) Fifth line\n",
      "6) Sixth line\n",
      "7) Seventh line\n",
      "8) Eighth line\n",
      "9) Ninth line\n",
      "10) Tenth line\n"
     ]
    }
   ],
   "source": [
    "with open(\"test.txt\",'r') as f:\n",
    "    f_contents=f.read()\n",
    "    print(f_contents)"
   ]
  },
  {
   "cell_type": "code",
   "execution_count": 4,
   "id": "c28c7d28-fbb1-4e72-88d1-c9cc330af8e2",
   "metadata": {},
   "outputs": [
    {
     "name": "stdout",
     "output_type": "stream",
     "text": [
      "['1) This is a test file\\n', '2) With multiple lines of data...\\n', '3) Third line\\n', '4) Fourth line\\n', '5) Fifth line\\n', '6) Sixth line\\n', '7) Seventh line\\n', '8) Eighth line\\n', '9) Ninth line\\n', '10) Tenth line']\n"
     ]
    }
   ],
   "source": [
    "with open(\"test.txt\",\"r\") as f:\n",
    "    f_contents=f.readlines()\n",
    "    print(f_contents)"
   ]
  },
  {
   "cell_type": "code",
   "execution_count": 5,
   "id": "81bb0dc0-0291-4899-9ec8-a3dc7ed1d610",
   "metadata": {},
   "outputs": [
    {
     "name": "stdout",
     "output_type": "stream",
     "text": [
      "1) This is a test file\n",
      "\n",
      "2) With multiple lines of data...\n",
      "\n"
     ]
    }
   ],
   "source": [
    "with open(\"test.txt\",\"r\") as f:\n",
    "    f_contents=f.readline()\n",
    "    print(f_contents)\n",
    "    f_contents=f.readline()\n",
    "    print(f_contents)"
   ]
  },
  {
   "cell_type": "code",
   "execution_count": 6,
   "id": "23cf4462-c29d-4617-97e7-0ed4f7c52023",
   "metadata": {},
   "outputs": [
    {
     "name": "stdout",
     "output_type": "stream",
     "text": [
      "1) This is a test file\n",
      "\n",
      "2) With multiple lines of data...\n",
      "\n",
      "3) Third line\n",
      "\n",
      "4) Fourth line\n",
      "\n",
      "5) Fifth line\n",
      "\n",
      "6) Sixth line\n",
      "\n",
      "7) Seventh line\n",
      "\n",
      "8) Eighth line\n",
      "\n",
      "9) Ninth line\n",
      "\n",
      "10) Tenth line\n"
     ]
    }
   ],
   "source": [
    "#iterating the lines\n",
    "\n",
    "with open(\"test.txt\",\"r\") as f:\n",
    "    for i in f:\n",
    "        print(i)"
   ]
  },
  {
   "cell_type": "code",
   "execution_count": 7,
   "id": "6e9aa793-d8c0-400b-b1b4-9c0b4f857171",
   "metadata": {},
   "outputs": [
    {
     "name": "stdout",
     "output_type": "stream",
     "text": [
      "1) This is a test file\n",
      "\n",
      "2) With multiple lines of data...\n",
      "\n",
      "3) Third line\n",
      "\n",
      "4) Fourth line\n",
      "\n",
      "5) Fifth line\n",
      "\n",
      "6) Sixth line\n",
      "\n",
      "7) Seventh line\n",
      "\n",
      "8) Eighth line\n",
      "\n",
      "9) Ninth line\n",
      "\n",
      "10) Tenth line\n"
     ]
    }
   ],
   "source": [
    "#iterating thrugh readline\n",
    "with open(\"test.txt\" ,\"r\") as f:\n",
    "    f_content=f.readline()\n",
    "    while len(f_content)>0:\n",
    "        print(f_content)\n",
    "        f_content=f.readline()\n",
    "        "
   ]
  },
  {
   "cell_type": "code",
   "execution_count": 8,
   "id": "d11b2d29-8b5c-4233-8d65-c984c2d374bc",
   "metadata": {},
   "outputs": [
    {
     "name": "stdout",
     "output_type": "stream",
     "text": [
      "1) This is a test file\n",
      "2) With multiple lines of data...\n",
      "3) Third line\n",
      "4) Fourth line\n",
      "5) Fifth line\n",
      "\n",
      "6) Sixth line\n",
      "7) Seventh line\n",
      "8) Eighth line\n",
      "9) Ninth line\n",
      "10) Tenth line\n"
     ]
    }
   ],
   "source": [
    "#iterating through small chunks\n",
    "with open(\"test.txt\",\"r\") as f:\n",
    "    size=100\n",
    "    f_content=f.read(size)\n",
    "    while len(f_content)>0:\n",
    "        print(f_content)\n",
    "        f_content=f.read(size)"
   ]
  },
  {
   "cell_type": "code",
   "execution_count": 11,
   "id": "24a755f6-f251-4863-846a-a7469a84fd3f",
   "metadata": {},
   "outputs": [
    {
     "name": "stdout",
     "output_type": "stream",
     "text": [
      "1) This is\n",
      "1) This is\n"
     ]
    }
   ],
   "source": [
    "with open(\"test.txt\",\"r\") as f:\n",
    "    f_contents=f.read(10)\n",
    "    print(f_contents)\n",
    "    f.seek(0)\n",
    "    f_contents=f.read(10)\n",
    "    print(f_contents)"
   ]
  },
  {
   "cell_type": "markdown",
   "id": "f7725a41-6680-4c28-b0f9-7dc647940755",
   "metadata": {},
   "source": [
    "## 3.Writing into file"
   ]
  },
  {
   "cell_type": "code",
   "execution_count": 15,
   "id": "f0bec6b9-2005-4b2c-a095-64f21749f1b3",
   "metadata": {},
   "outputs": [],
   "source": [
    "with open(\"targ.txt\" ,\"w\") as f:\n",
    "    f.write(\"maganti srikanth\")\n",
    "    f.seek(0)\n",
    "    f.write(\"M\");\n",
    "    "
   ]
  },
  {
   "cell_type": "code",
   "execution_count": 16,
   "id": "143b7b0a-fc2b-4094-8603-a539b958b0b8",
   "metadata": {},
   "outputs": [],
   "source": [
    "#copying data from one file to another\n",
    "with open(\"test.txt\",\"r\")as rf:\n",
    "    with open(\"targ.txt\",\"w\")as wf:\n",
    "        for line in rf:\n",
    "            wf.write(line)\n",
    "        "
   ]
  },
  {
   "cell_type": "code",
   "execution_count": 17,
   "id": "0287a0b1-6fc9-462b-a2d5-ab4f5bd395b3",
   "metadata": {},
   "outputs": [],
   "source": [
    "#copying img from one file to another\n",
    "with open(\"amazon_logo.png\",\"rb\")as rf:\n",
    "    with open(\"copy.png\",\"wb\")as wf:\n",
    "        for line in rf:\n",
    "            wf.write(line)\n",
    "            "
   ]
  },
  {
   "cell_type": "code",
   "execution_count": null,
   "id": "39208a28-8296-474b-bf5a-2c930fbc0b13",
   "metadata": {},
   "outputs": [],
   "source": []
  }
 ],
 "metadata": {
  "kernelspec": {
   "display_name": "Python 3 (ipykernel)",
   "language": "python",
   "name": "python3"
  },
  "language_info": {
   "codemirror_mode": {
    "name": "ipython",
    "version": 3
   },
   "file_extension": ".py",
   "mimetype": "text/x-python",
   "name": "python",
   "nbconvert_exporter": "python",
   "pygments_lexer": "ipython3",
   "version": "3.11.7"
  }
 },
 "nbformat": 4,
 "nbformat_minor": 5
}
