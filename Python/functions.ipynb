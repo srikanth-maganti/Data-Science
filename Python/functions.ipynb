{
 "cells": [
  {
   "cell_type": "markdown",
   "id": "7418190b-6670-4392-972b-056e74c4ae84",
   "metadata": {},
   "source": [
    "\n",
    "## funtions"
   ]
  },
  {
   "cell_type": "code",
   "execution_count": null,
   "id": "96f01236-1390-44bf-897f-0119a21fbbac",
   "metadata": {},
   "outputs": [],
   "source": [
    "#functions in python\n",
    "\n",
    "def sum(a,b):\n",
    "    return a+b\n",
    "print(sum(2,3))"
   ]
  },
  {
   "cell_type": "code",
   "execution_count": 12,
   "id": "c425c3a6-804c-4b6d-82fc-d7fb63d1af2c",
   "metadata": {},
   "outputs": [
    {
     "name": "stdout",
     "output_type": "stream",
     "text": [
      "2\n"
     ]
    }
   ],
   "source": [
    "#default arguments\n",
    "def sum(a,b=1):\n",
    "    print(a+b)\n",
    "sum(1)\n"
   ]
  },
  {
   "cell_type": "code",
   "execution_count": 13,
   "id": "e4d8a6e4-f734-4e79-b31b-b433a4dae362",
   "metadata": {},
   "outputs": [],
   "source": [
    "#def sum(a=1,b):\n",
    "   # print(a+b)\n",
    "#sum(1,2)"
   ]
  },
  {
   "cell_type": "code",
   "execution_count": 14,
   "id": "bb481aaa-2834-4029-8342-69b3d64160f4",
   "metadata": {},
   "outputs": [
    {
     "name": "stdout",
     "output_type": "stream",
     "text": [
      "srikanath maganti sravan "
     ]
    }
   ],
   "source": [
    "#problems\n",
    "#write a function to print a list\n",
    "l=[\"srikanath\",\"maganti\",\"sravan\"]\n",
    "\n",
    "\n",
    "def print_list(l):\n",
    "    for i in l:\n",
    "        print(i,end=\" \")\n",
    "print_list(l)"
   ]
  },
  {
   "cell_type": "code",
   "execution_count": 16,
   "id": "146d2648-6f78-4f85-89a4-758eae0578bc",
   "metadata": {},
   "outputs": [
    {
     "data": {
      "text/plain": [
       "24"
      ]
     },
     "execution_count": 16,
     "metadata": {},
     "output_type": "execute_result"
    }
   ],
   "source": [
    "#factorial of a number\n",
    "def fact(n):\n",
    "    i=n\n",
    "    s=1\n",
    "    while i>0:\n",
    "        s=s*i\n",
    "        i=i-1\n",
    "    return s\n",
    "fact(4)\n",
    "        "
   ]
  },
  {
   "cell_type": "code",
   "execution_count": 17,
   "id": "49279da3-666d-42e9-9c2d-50b4a2c76769",
   "metadata": {},
   "outputs": [
    {
     "data": {
      "text/plain": [
       "166"
      ]
     },
     "execution_count": 17,
     "metadata": {},
     "output_type": "execute_result"
    }
   ],
   "source": [
    "#function to convert usd to inr\n",
    "def inr(usd):\n",
    "    return usd*83\n",
    "inr(2)"
   ]
  },
  {
   "cell_type": "code",
   "execution_count": 18,
   "id": "b0fa4bd3-1a97-473b-8336-07d57238a06e",
   "metadata": {},
   "outputs": [
    {
     "data": {
      "text/plain": [
       "'even'"
      ]
     },
     "execution_count": 18,
     "metadata": {},
     "output_type": "execute_result"
    }
   ],
   "source": [
    "#function to find a given number is even or not\n",
    "def even_odd(n):\n",
    "    if(n%2==0):\n",
    "        return \"even\"\n",
    "    else:\n",
    "        return \"odd\"\n",
    "even_odd(2)"
   ]
  },
  {
   "cell_type": "markdown",
   "id": "2aa37715-4f79-471e-b0e4-2973b8361c4b",
   "metadata": {},
   "source": [
    "## recursion\n"
   ]
  },
  {
   "cell_type": "code",
   "execution_count": 20,
   "id": "f3f509b2-ab36-44db-acd2-c1901c6c8ddd",
   "metadata": {},
   "outputs": [
    {
     "name": "stdout",
     "output_type": "stream",
     "text": [
      "5\n",
      "4\n",
      "3\n",
      "2\n",
      "1\n"
     ]
    }
   ],
   "source": [
    " #print numbers in reverse order\n",
    "def show(n):\n",
    "    if(n==0):\n",
    "        return\n",
    "    print(n)\n",
    "    show(n-1)\n",
    "show(5)"
   ]
  },
  {
   "cell_type": "code",
   "execution_count": 22,
   "id": "2034cb79-7539-4b92-b7a4-7bb9d5a20469",
   "metadata": {},
   "outputs": [
    {
     "name": "stdout",
     "output_type": "stream",
     "text": [
      "120\n"
     ]
    }
   ],
   "source": [
    "#factorial using recurssion\n",
    "\n",
    "def fact(n):\n",
    "    if(n==1 or n==0):\n",
    "  \n",
    "        return 1\n",
    "    else:\n",
    "        return n*fact(n-1)\n",
    "print(fact(5))"
   ]
  },
  {
   "cell_type": "code",
   "execution_count": 23,
   "id": "3e779f42-5149-4c83-9dbf-636b2abfe4ce",
   "metadata": {},
   "outputs": [
    {
     "data": {
      "text/plain": [
       "15"
      ]
     },
     "execution_count": 23,
     "metadata": {},
     "output_type": "execute_result"
    }
   ],
   "source": [
    "#sum of first n natural numbers\n",
    "def add(n):\n",
    "    if n==0:\n",
    "        return 0\n",
    "    else:\n",
    "        return n+add(n-1)\n",
    "add(5)"
   ]
  },
  {
   "cell_type": "code",
   "execution_count": 24,
   "id": "05c11e1b-d680-47c6-b8ef-f66fe13a8b04",
   "metadata": {},
   "outputs": [
    {
     "name": "stdout",
     "output_type": "stream",
     "text": [
      "1\n",
      "2\n",
      "3\n",
      "4\n",
      "5\n"
     ]
    }
   ],
   "source": [
    "#write a recurssive function to print elements in a list \n",
    "l=[1,2,3,4,5]\n",
    "\n",
    "def show(n):\n",
    "    if(len(l)==n):\n",
    "        return\n",
    "    print(l[n])\n",
    "    show(n+1)\n",
    "show(0)"
   ]
  },
  {
   "cell_type": "code",
   "execution_count": null,
   "id": "2acbab62-a7c9-42f7-b7ba-2a35a25d56a6",
   "metadata": {},
   "outputs": [],
   "source": []
  }
 ],
 "metadata": {
  "kernelspec": {
   "display_name": "Python 3 (ipykernel)",
   "language": "python",
   "name": "python3"
  },
  "language_info": {
   "codemirror_mode": {
    "name": "ipython",
    "version": 3
   },
   "file_extension": ".py",
   "mimetype": "text/x-python",
   "name": "python",
   "nbconvert_exporter": "python",
   "pygments_lexer": "ipython3",
   "version": "3.11.7"
  }
 },
 "nbformat": 4,
 "nbformat_minor": 5
}
