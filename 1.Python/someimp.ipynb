{
 "cells": [
  {
   "cell_type": "markdown",
   "id": "04c1f68a-9df6-4d2c-989c-562129d64709",
   "metadata": {},
   "source": [
    "## Variable length arguments"
   ]
  },
  {
   "cell_type": "code",
   "execution_count": 2,
   "id": "ea3dc672-8f27-4b56-8a1a-9f5f3ddfb176",
   "metadata": {},
   "outputs": [
    {
     "name": "stdout",
     "output_type": "stream",
     "text": [
      "srikanth\n",
      "age: 21\n",
      "99\n",
      "95\n",
      "93\n"
     ]
    }
   ],
   "source": [
    "#args\n",
    "def fun(name,age,*marks):\n",
    "    print(name)\n",
    "    print(\"age:\",age)\n",
    "    for m in marks:\n",
    "        print(m)\n",
    "fun(\"srikanth\",21,99,95,93)"
   ]
  },
  {
   "cell_type": "code",
   "execution_count": 4,
   "id": "a63ca527-1d61-4c1e-8449-cc7c322d600f",
   "metadata": {},
   "outputs": [
    {
     "data": {
      "text/plain": [
       "18"
      ]
     },
     "execution_count": 4,
     "metadata": {},
     "output_type": "execute_result"
    }
   ],
   "source": [
    "#args\n",
    "def sum(*argv):\n",
    "    r=0\n",
    "    for arg in argv:\n",
    "        r=r+arg\n",
    "    return r\n",
    "sum(1,2,3,4,5,3)"
   ]
  },
  {
   "cell_type": "code",
   "execution_count": 5,
   "id": "cdb6fdb2-0a96-414f-b4fe-20320996a4d9",
   "metadata": {},
   "outputs": [
    {
     "name": "stdout",
     "output_type": "stream",
     "text": [
      "srikanth\n",
      "age: 20\n",
      "maths   99\n",
      "physics   98\n"
     ]
    }
   ],
   "source": [
    "#kwargs\n",
    "def fun(name,age,**marks):\n",
    "    print(name)\n",
    "    print(\"age:\",age)\n",
    "    for key,value in marks.items():\n",
    "        print(key,\" \",value)\n",
    "fun(\"srikanth\",20,maths=99,physics=98)"
   ]
  },
  {
   "cell_type": "markdown",
   "id": "607530bc-278d-4e7a-8247-a8a595092a0d",
   "metadata": {},
   "source": [
    "\n",
    "\n",
    "## terinary operator"
   ]
  },
  {
   "cell_type": "code",
   "execution_count": 6,
   "id": "75bdefa2-a591-482e-96d6-6d328b86768a",
   "metadata": {},
   "outputs": [
    {
     "name": "stdout",
     "output_type": "stream",
     "text": [
      "5\n"
     ]
    }
   ],
   "source": [
    "a=2\n",
    "b=3\n",
    "print(a-b if(a>b)else a+b)"
   ]
  },
  {
   "cell_type": "markdown",
   "id": "66aa4aca-5686-426f-91da-2203b05051b5",
   "metadata": {},
   "source": [
    "## lamda functions\n"
   ]
  },
  {
   "cell_type": "code",
   "execution_count": 1,
   "id": "ac07d4c1-6c60-4797-ae53-45cc74778a76",
   "metadata": {},
   "outputs": [
    {
     "data": {
      "text/plain": [
       "25"
      ]
     },
     "execution_count": 1,
     "metadata": {},
     "output_type": "execute_result"
    }
   ],
   "source": [
    "f=lambda a:a*a\n",
    "f(5)"
   ]
  },
  {
   "cell_type": "code",
   "execution_count": 4,
   "id": "97b5ac57-51e6-41ca-a7ec-02f6c6c27f8c",
   "metadata": {},
   "outputs": [
    {
     "data": {
      "text/plain": [
       "[2, 4, 6, 8]"
      ]
     },
     "execution_count": 4,
     "metadata": {},
     "output_type": "execute_result"
    }
   ],
   "source": [
    "#applications of lambda\n",
    "#filter\n",
    "nums=[1,2,3,4,5,6,7,8,9]\n",
    "evens=list(filter(lambda x:x%2==0,nums))\n",
    "evens"
   ]
  },
  {
   "cell_type": "code",
   "execution_count": 6,
   "id": "30aaf0b5-d5e9-4af0-b61c-abf7d357a0fc",
   "metadata": {},
   "outputs": [
    {
     "data": {
      "text/plain": [
       "[2, 4, 6, 8, 10, 12, 14, 16, 18]"
      ]
     },
     "execution_count": 6,
     "metadata": {},
     "output_type": "execute_result"
    }
   ],
   "source": [
    "#map\n",
    "doubles=list(map(lambda x:x*2,nums))\n",
    "doubles\n"
   ]
  },
  {
   "cell_type": "code",
   "execution_count": 7,
   "id": "607cccfb-242c-4c10-a161-1594d387194d",
   "metadata": {},
   "outputs": [],
   "source": [
    "#reduce \n",
    "from functools import reduce\n",
    "sum=reduce(lambda x,y:x+y,nums)"
   ]
  },
  {
   "cell_type": "code",
   "execution_count": 8,
   "id": "d538642a-4d93-46b6-a5d9-bed0c59144f0",
   "metadata": {},
   "outputs": [
    {
     "data": {
      "text/plain": [
       "45"
      ]
     },
     "execution_count": 8,
     "metadata": {},
     "output_type": "execute_result"
    }
   ],
   "source": [
    "sum"
   ]
  },
  {
   "cell_type": "markdown",
   "id": "8a26328c-98ef-45b3-818d-7ffcb94298ff",
   "metadata": {},
   "source": [
    "\n",
    "\n",
    "## templating"
   ]
  },
  {
   "cell_type": "code",
   "execution_count": 18,
   "id": "8934cf85-6233-4481-8b21-6f82e980b966",
   "metadata": {},
   "outputs": [
    {
     "data": {
      "text/plain": [
       "'hi srikanth'"
      ]
     },
     "execution_count": 18,
     "metadata": {},
     "output_type": "execute_result"
    }
   ],
   "source": [
    "from string import Template\n",
    "name=\"srikanth\"\n",
    "t=Template(\"hi $name\")\n",
    "t.substitute(name=name)"
   ]
  },
  {
   "cell_type": "markdown",
   "id": "d1acd7da-487f-48d2-a35f-7966f6d0e8cd",
   "metadata": {},
   "source": [
    "## scope"
   ]
  },
  {
   "cell_type": "code",
   "execution_count": 1,
   "id": "08f376d7-1589-49f1-8da2-f9c6c5f52b17",
   "metadata": {},
   "outputs": [
    {
     "name": "stdout",
     "output_type": "stream",
     "text": [
      "100\n",
      "100\n"
     ]
    }
   ],
   "source": [
    "x=100 #global scope\n",
    "def fun():\n",
    "    print(x)\n",
    "fun()\n",
    "print(x)"
   ]
  },
  {
   "cell_type": "code",
   "execution_count": 3,
   "id": "5914adea-a05d-446f-ba99-24b0d8bc4d01",
   "metadata": {},
   "outputs": [
    {
     "name": "stdout",
     "output_type": "stream",
     "text": [
      "200\n"
     ]
    }
   ],
   "source": [
    "def fun():\n",
    "    y=200 #local scope\n",
    "    print(y)\n",
    "fun()\n",
    "# print(y)"
   ]
  },
  {
   "cell_type": "code",
   "execution_count": 4,
   "id": "91704495-c599-4626-92ed-c434db1da188",
   "metadata": {},
   "outputs": [
    {
     "name": "stdout",
     "output_type": "stream",
     "text": [
      "200\n"
     ]
    }
   ],
   "source": [
    "def fun():\n",
    "    z=200\n",
    "    def f():\n",
    "        print(z)\n",
    "    f()\n",
    "fun()\n"
   ]
  },
  {
   "cell_type": "code",
   "execution_count": 5,
   "id": "72e24674-4ca8-4883-a42c-aab494a953b3",
   "metadata": {},
   "outputs": [
    {
     "name": "stdout",
     "output_type": "stream",
     "text": [
      "5\n",
      "6\n",
      "5\n"
     ]
    }
   ],
   "source": [
    "x=5\n",
    "def fun():\n",
    "    x=6  #local varible\n",
    "    print(x)\n",
    "print(x)\n",
    "fun()\n",
    "print(x)"
   ]
  },
  {
   "cell_type": "code",
   "execution_count": 7,
   "id": "a99fef48-e9b9-477b-9591-bbc3e1de6512",
   "metadata": {},
   "outputs": [
    {
     "name": "stdout",
     "output_type": "stream",
     "text": [
      "5\n",
      "6\n",
      "6\n"
     ]
    }
   ],
   "source": [
    "x=5\n",
    "def fun():\n",
    "    global x\n",
    "    x=6 #global\n",
    "    print(x)\n",
    "print(x)\n",
    "fun()\n",
    "print(x)"
   ]
  },
  {
   "cell_type": "code",
   "execution_count": 9,
   "id": "b79cd1d5-e88f-4b31-8a60-0f84beee994a",
   "metadata": {},
   "outputs": [
    {
     "name": "stdout",
     "output_type": "stream",
     "text": [
      "9\n",
      "5\n",
      "outside fun 15\n"
     ]
    }
   ],
   "source": [
    "#using global variable in function and local variable with same name in function\n",
    "\n",
    "x=5\n",
    "def fun():\n",
    "    x=9\n",
    "    a=globals()['x']\n",
    "    print(x)\n",
    "    print(a)\n",
    "    globals()['x']= 15 #changing global varible in function even though their is a local varible with same name as global varibale present in the function\n",
    "fun()\n",
    "print(\"outside fun\",x)\n"
   ]
  },
  {
   "cell_type": "code",
   "execution_count": null,
   "id": "a82c9d3b-3cdc-4efd-938e-ac9db2ac2ad4",
   "metadata": {},
   "outputs": [],
   "source": []
  }
 ],
 "metadata": {
  "kernelspec": {
   "display_name": "Python 3 (ipykernel)",
   "language": "python",
   "name": "python3"
  },
  "language_info": {
   "codemirror_mode": {
    "name": "ipython",
    "version": 3
   },
   "file_extension": ".py",
   "mimetype": "text/x-python",
   "name": "python",
   "nbconvert_exporter": "python",
   "pygments_lexer": "ipython3",
   "version": "3.11.7"
  }
 },
 "nbformat": 4,
 "nbformat_minor": 5
}
