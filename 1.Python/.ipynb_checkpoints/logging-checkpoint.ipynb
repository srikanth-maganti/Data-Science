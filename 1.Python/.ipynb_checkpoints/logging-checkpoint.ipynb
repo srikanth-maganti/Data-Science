{
 "cells": [
  {
   "cell_type": "markdown",
   "id": "4f5d9605-c1f1-46c3-ba13-1bd191c3dde8",
   "metadata": {},
   "source": [
    "## logging in python\n"
   ]
  },
  {
   "cell_type": "code",
   "execution_count": 1,
   "id": "e4b1b8f6-2e51-4531-86a7-eb6944b73326",
   "metadata": {},
   "outputs": [],
   "source": [
    "import logging"
   ]
  },
  {
   "cell_type": "code",
   "execution_count": 2,
   "id": "d72d863b-f083-44ff-b080-69b19736ad70",
   "metadata": {},
   "outputs": [],
   "source": [
    "# logging.warning(\"hello\") #by default warning and higher levels only will work\n",
    "# logging.debug(\"hi\")"
   ]
  },
  {
   "cell_type": "code",
   "execution_count": 3,
   "id": "b6dc698d-eff0-4985-958d-b996f96f84c9",
   "metadata": {},
   "outputs": [],
   "source": [
    "logging.basicConfig(filename=\"test.log\",format='%(asctime)s %(message)s',filemode='w')"
   ]
  },
  {
   "cell_type": "code",
   "execution_count": 4,
   "id": "cffbd329-bf64-4cae-bb1c-bf9c33b5af81",
   "metadata": {},
   "outputs": [],
   "source": [
    "logg=logging.getLogger()"
   ]
  },
  {
   "cell_type": "code",
   "execution_count": 5,
   "id": "9ef6e736-f535-4dd5-8fee-5c92fdebd3f9",
   "metadata": {},
   "outputs": [],
   "source": [
    "logg.setLevel(logging.DEBUG)"
   ]
  },
  {
   "cell_type": "code",
   "execution_count": 6,
   "id": "07c5672d-7846-4836-bb43-547c28c04a92",
   "metadata": {},
   "outputs": [],
   "source": [
    "logg.debug(\"hello\")"
   ]
  },
  {
   "cell_type": "code",
   "execution_count": null,
   "id": "db7f209c-0609-4046-8404-59926cdff56d",
   "metadata": {},
   "outputs": [],
   "source": []
  },
  {
   "cell_type": "code",
   "execution_count": 7,
   "id": "23ebe9ad-f4f9-4ddc-b789-0623979534a4",
   "metadata": {},
   "outputs": [],
   "source": [
    "# DEBUG: Detailed information, typically of interest only when diagnosing problems.\n",
    "\n",
    "# INFO: Confirmation that things are working as expected.\n",
    "\n",
    "# WARNING: An indication that something unexpected happened, or indicative of some problem in the near future (e.g. ‘disk space low’). The software is still working as expected.\n",
    "\n",
    "# ERROR: Due to a more serious problem, the software has not been able to perform some function.\n",
    "\n",
    "# CRITICAL: A serious error, indicating that the program itself may be unable to continue running."
   ]
  },
  {
   "cell_type": "code",
   "execution_count": null,
   "id": "8562d24a-4614-47ac-8605-d13d67b24075",
   "metadata": {},
   "outputs": [],
   "source": []
  },
  {
   "cell_type": "code",
   "execution_count": null,
   "id": "5b4f6333-afb2-4ddc-a503-d13de86eab1e",
   "metadata": {},
   "outputs": [],
   "source": []
  }
 ],
 "metadata": {
  "kernelspec": {
   "display_name": "Python 3 (ipykernel)",
   "language": "python",
   "name": "python3"
  },
  "language_info": {
   "codemirror_mode": {
    "name": "ipython",
    "version": 3
   },
   "file_extension": ".py",
   "mimetype": "text/x-python",
   "name": "python",
   "nbconvert_exporter": "python",
   "pygments_lexer": "ipython3",
   "version": "3.11.7"
  }
 },
 "nbformat": 4,
 "nbformat_minor": 5
}
