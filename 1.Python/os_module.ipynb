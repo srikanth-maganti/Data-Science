{
 "cells": [
  {
   "cell_type": "markdown",
   "id": "34ef84fe-2b5b-450c-8f23-6009c9142b0b",
   "metadata": {},
   "source": [
    "# os module"
   ]
  },
  {
   "cell_type": "code",
   "execution_count": 1,
   "id": "a6855249-15c7-4639-a936-7ea26047d06e",
   "metadata": {},
   "outputs": [],
   "source": [
    "import os"
   ]
  },
  {
   "cell_type": "code",
   "execution_count": 2,
   "id": "b7930d27-4ead-4951-a9a6-b3996d1fd3f3",
   "metadata": {},
   "outputs": [
    {
     "data": {
      "text/plain": [
       "'D:\\\\Data Science\\\\Python'"
      ]
     },
     "execution_count": 2,
     "metadata": {},
     "output_type": "execute_result"
    }
   ],
   "source": [
    "os.getcwd()"
   ]
  },
  {
   "cell_type": "code",
   "execution_count": 3,
   "id": "727d4de3-7d39-452d-8b6e-88d427ae2974",
   "metadata": {},
   "outputs": [
    {
     "data": {
      "text/plain": [
       "['.ipynb_checkpoints',\n",
       " 'file_handling',\n",
       " 'functions.ipynb',\n",
       " 'oops.ipynb',\n",
       " 'os_module.ipynb']"
      ]
     },
     "execution_count": 3,
     "metadata": {},
     "output_type": "execute_result"
    }
   ],
   "source": [
    "os.listdir()"
   ]
  },
  {
   "cell_type": "code",
   "execution_count": 6,
   "id": "7efc1e49-78fa-425c-85b2-35b3e2b1e1b9",
   "metadata": {},
   "outputs": [],
   "source": [
    "os.chdir(\"C:\\\\Users\\MAGANTI S\\Desktop\")"
   ]
  },
  {
   "cell_type": "code",
   "execution_count": 7,
   "id": "0d8fb9df-955c-4d5c-8ad6-290bec034efe",
   "metadata": {},
   "outputs": [
    {
     "data": {
      "text/plain": [
       "'C:\\\\Users\\\\MAGANTI S\\\\Desktop'"
      ]
     },
     "execution_count": 7,
     "metadata": {},
     "output_type": "execute_result"
    }
   ],
   "source": [
    "os.getcwd()"
   ]
  },
  {
   "cell_type": "code",
   "execution_count": 8,
   "id": "076292b7-cabe-45f9-ac93-7a4fdc700df4",
   "metadata": {},
   "outputs": [
    {
     "data": {
      "text/plain": [
       "['content',\n",
       " 'course content.pdf',\n",
       " 'desktop.ini',\n",
       " 'E2 SEM1',\n",
       " 'E2 SEM2',\n",
       " 'Gmail.lnk',\n",
       " 'Movies',\n",
       " 'prac.c',\n",
       " 'prac.class',\n",
       " 'prac.html',\n",
       " 'prac.java',\n",
       " 'prac.js',\n",
       " 'prac.py']"
      ]
     },
     "execution_count": 8,
     "metadata": {},
     "output_type": "execute_result"
    }
   ],
   "source": [
    "os.listdir()"
   ]
  },
  {
   "cell_type": "markdown",
   "id": "3a411a6c-3edf-4c93-957d-c1439ab78c1c",
   "metadata": {},
   "source": [
    "## making directories"
   ]
  },
  {
   "cell_type": "code",
   "execution_count": 9,
   "id": "93fad7ae-7973-4a82-a702-935e4ee7ed87",
   "metadata": {},
   "outputs": [],
   "source": [
    "os.mkdir(\"hello\")"
   ]
  },
  {
   "cell_type": "code",
   "execution_count": 19,
   "id": "07efac11-36ef-4a08-aa29-90803b615a46",
   "metadata": {},
   "outputs": [],
   "source": [
    "os.makedirs(\"hi/joe\") #create hi as parent directory and joe as sub directory"
   ]
  },
  {
   "cell_type": "markdown",
   "id": "cb584389-b8b7-4ebf-ac45-ffe51cb820af",
   "metadata": {},
   "source": [
    "## removing directories"
   ]
  },
  {
   "cell_type": "code",
   "execution_count": 12,
   "id": "9f85e084-64af-40c5-a6fa-82f0943d1d1e",
   "metadata": {},
   "outputs": [],
   "source": [
    "os.rmdir(\"hello\")"
   ]
  },
  {
   "cell_type": "code",
   "execution_count": 20,
   "id": "5461e472-4c1c-4038-a3e6-4f8fa9d4b22e",
   "metadata": {},
   "outputs": [],
   "source": [
    "os.rmdir(\"hi/joe\") #deletes joe directory but not hi"
   ]
  },
  {
   "cell_type": "code",
   "execution_count": 21,
   "id": "1781631f-4547-4843-adc9-136f60218878",
   "metadata": {},
   "outputs": [],
   "source": [
    "os.mkdir(\"hi/joe\")"
   ]
  },
  {
   "cell_type": "code",
   "execution_count": 22,
   "id": "11e2c242-7b8e-4226-a028-d954cff1a3de",
   "metadata": {},
   "outputs": [],
   "source": [
    "os.removedirs(\"hi/joe\") #deletes directories recursively"
   ]
  },
  {
   "cell_type": "code",
   "execution_count": null,
   "id": "94dbd8f1-8540-4e6f-bbca-4d7ed3fd4995",
   "metadata": {},
   "outputs": [],
   "source": [
    "#remove directory works if and only if  directory is empty"
   ]
  },
  {
   "cell_type": "markdown",
   "id": "79b846e9-9098-41a8-87ab-21fd089e4365",
   "metadata": {},
   "source": [
    "## renaming files\n"
   ]
  },
  {
   "cell_type": "code",
   "execution_count": 23,
   "id": "7a0f9e49-a5cd-4e9a-a85a-ee32a9a603fa",
   "metadata": {},
   "outputs": [
    {
     "data": {
      "text/plain": [
       "['content',\n",
       " 'course content.pdf',\n",
       " 'desktop.ini',\n",
       " 'E2 SEM1',\n",
       " 'E2 SEM2',\n",
       " 'Gmail.lnk',\n",
       " 'Movies',\n",
       " 'prac.c',\n",
       " 'prac.class',\n",
       " 'prac.html',\n",
       " 'prac.java',\n",
       " 'prac.js',\n",
       " 'prac.py']"
      ]
     },
     "execution_count": 23,
     "metadata": {},
     "output_type": "execute_result"
    }
   ],
   "source": [
    "os.listdir()"
   ]
  },
  {
   "cell_type": "code",
   "execution_count": 24,
   "id": "24cae58b-10cf-4299-8555-9478ef72398e",
   "metadata": {},
   "outputs": [],
   "source": [
    "os.rename(\"prac.py\",\"pracs.py\")"
   ]
  },
  {
   "cell_type": "code",
   "execution_count": 25,
   "id": "674ad21a-0a6a-43d2-bdee-9c083539e417",
   "metadata": {},
   "outputs": [],
   "source": [
    "os.rename(\"pracs.py\",\"prac.py\")"
   ]
  },
  {
   "cell_type": "markdown",
   "id": "439a265d-d5df-485a-b1cb-879f04feb31f",
   "metadata": {},
   "source": [
    "## information of a file"
   ]
  },
  {
   "cell_type": "code",
   "execution_count": 26,
   "id": "0ba35485-b296-4b32-a98d-7410d27018df",
   "metadata": {},
   "outputs": [
    {
     "data": {
      "text/plain": [
       "os.stat_result(st_mode=33206, st_ino=5348024557530181, st_dev=4138637754, st_nlink=1, st_uid=0, st_gid=0, st_size=1866, st_atime=1708274491, st_mtime=1708080106, st_ctime=1699234076)"
      ]
     },
     "execution_count": 26,
     "metadata": {},
     "output_type": "execute_result"
    }
   ],
   "source": [
    "os.stat(\"prac.py\")"
   ]
  },
  {
   "cell_type": "code",
   "execution_count": 27,
   "id": "6f7ff55c-1b0c-4168-afa5-d7720c35da9b",
   "metadata": {},
   "outputs": [
    {
     "data": {
      "text/plain": [
       "115"
      ]
     },
     "execution_count": 27,
     "metadata": {},
     "output_type": "execute_result"
    }
   ],
   "source": [
    "os.stat(\"prac.java\").st_size"
   ]
  },
  {
   "cell_type": "code",
   "execution_count": 31,
   "id": "9daf8d64-d181-4583-bcf5-40d2c1efd520",
   "metadata": {},
   "outputs": [
    {
     "name": "stdout",
     "output_type": "stream",
     "text": [
      "1706750979.5311203\n"
     ]
    }
   ],
   "source": [
    "\n",
    "time=os.stat(\"prac.java\").st_mtime\n",
    "print(time)\n"
   ]
  },
  {
   "cell_type": "markdown",
   "id": "bda8f67e-6cde-4105-b3f7-ce98390420cc",
   "metadata": {},
   "source": [
    "## traverse through diectories"
   ]
  },
  {
   "cell_type": "code",
   "execution_count": 32,
   "id": "28c94caa-3f3b-4596-8e1b-0d8b4d306043",
   "metadata": {},
   "outputs": [
    {
     "name": "stdout",
     "output_type": "stream",
     "text": [
      "path: C:\\Users\\MAGANTI S\\Desktop\n",
      "dirs: ['content', 'E2 SEM1', 'E2 SEM2', 'Movies']\n",
      "files: ['course content.pdf', 'desktop.ini', 'Gmail.lnk', 'prac.c', 'prac.class', 'prac.html', 'prac.java', 'prac.js', 'prac.py']\n",
      "\n",
      "\n",
      "path: C:\\Users\\MAGANTI S\\Desktop\\content\n",
      "dirs: []\n",
      "files: []\n",
      "\n",
      "\n",
      "path: C:\\Users\\MAGANTI S\\Desktop\\E2 SEM1\n",
      "dirs: ['daa lab', 'dbms lab']\n",
      "files: []\n",
      "\n",
      "\n",
      "path: C:\\Users\\MAGANTI S\\Desktop\\E2 SEM1\\daa lab\n",
      "dirs: ['reference']\n",
      "files: ['1.1quicksort.c', '1.2mergesort.c', '1.3heapsort.c', '2transitive_closure.c', '3knapsack.c', '4allpairshortest.c', '5.1kruskal.c', '5.2prims.c', '6age.c', '7nqueen.c', 'DAA_LAB.pdf']\n",
      "\n",
      "\n",
      "path: C:\\Users\\MAGANTI S\\Desktop\\E2 SEM1\\daa lab\\reference\n",
      "dirs: []\n",
      "files: ['10Nqueen.c', '2transitiveclosure.c', '3knapsack.c', '4allpairshort.c', '6.1prims.c', '6.2kruskal.c', '7singleshortdist.c', '9sudoko.c', 'matrix_chain_mul.c']\n",
      "\n",
      "\n",
      "path: C:\\Users\\MAGANTI S\\Desktop\\E2 SEM1\\dbms lab\n",
      "dirs: []\n",
      "files: ['2adbmsboy.txt', 'company db.txt', 'RS201081_DE.txt', 'RS201081_DI.txt', 'sailor.txt']\n",
      "\n",
      "\n",
      "path: C:\\Users\\MAGANTI S\\Desktop\\E2 SEM2\n",
      "dirs: ['events', 'frames']\n",
      "files: ['form.css', 'form.html', 'formvalidation.html', 'formvalidation.js']\n",
      "\n",
      "\n",
      "path: C:\\Users\\MAGANTI S\\Desktop\\E2 SEM2\\events\n",
      "dirs: []\n",
      "files: ['calci.css', 'calci.html', 'calci.js', 'img.webp']\n",
      "\n",
      "\n",
      "path: C:\\Users\\MAGANTI S\\Desktop\\E2 SEM2\\frames\n",
      "dirs: []\n",
      "files: ['bio.html', 'book1.jpg', 'book2.jpg', 'cart.html', 'catalogue.html', 'cs.html', 'download.jpg', 'download1.png', 'head.html', 'his.html', 'home_page.html', 'left.html', 'login.html', 'registration.html', 'right.html']\n",
      "\n",
      "\n",
      "path: C:\\Users\\MAGANTI S\\Desktop\\Movies\n",
      "dirs: ['www.4MovieRulz.pe - Scam 1992 (2020) 1080p S-01 Ep-[01-10] WEB-DL AVC [Tel+Tam+Hin+Mal] 7.7GB ESub']\n",
      "files: ['@TroopOriginals_12th_Fail_2023_Telugu_HDRip_1080p_x264_HQ_Clean.mkv', 'Arjun Reddy (2017) Telugu (Uncensored) - WEB-HD - 1080p - A.mp4', 'Business Man 2012 Dual Audio [Telugu Hindi] 720p [MOVIEZADDA76.mp4', 'Guntur Kaaram (2024) Telugu HQ HDRip - 1080p - x264 - (DD+5.1 - 192Kbps & AAC) - 2.5GB - ESub - TroopOriginals.mkv.webm']\n",
      "\n",
      "\n",
      "path: C:\\Users\\MAGANTI S\\Desktop\\Movies\\www.4MovieRulz.pe - Scam 1992 (2020) 1080p S-01 Ep-[01-10] WEB-DL AVC [Tel+Tam+Hin+Mal] 7.7GB ESub\n",
      "dirs: []\n",
      "files: ['www.4MovieRulz.pe - Scam 1992 (2020) 1080p S01 EP 01 - Risk Se Ishq.mkv', 'www.4MovieRulz.pe - Scam 1992 (2020) 1080p S01 EP 02 - Cobra Killer.mkv', 'www.4MovieRulz.pe - Scam 1992 (2020) 1080p S01 EP 03 - Paise Ki Dukaan.mkv', 'www.4MovieRulz.pe - Scam 1992 (2020) 1080p S01 EP 04 - Harshad Mehta Is A liar.mkv', 'www.4MovieRulz.pe - Scam 1992 (2020) 1080p S01 EP 05 - Kundli Mein Shani.mkv', 'www.4MovieRulz.pe - Scam 1992 (2020) 1080p S01 EP 06 - Stop Press.mkv', 'www.4MovieRulz.pe - Scam 1992 (2020) 1080p S01 EP 07 - Dalal Street Ka Dariya.mkv', 'www.4MovieRulz.pe - Scam 1992 (2020) 1080p S01 EP 08 - Matador.mkv', 'www.4MovieRulz.pe - Scam 1992 (2020) 1080p S01 EP 09 - Ek Crore Ka Suitcase.mkv', 'www.4MovieRulz.pe - Scam 1992 (2020) 1080p S01 EP 10 - Main History Banana Chahta hoon.mkv']\n",
      "\n",
      "\n"
     ]
    }
   ],
   "source": [
    "for path,dirs,files in os.walk(os.getcwd()):\n",
    "    print(\"path:\",path)\n",
    "    print(\"dirs:\",dirs)\n",
    "    print(\"files:\",files)\n",
    "    print(\"\\n\")\n",
    "    "
   ]
  },
  {
   "cell_type": "markdown",
   "id": "82a72da9-0d57-4567-9639-67fec510cfb2",
   "metadata": {},
   "source": [
    "## some other methods"
   ]
  },
  {
   "cell_type": "code",
   "execution_count": 35,
   "id": "db2ce710-4851-4bc2-84fc-f9c086065128",
   "metadata": {},
   "outputs": [
    {
     "data": {
      "text/plain": [
       "environ{'ALLUSERSPROFILE': 'C:\\\\ProgramData',\n",
       "        'APPDATA': 'C:\\\\Users\\\\MAGANTI S\\\\AppData\\\\Roaming',\n",
       "        'CHOCOLATEYINSTALL': 'C:\\\\ProgramData\\\\chocolatey',\n",
       "        'CHOCOLATEYLASTPATHUPDATE': '133521445944270499',\n",
       "        'COMMONPROGRAMFILES': 'C:\\\\Program Files\\\\Common Files',\n",
       "        'COMMONPROGRAMFILES(X86)': 'C:\\\\Program Files (x86)\\\\Common Files',\n",
       "        'COMMONPROGRAMW6432': 'C:\\\\Program Files\\\\Common Files',\n",
       "        'COMPUTERNAME': 'SRIKANTH-MAGANT',\n",
       "        'COMSPEC': 'C:\\\\Windows\\\\system32\\\\cmd.exe',\n",
       "        'DRIVERDATA': 'C:\\\\Windows\\\\System32\\\\Drivers\\\\DriverData',\n",
       "        'EFC_4740': '1',\n",
       "        'FPS_BROWSER_APP_PROFILE_STRING': 'Internet Explorer',\n",
       "        'FPS_BROWSER_USER_PROFILE_STRING': 'Default',\n",
       "        'HOMEDRIVE': 'C:',\n",
       "        'HOMEPATH': '\\\\Users\\\\MAGANTI S',\n",
       "        'LOCALAPPDATA': 'C:\\\\Users\\\\MAGANTI S\\\\AppData\\\\Local',\n",
       "        'LOGONSERVER': '\\\\\\\\SRIKANTH-MAGANT',\n",
       "        'NUMBER_OF_PROCESSORS': '4',\n",
       "        'ONEDRIVE': 'C:\\\\Users\\\\MAGANTI S\\\\OneDrive',\n",
       "        'ONEDRIVECONSUMER': 'C:\\\\Users\\\\MAGANTI S\\\\OneDrive',\n",
       "        'OS': 'Windows_NT',\n",
       "        'PATH': 'C:\\\\ProgramData\\\\anaconda3;C:\\\\ProgramData\\\\anaconda3\\\\Library\\\\mingw-w64\\\\bin;C:\\\\ProgramData\\\\anaconda3\\\\Library\\\\usr\\\\bin;C:\\\\ProgramData\\\\anaconda3\\\\Library\\\\bin;C:\\\\ProgramData\\\\anaconda3\\\\Scripts;C:\\\\Program Files\\\\Python312\\\\Scripts\\\\;C:\\\\Program Files\\\\Python312\\\\;C:\\\\Program Files\\\\Common Files\\\\Oracle\\\\Java\\\\javapath;C:\\\\Windows\\\\system32;C:\\\\Windows;C:\\\\Windows\\\\System32\\\\Wbem;C:\\\\Windows\\\\System32\\\\WindowsPowerShell\\\\v1.0\\\\;C:\\\\Windows\\\\System32\\\\OpenSSH\\\\;C:\\\\MinGW\\\\bin;C:\\\\Program Files\\\\Java\\\\jdk-21\\\\bin;C:\\\\Program Files\\\\MySQL\\\\MySQL Server 8.0\\\\bin;C:\\\\Program Files\\\\Git\\\\cmd;C:\\\\Program Files\\\\Git\\\\mingw64\\\\bin;C:\\\\Program Files\\\\Git\\\\usr\\\\bin;C:\\\\Program Files\\\\nodejs\\\\;C:\\\\ProgramData\\\\chocolatey\\\\bin;C:\\\\Program Files\\\\MySQL\\\\MySQL Shell 8.0\\\\bin\\\\;C:\\\\Users\\\\MAGANTI S\\\\AppData\\\\Local\\\\Microsoft\\\\WindowsApps;C:\\\\Users\\\\MAGANTI S\\\\AppData\\\\Local\\\\Programs\\\\Microsoft VS Code\\\\bin;C:\\\\Users\\\\MAGANTI S\\\\AppData\\\\Roaming\\\\npm',\n",
       "        'PATHEXT': '.COM;.EXE;.BAT;.CMD;.VBS;.VBE;.JS;.JSE;.WSF;.WSH;.MSC;.PY;.PYW',\n",
       "        'PROCESSOR_ARCHITECTURE': 'AMD64',\n",
       "        'PROCESSOR_IDENTIFIER': 'AMD64 Family 23 Model 24 Stepping 1, AuthenticAMD',\n",
       "        'PROCESSOR_LEVEL': '23',\n",
       "        'PROCESSOR_REVISION': '1801',\n",
       "        'PROGRAMDATA': 'C:\\\\ProgramData',\n",
       "        'PROGRAMFILES': 'C:\\\\Program Files',\n",
       "        'PROGRAMFILES(X86)': 'C:\\\\Program Files (x86)',\n",
       "        'PROGRAMW6432': 'C:\\\\Program Files',\n",
       "        'PSMODULEPATH': '%ProgramFiles%\\\\WindowsPowerShell\\\\Modules;C:\\\\Windows\\\\system32\\\\WindowsPowerShell\\\\v1.0\\\\Modules',\n",
       "        'PUBLIC': 'C:\\\\Users\\\\Public',\n",
       "        'SESSIONNAME': 'Console',\n",
       "        'SYSTEMDRIVE': 'C:',\n",
       "        'SYSTEMROOT': 'C:\\\\Windows',\n",
       "        'TEMP': 'C:\\\\Users\\\\MAGANT~1\\\\AppData\\\\Local\\\\Temp',\n",
       "        'TMP': 'C:\\\\Users\\\\MAGANT~1\\\\AppData\\\\Local\\\\Temp',\n",
       "        'USERDOMAIN': 'SRIKANTH-MAGANT',\n",
       "        'USERDOMAIN_ROAMINGPROFILE': 'SRIKANTH-MAGANT',\n",
       "        'USERNAME': 'MAGANTI SRIKANTH',\n",
       "        'USERPROFILE': 'C:\\\\Users\\\\MAGANTI S',\n",
       "        'WINDIR': 'C:\\\\Windows',\n",
       "        'CONDA_PREFIX': 'C:\\\\ProgramData\\\\anaconda3',\n",
       "        'PYDEVD_USE_FRAME_EVAL': 'NO',\n",
       "        'JPY_SESSION_NAME': 'D:\\\\Data Science\\\\Python\\\\Untitled.ipynb',\n",
       "        'JPY_INTERRUPT_EVENT': '5048',\n",
       "        'IPY_INTERRUPT_EVENT': '5048',\n",
       "        'JPY_PARENT_PID': '1652',\n",
       "        'TERM': 'xterm-color',\n",
       "        'CLICOLOR': '1',\n",
       "        'FORCE_COLOR': '1',\n",
       "        'CLICOLOR_FORCE': '1',\n",
       "        'PAGER': 'cat',\n",
       "        'GIT_PAGER': 'cat',\n",
       "        'MPLBACKEND': 'module://matplotlib_inline.backend_inline'}"
      ]
     },
     "execution_count": 35,
     "metadata": {},
     "output_type": "execute_result"
    }
   ],
   "source": [
    "os.environ"
   ]
  },
  {
   "cell_type": "code",
   "execution_count": 34,
   "id": "d9398c04-4eb5-4f13-a9b4-f6ee2546cdf9",
   "metadata": {},
   "outputs": [
    {
     "data": {
      "text/plain": [
       "'\\\\Users\\\\MAGANTI S'"
      ]
     },
     "execution_count": 34,
     "metadata": {},
     "output_type": "execute_result"
    }
   ],
   "source": [
    "os.environ.get(\"HOMEPATH\")"
   ]
  },
  {
   "cell_type": "markdown",
   "id": "37dafce0-8d2e-4f15-aa3a-d94cb14a7f4f",
   "metadata": {},
   "source": [
    "### path methods"
   ]
  },
  {
   "cell_type": "code",
   "execution_count": 38,
   "id": "3353e1b2-4909-4a0c-82d4-9e9d06702982",
   "metadata": {},
   "outputs": [],
   "source": [
    "x=os.path.join(os.getcwd(),\"test.txt\")"
   ]
  },
  {
   "cell_type": "code",
   "execution_count": 39,
   "id": "e8b85f6d-a0af-4d4f-a431-655733846436",
   "metadata": {},
   "outputs": [
    {
     "data": {
      "text/plain": [
       "'test.txt'"
      ]
     },
     "execution_count": 39,
     "metadata": {},
     "output_type": "execute_result"
    }
   ],
   "source": [
    "os.path.basename(x)"
   ]
  },
  {
   "cell_type": "code",
   "execution_count": 40,
   "id": "9c38d48d-0a90-4527-9ee9-d41eda008930",
   "metadata": {},
   "outputs": [
    {
     "data": {
      "text/plain": [
       "'C:\\\\Users\\\\MAGANTI S\\\\Desktop'"
      ]
     },
     "execution_count": 40,
     "metadata": {},
     "output_type": "execute_result"
    }
   ],
   "source": [
    "os.path.dirname(x)"
   ]
  },
  {
   "cell_type": "code",
   "execution_count": 41,
   "id": "de79d4f6-04ad-4f3a-b2d8-532fd86eb99e",
   "metadata": {},
   "outputs": [
    {
     "data": {
      "text/plain": [
       "('C:\\\\Users\\\\MAGANTI S\\\\Desktop', 'test.txt')"
      ]
     },
     "execution_count": 41,
     "metadata": {},
     "output_type": "execute_result"
    }
   ],
   "source": [
    "os.path.split(x)"
   ]
  },
  {
   "cell_type": "code",
   "execution_count": 43,
   "id": "7e47f355-5ce4-4a08-bea0-c7b426ad4900",
   "metadata": {},
   "outputs": [
    {
     "data": {
      "text/plain": [
       "('C:\\\\Users\\\\MAGANTI S\\\\Desktop\\\\test', '.txt')"
      ]
     },
     "execution_count": 43,
     "metadata": {},
     "output_type": "execute_result"
    }
   ],
   "source": [
    "os.path.splitext(x)"
   ]
  },
  {
   "cell_type": "code",
   "execution_count": 44,
   "id": "1b02158b-b092-4d25-ad75-0e5f12d76a1b",
   "metadata": {},
   "outputs": [
    {
     "data": {
      "text/plain": [
       "False"
      ]
     },
     "execution_count": 44,
     "metadata": {},
     "output_type": "execute_result"
    }
   ],
   "source": [
    "os.path.exists(x)"
   ]
  },
  {
   "cell_type": "code",
   "execution_count": 46,
   "id": "d93f3975-3af9-4ea4-84d2-304ae18de724",
   "metadata": {},
   "outputs": [
    {
     "data": {
      "text/plain": [
       "True"
      ]
     },
     "execution_count": 46,
     "metadata": {},
     "output_type": "execute_result"
    }
   ],
   "source": [
    "os.path.isfile(\"prac.java\")"
   ]
  },
  {
   "cell_type": "code",
   "execution_count": 47,
   "id": "085bf791-3739-4cfd-ab2e-e6c550790a58",
   "metadata": {},
   "outputs": [
    {
     "data": {
      "text/plain": [
       "True"
      ]
     },
     "execution_count": 47,
     "metadata": {},
     "output_type": "execute_result"
    }
   ],
   "source": [
    "os.path.isdir(\"content\")"
   ]
  },
  {
   "cell_type": "code",
   "execution_count": null,
   "id": "2ce01e87-3f02-4e14-8171-6e13def79a1d",
   "metadata": {},
   "outputs": [],
   "source": []
  }
 ],
 "metadata": {
  "kernelspec": {
   "display_name": "Python 3 (ipykernel)",
   "language": "python",
   "name": "python3"
  },
  "language_info": {
   "codemirror_mode": {
    "name": "ipython",
    "version": 3
   },
   "file_extension": ".py",
   "mimetype": "text/x-python",
   "name": "python",
   "nbconvert_exporter": "python",
   "pygments_lexer": "ipython3",
   "version": "3.11.7"
  }
 },
 "nbformat": 4,
 "nbformat_minor": 5
}
